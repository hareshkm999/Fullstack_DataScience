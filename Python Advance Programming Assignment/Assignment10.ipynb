{
 "cells": [
  {
   "cell_type": "markdown",
   "metadata": {},
   "source": [
    "## Assignment10"
   ]
  },
  {
   "cell_type": "markdown",
   "metadata": {},
   "source": [
    "1. Create a function that takes the width, height and character and returns a picture frame as a 2D list.\n",
    "\n",
    "Examples\n",
    "\n",
    "get_frame(4, 5, \"#\") ➞ [\n",
    "[\"####\"],\n",
    "[\"#  #\"],\n",
    "[\"#  #\"],\n",
    "[\"#  #\"],\n",
    "[\"####\"]\n",
    "]\n",
    "# Frame is 4 characters wide and 5 characters tall.\n",
    "\n",
    "\n",
    "get_frame(10, 3, \"*\") ➞ [\n",
    "[\"**********\"],\n",
    "[\"*        *\"],\n",
    "[\"**********\"]\n",
    "]\n",
    "# Frame is 10 characters and wide and 3 characters tall.\n",
    "\n",
    "\n",
    "get_frame(2, 5, \"0\") ➞ \"invalid\"\n",
    "# Frame's width is not more than 2.\n"
   ]
  },
  {
   "cell_type": "code",
   "execution_count": 10,
   "metadata": {},
   "outputs": [
    {
     "name": "stdout",
     "output_type": "stream",
     "text": [
      "[['#', '#', '#', '#'], ['#', '#', '#', '#'], ['#', '#', '#', '#'], ['#', '#', '#', '#'], ['#', '#', '#', '#']]\n",
      "[['*', '*', '*', '*', '*', '*', '*', '*', '*', '*'], ['*', '*', '*', '*', '*', '*', '*', '*', '*', '*'], ['*', '*', '*', '*', '*', '*', '*', '*', '*', '*']]\n"
     ]
    },
    {
     "data": {
      "text/plain": [
       "[['0', '0'], ['0', '0'], ['0', '0'], ['0', '0'], ['0', '0']]"
      ]
     },
     "execution_count": 10,
     "metadata": {},
     "output_type": "execute_result"
    }
   ],
   "source": [
    "def get_frame(arg1, arg2, arg3):\n",
    "    row_num = arg2\n",
    "    col_num = arg1\n",
    "    multi_list = [[0 for col in range(col_num)] for row in range(row_num)]\n",
    "\n",
    "    for row in range(row_num):\n",
    "        for col in range(col_num):\n",
    "            multi_list[row][col]= arg3\n",
    "\n",
    "    return multi_list\n",
    "print(get_frame(4, 5, \"#\"))\n",
    "print(get_frame(10, 3, \"*\"))\n",
    "get_frame(2, 5, \"0\")"
   ]
  },
  {
   "cell_type": "markdown",
   "metadata": {},
   "source": [
    "### 2. Write three functions:\n",
    "\n",
    "1. boolean_and\n",
    "2. boolean_or\n",
    "3. boolean_xor\n",
    "These functions should evaluate a list of True and False values, starting from the leftmost element and evaluating pairwise.\n",
    "\n",
    "Examples\n",
    "\n",
    "boolean_and([True, True, False, True]) ➞ False\n",
    " [True, True, False, True] => [True, False, True] => [False, True] => False\n",
    "\n",
    "boolean_or([True, True, False, False]) ➞ True\n",
    "[True, True, False, True] => [True, False, False] => [True, False] => True\n",
    "\n",
    "boolean_xor([True, True, False, False]) ➞ False\n",
    "# [True, True, False, False] => [False, False, False] => [False, False] => False\n"
   ]
  },
  {
   "cell_type": "code",
   "execution_count": 42,
   "metadata": {},
   "outputs": [
    {
     "name": "stdout",
     "output_type": "stream",
     "text": [
      "boolean_and([True, True, False, True]) ➞  False\n",
      "boolean_or([True, True, False, False]) ➞  True\n",
      "boolean_xor([True, True, False, False]) ➞  True\n"
     ]
    }
   ],
   "source": [
    "def boolean_and(list1):\n",
    "    prod = 1\n",
    "    for i in list1:\n",
    "        prod *= i\n",
    "    return bool(prod)\n",
    "\n",
    "def boolean_or(list1):\n",
    "    return bool(sum(list1))\n",
    "\n",
    "def boolean_xor(list1):\n",
    "    prod = 1\n",
    "    for i in list1:\n",
    "        prod ^= i\n",
    "    return bool(prod)\n",
    "\n",
    "print(\"boolean_and([True, True, False, True]) ➞ \", boolean_and([True, True, False, True]))\n",
    "print(\"boolean_or([True, True, False, False]) ➞ \", boolean_or([True, True, False, False]))\n",
    "print(\"boolean_xor([True, True, False, False]) ➞ \",boolean_xor([True, True, False, False]))"
   ]
  },
  {
   "cell_type": "markdown",
   "metadata": {},
   "source": [
    "### 3. Create a function that creates a box based on dimension n.\n",
    "\n",
    "Examples\n",
    "\n",
    "make_box(5) ➞ [\n",
    "\"#####\",\n",
    "\"#   #\",\n",
    "\"#   #\",\n",
    "\"#   #\",\n",
    "\"#####\"\n",
    "]\n",
    "\n",
    "make_box(3) ➞ [\n",
    "\"###\",\n",
    "\"# #\",\n",
    "\"###\"\n",
    "]\n",
    "\n",
    "make_box(2) ➞ [\n",
    "\"##\",\n",
    "\"##\"\n",
    "]\n",
    "\n",
    "make_box(1) ➞ [\n",
    "\"#\"\n",
    "]\n"
   ]
  },
  {
   "cell_type": "code",
   "execution_count": 51,
   "metadata": {},
   "outputs": [
    {
     "name": "stdout",
     "output_type": "stream",
     "text": [
      "make_box(5) ➞  ['#####', '#####', '#####', '#####', '#####']\n",
      "make_box(3) ➞  ['###', '###', '###']\n",
      "make_box(2) ➞  ['##', '##']\n",
      "make_box(1) ➞  ['#']\n"
     ]
    }
   ],
   "source": [
    "def make_box(arg1):\n",
    "    list1 = []\n",
    "    for i in range(0, arg1):\n",
    "        list1.append(arg1*'#')\n",
    "    return list1\n",
    "\n",
    "print(\"make_box(5) ➞ \",  make_box(5))\n",
    "\n",
    "print(\"make_box(3) ➞ \", make_box(3))\n",
    "\n",
    "print(\"make_box(2) ➞ \", make_box(2))\n",
    "\n",
    "print(\"make_box(1) ➞ \", make_box(1))"
   ]
  },
  {
   "cell_type": "markdown",
   "metadata": {},
   "source": [
    "### 4. Given a common phrase, return False if any individual word in the phrase contains duplicate letters. Return True otherwise.\n",
    "\n",
    "Examples\n",
    "\n",
    "no_duplicate_letters(\"Fortune favours the bold.\") ➞ True\n",
    "\n",
    "no_duplicate_letters(\"You can lead a horse to water, but you can't make him drink.\") ➞ True\n",
    "\n",
    "no_duplicate_letters(\"Look before you leap.\") ➞ False\n",
    "# Duplicate letters in \"Look\" and \"before\".\n",
    "\n",
    "no_duplicate_letters(\"An apple a day keeps the doctor away.\") ➞ False\n",
    "# Duplicate letters in \"apple\", \"keeps\", \"doctor\", and \"away\".\n",
    "\n"
   ]
  },
  {
   "cell_type": "code",
   "execution_count": 86,
   "metadata": {},
   "outputs": [
    {
     "name": "stdout",
     "output_type": "stream",
     "text": [
      "True\n",
      "False\n",
      "True\n"
     ]
    }
   ],
   "source": [
    "from collections import Counter \n",
    "def no_duplicate_letters(input):\n",
    "    #converting given list to lower case\n",
    "    input = input.lower()  \n",
    "    # first split given string separated by space \n",
    "    # into words \n",
    "    words = input.split(' ') \n",
    "      \n",
    "    # now convert list of words into dictionary \n",
    "    dict = Counter(words) \n",
    "    # traverse list of words and check which first word \n",
    "    # has frequency > 1 \n",
    "    for key in words: \n",
    "        if dict[key]>1: \n",
    "            return False\n",
    "        else:\n",
    "            return True\n",
    "        \n",
    "print(no_duplicate_letters(\"Fortune favours the bold.\"))\n",
    "\n",
    "print(no_duplicate_letters(\"You can lead a horse to water, but you can't make him drink.\"))\n",
    "\n",
    "print(no_duplicate_letters(\"Look before you leap.\"))"
   ]
  },
  {
   "cell_type": "markdown",
   "metadata": {},
   "source": [
    "### 5. Write a regular expression that will match the states that voted yes to President Trump's impeachment. You must use RegEx positive lookahead.\n",
    "\n",
    "Example\n",
    "\n",
    "txt = \"Texas = no, California = yes, Florida = yes, Michigan = no\"\n",
    "pattern = \"yourregularexpressionhere\"\n",
    "\n",
    "re.findall(pattern, txt) ➞ [\"California\", \"Florida\"]\n"
   ]
  },
  {
   "cell_type": "code",
   "execution_count": 129,
   "metadata": {},
   "outputs": [
    {
     "name": "stdout",
     "output_type": "stream",
     "text": [
      "['California', 'Florida']\n"
     ]
    }
   ],
   "source": [
    "txt = \"Texas = no, California = yes, Florida = yes, Michigan = no\"\n",
    "txt = txt.split(\",\")\n",
    "list5 = []\n",
    "for i in txt:\n",
    "    if bool(re.findall(\"= yes\", i)) == True:\n",
    "        list5.append(i.split()[0])\n",
    "print(list5)"
   ]
  },
  {
   "cell_type": "code",
   "execution_count": null,
   "metadata": {},
   "outputs": [],
   "source": []
  }
 ],
 "metadata": {
  "kernelspec": {
   "display_name": "Python 3",
   "language": "python",
   "name": "python3"
  },
  "language_info": {
   "codemirror_mode": {
    "name": "ipython",
    "version": 3
   },
   "file_extension": ".py",
   "mimetype": "text/x-python",
   "name": "python",
   "nbconvert_exporter": "python",
   "pygments_lexer": "ipython3",
   "version": "3.8.3"
  }
 },
 "nbformat": 4,
 "nbformat_minor": 4
}
