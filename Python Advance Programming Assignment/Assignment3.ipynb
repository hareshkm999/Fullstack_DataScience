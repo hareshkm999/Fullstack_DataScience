{
 "cells": [
  {
   "cell_type": "markdown",
   "metadata": {},
   "source": [
    "## Assignment3"
   ]
  },
  {
   "cell_type": "markdown",
   "metadata": {},
   "source": [
    "#### 1. Create a function to perform basic arithmetic operations that includes addition, subtraction, multiplication and division on a string number (e.g. \"12 + 24\" or \"23 - 21\" or \"12 // 12\" or \"12 * 21\")."
   ]
  },
  {
   "cell_type": "code",
   "execution_count": 1,
   "metadata": {},
   "outputs": [
    {
     "name": "stdout",
     "output_type": "stream",
     "text": [
      "24\n",
      "0\n",
      "144\n",
      "Denominatior must not be zero\n"
     ]
    }
   ],
   "source": [
    "import logging as lg\n",
    "lg.basicConfig(filename = 'test2.log',level = lg.INFO,format = '%(asctime)s %(message)s')\n",
    "def arithmetic_operation(string1):\n",
    "    x = string1.split()\n",
    "    if x[1]=='+':\n",
    "        lg.info(\"addition function used\")   \n",
    "        return (int(x[0]) + int(x[2]))\n",
    "    elif x[1]=='-':\n",
    "        lg.info(\"Substraction function used\")   \n",
    "        return (int(x[0]) - int(x[2]))\n",
    "    elif x[1]=='*':\n",
    "        lg.info(\"multiplication function used\")   \n",
    "        return (int(x[0]) * int(x[2]))\n",
    "    elif x[1]=='//':\n",
    "        try:\n",
    "            lg.info(\"Division function used\")   \n",
    "            a = (int(x[0]) // int(x[2]))\n",
    "            return a\n",
    "        except ZeroDivisionError as e:\n",
    "            return \"Denominatior must not be zero\"\n",
    "        \n",
    "        \n",
    "print(arithmetic_operation(\"12 + 12\"))\n",
    "\n",
    "print(arithmetic_operation(\"12 - 12\"))\n",
    "\n",
    "print(arithmetic_operation(\"12 * 12\"))\n",
    "\n",
    "print(arithmetic_operation(\"12 // 0\"))\n",
    " "
   ]
  },
  {
   "cell_type": "markdown",
   "metadata": {},
   "source": [
    "### 2. Write a function that takes the coordinates of three points in the form of a 2d array and returns the perimeter of the triangle. The given points are the vertices of a triangle on a two-dimensional plane.\n",
    "\n",
    "Examples\n",
    "\n",
    "perimeter( [ [15, 7], [5, 22], [11, 1] ] ) ➞ 47.08\n",
    "\n",
    "perimeter( [ [0, 0], [0, 1], [1, 0] ] ) ➞ 3.42\n",
    "\n",
    "perimeter( [ [-10, -10], [10, 10 ], [-10, 10] ] ) ➞ 68.28\n"
   ]
  },
  {
   "cell_type": "code",
   "execution_count": 17,
   "metadata": {},
   "outputs": [
    {
     "name": "stdout",
     "output_type": "stream",
     "text": [
      "perimeter( [ [15, 7], [5, 22], [11, 1] ] ) ➞  47.08\n",
      "perimeter( [ [0, 0], [0, 1], [1, 0] ] ) ➞  3.41\n",
      "perimeter( [ [-10, -10], [10, 10 ], [-10, 10] ] ) ➞  68.28\n"
     ]
    }
   ],
   "source": [
    "import math\n",
    "\n",
    "def perimeter(list2):\n",
    "    # distributing and assigning points\n",
    "    a, b, c = list2[0], list2[1], list2[2]\n",
    "    return round(math.dist(a, b) + math.dist(b, c) + math.dist(c, a), 2)\n",
    "\n",
    "print(\"perimeter( [ [15, 7], [5, 22], [11, 1] ] ) ➞ \", perimeter( [ [15, 7], [5, 22], [11, 1] ] ))\n",
    "\n",
    "print(\"perimeter( [ [0, 0], [0, 1], [1, 0] ] ) ➞ \", perimeter( [ [0, 0], [0, 1], [1, 0] ] ))\n",
    "\n",
    "print(\"perimeter( [ [-10, -10], [10, 10 ], [-10, 10] ] ) ➞ \", perimeter( [ [-10, -10], [10, 10 ], [-10, 10] ] ))\n",
    "\n"
   ]
  },
  {
   "cell_type": "markdown",
   "metadata": {},
   "source": [
    "### 3. A city skyline can be represented as a 2-D list with 1s representing buildings. In the example below, the height of the tallest building is 4 (second-most right column).\n",
    "\n",
    "[[0, 0, 0, 0, 0, 0],\n",
    "[0, 0, 0, 0, 1, 0],\n",
    "[0, 0, 1, 0, 1, 0],\n",
    "[0, 1, 1, 1, 1, 0],\n",
    "[1, 1, 1, 1, 1, 1]]\n",
    "\n",
    "Create a function that takes a skyline (2-D list of 0's and 1's) and returns the height of the tallest skyscraper.\n",
    "\n",
    "Examples\n",
    "\n",
    "tallest_skyscraper([\n",
    "[0, 0, 0, 0],\n",
    "[0, 1, 0, 0],\n",
    "[0, 1, 1, 0],\n",
    "[1, 1, 1, 1]\n",
    "]) ➞ 3\n",
    "\n",
    "tallest_skyscraper([\n",
    "[0, 1, 0, 0],\n",
    "[0, 1, 0, 0],\n",
    "[0, 1, 1, 0],\n",
    "[1, 1, 1, 1]\n",
    "]) ➞ 4\n",
    "\n",
    "tallest_skyscraper([\n",
    "[0, 0, 0, 0],\n",
    "[0, 0, 0, 0],\n",
    "[1, 1, 1, 0],\n",
    "[1, 1, 1, 1]\n",
    "]) ➞ 2\n"
   ]
  },
  {
   "cell_type": "code",
   "execution_count": 153,
   "metadata": {},
   "outputs": [
    {
     "name": "stdout",
     "output_type": "stream",
     "text": [
      "tallest_skyscraper([ [0, 0, 0, 0], [0, 1, 0, 0], [0, 1, 1, 0], [1, 1, 1, 1] ]) ➞  3\n",
      "tallest_skyscraper([ [0, 1, 0, 0], [0, 1, 0, 0], [0, 1, 1, 0], [1, 1, 1, 1] ]) ➞  4\n",
      "tallest_skyscraper([ [0, 0, 0, 0], [0, 0, 0, 0], [1, 1, 1, 0], [1, 1, 1, 1] ]) ➞  2\n"
     ]
    }
   ],
   "source": [
    "import pandas as pd\n",
    "\n",
    "def tallest_skyscraper(list3):\n",
    "    # creating dictionary out of list\n",
    "    dict1 = {}\n",
    "    for i in range(0, len(list3)):\n",
    "        dict1[i] = list3[i]\n",
    "    # creating data frmae \n",
    "    df = pd.DataFrame(dict1)\n",
    "    df1 = df.transpose()\n",
    "    list1 = []\n",
    "    for i in range(0, len(df1.columns)):\n",
    "        list1.append(df1[i].sum())\n",
    "    return max(list1)\n",
    "\n",
    "print(\"tallest_skyscraper([ [0, 0, 0, 0], [0, 1, 0, 0], [0, 1, 1, 0], [1, 1, 1, 1] ]) ➞ \",  tallest_skyscraper([ [0, 0, 0, 0], [0, 1, 0, 0], [0, 1, 1, 0], [1, 1, 1, 1] ]))\n",
    "\n",
    "print(\"tallest_skyscraper([ [0, 1, 0, 0], [0, 1, 0, 0], [0, 1, 1, 0], [1, 1, 1, 1] ]) ➞ \", tallest_skyscraper([ [0, 1, 0, 0], [0, 1, 0, 0], [0, 1, 1, 0], [1, 1, 1, 1] ]))\n",
    "\n",
    "print(\"tallest_skyscraper([ [0, 0, 0, 0], [0, 0, 0, 0], [1, 1, 1, 0], [1, 1, 1, 1] ]) ➞ \", tallest_skyscraper([ [0, 0, 0, 0], [0, 0, 0, 0], [1, 1, 1, 0], [1, 1, 1, 1] ]))\n",
    "    "
   ]
  },
  {
   "cell_type": "markdown",
   "metadata": {},
   "source": [
    "### 4. A financial institution provides professional services to banks and claims charges from the customers based on the number of man-days provided. Internally, it has set a scheme to motivate and reward staff to meet and exceed targeted billable utilization and revenues by paying a bonus for each day claimed from customers in excess of a threshold target.\n",
    "\n",
    "This quarterly scheme is calculated with a threshold target of 32 days per quarter, and the incentive payment for each billable day in excess of such threshold target is shown as follows:\n",
    "\n",
    "Days\t                             Bonus\n",
    "0 to 32 days\t                   Zero\n",
    "33 to 40 days\t         SGD$325 per billable day\n",
    "41 to 48 days\t         SGD$550 per billable day\n",
    "Greater than 48 days      SGD$600 per billable day\n",
    "\n",
    "Please note that incentive payment is calculated progressively. As an example, if an employee reached total billable days of 45 in a quarter, his/her incentive payment is computed as follows:\n",
    "\n",
    "32*0 + 8*325 + 5*550 = 5350\n",
    "\n",
    "Write a function to read the billable days of an employee and return the bonus he/she has obtained in that quarter.\n",
    "\n",
    "Examples\n",
    "\n",
    "bonus(15) ➞ 0\n",
    "\n",
    "bonus(37) ➞ 1625\n",
    "\n",
    "bonus(50) ➞ 8200\n"
   ]
  },
  {
   "cell_type": "code",
   "execution_count": 194,
   "metadata": {},
   "outputs": [
    {
     "name": "stdout",
     "output_type": "stream",
     "text": [
      "bonus(15) ➞  0\n",
      "bonus(37) ➞  1625\n",
      "bonus(50) ➞  8200\n"
     ]
    }
   ],
   "source": [
    "def bonus(num):\n",
    "    if num > 48:\n",
    "        a, b, c, d = 32, 8, 8, num-48\n",
    "        return (a*0 + b*325 + c*550 + d*600)\n",
    "\n",
    "    elif num > 40 and num < 49:\n",
    "        a, b, c = 32, 8, num-40\n",
    "        return (a*0 + b*325 + c*550)\n",
    "    \n",
    "    elif num > 32 and num < 41:\n",
    "        a, b = 32, num-32\n",
    "        return (a*0 + b*325)\n",
    "    else:\n",
    "        return 0\n",
    "    \n",
    "print(\"bonus(15) ➞ \", bonus(15))\n",
    "print(\"bonus(37) ➞ \", bonus(37))\n",
    "print(\"bonus(50) ➞ \", bonus(50))"
   ]
  },
  {
   "cell_type": "markdown",
   "metadata": {},
   "source": [
    "### 5. A number is said to be Disarium if the sum of its digits raised to their respective positions is the number itself.\n",
    "\n",
    "Create a function that determines whether a number is a Disarium or not.\n",
    "\n",
    "Examples\n",
    "\n",
    "is_disarium(75) ➞ False\n",
    "# 7^1 + 5^2 = 7 + 25 = 32\n",
    "\n",
    "is_disarium(135) ➞ True\n",
    "# 1^1 + 3^2 + 5^3 = 1 + 9 + 125 = 135\n",
    "\n",
    "is_disarium(544) ➞ False\n",
    "\n",
    "is_disarium(518) ➞ True\n",
    "\n",
    "is_disarium(466) ➞ False\n",
    "\n",
    "is_disarium(8) ➞ True\n"
   ]
  },
  {
   "cell_type": "code",
   "execution_count": 228,
   "metadata": {},
   "outputs": [
    {
     "name": "stdout",
     "output_type": "stream",
     "text": [
      "is_disarium(544) ➞  False\n",
      "is_disarium(518) ➞  True\n",
      "is_disarium(466) ➞  False\n",
      "is_disarium(8) ➞  True\n"
     ]
    }
   ],
   "source": [
    "def is_disarium(num):\n",
    "    sum = 0\n",
    "    for i in range(1, len(str(num))+1):\n",
    "        sum +=int(str(num)[i-1])**(i)\n",
    "    if num == sum:\n",
    "        return \"True\"\n",
    "    else:\n",
    "        return \"False\"\n",
    "\n",
    "print(\"is_disarium(544) ➞ \", is_disarium(544))\n",
    "print(\"is_disarium(518) ➞ \", is_disarium(518))\n",
    "print(\"is_disarium(466) ➞ \", is_disarium(466))\n",
    "print(\"is_disarium(8) ➞ \", is_disarium(8))"
   ]
  }
 ],
 "metadata": {
  "kernelspec": {
   "display_name": "Python 3",
   "language": "python",
   "name": "python3"
  },
  "language_info": {
   "codemirror_mode": {
    "name": "ipython",
    "version": 3
   },
   "file_extension": ".py",
   "mimetype": "text/x-python",
   "name": "python",
   "nbconvert_exporter": "python",
   "pygments_lexer": "ipython3",
   "version": "3.8.3"
  }
 },
 "nbformat": 4,
 "nbformat_minor": 4
}
