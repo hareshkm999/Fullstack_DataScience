{
 "cells": [
  {
   "cell_type": "markdown",
   "metadata": {},
   "source": [
    "## Assignment12"
   ]
  },
  {
   "cell_type": "markdown",
   "metadata": {},
   "source": [
    "### 1. For this challenge, forget how to add two numbers together. The best explanation on what to do for this function is this meme:\n",
    "\n",
    "\n",
    "\n",
    "\n",
    "Examples\n",
    "\n",
    "meme_sum(26, 39) ➞ 515\n",
    "# 2+3 = 5, 6+9 = 15\n",
    "# 26 + 39 = 515\n",
    "\n",
    "meme_sum(122, 81) ➞ 1103\n",
    "# 1+0 = 1, 2+8 = 10, 2+1 = 3\n",
    "# 122 + 81 = 1103\n",
    "\n",
    "meme_sum(1222, 30277) ➞ 31499\n"
   ]
  },
  {
   "cell_type": "code",
   "execution_count": 10,
   "metadata": {},
   "outputs": [
    {
     "name": "stdout",
     "output_type": "stream",
     "text": [
      "meme_sum(26, 39) ➞  515\n"
     ]
    }
   ],
   "source": [
    "import numpy as np\n",
    "\n",
    "def get_pos_nums(num):\n",
    "    pos_nums = []\n",
    "    while num != 0:\n",
    "        pos_nums.append(num % 10)\n",
    "        num = num // 10\n",
    "    return pos_nums\n",
    "\n",
    "def meme_sum(num1, num2):\n",
    "    \n",
    "    #calling get_pos_nums function\n",
    "    list1 = get_pos_nums(num1)\n",
    "    list2 = get_pos_nums(num2)\n",
    "    \n",
    "    if len(list1) > len(list2):\n",
    "        for i in  range(0, len(list1)-len(list2)):\n",
    "            list2.insert(0, 0)\n",
    "        \n",
    "    list2.reverse()\n",
    "    list1.reverse()\n",
    "    \n",
    "    \n",
    "    a =np.array(list1)\n",
    "    b = np.array(list2)\n",
    "    \n",
    "    list3 = []\n",
    "    for i in a+b:\n",
    "        list3.append(i)\n",
    "        \n",
    "    list4 = []\n",
    "    for i in list3:\n",
    "        list4.append(str(i))\n",
    "    \n",
    "    \n",
    "    str1 = ''\n",
    "    for i in list4:\n",
    "        str1 = str1 + i\n",
    "    return str1\n",
    "\n",
    "print(\"meme_sum(26, 39) ➞ \", meme_sum(26, 39))\n",
    "\n",
    "    "
   ]
  },
  {
   "cell_type": "markdown",
   "metadata": {},
   "source": [
    "### 2. Given an integer, create a function that returns the next prime. If the number is prime, return the number itself.\n",
    "\n",
    "Examples\n",
    "\n",
    "next_prime(12) ➞ 13\n",
    "\n",
    "next_prime(24) ➞ 29\n",
    "\n",
    "next_prime(11) ➞ 11\n",
    "# 11 is a prime, so we return the number itself.\n"
   ]
  },
  {
   "cell_type": "code",
   "execution_count": 19,
   "metadata": {},
   "outputs": [
    {
     "name": "stdout",
     "output_type": "stream",
     "text": [
      "next_prime(12) ➞ 13\n",
      "next_prime(24) ➞ 29\n",
      "next_prime(11) ➞  13\n"
     ]
    }
   ],
   "source": [
    "import math\n",
    " \n",
    "# Function that returns True if n\n",
    "# is prime else returns False\n",
    "def isPrime(n):\n",
    "     \n",
    "    # Corner cases\n",
    "    if(n <= 1):\n",
    "        return False\n",
    "    if(n <= 3):\n",
    "        return True\n",
    "     \n",
    "    # This is checked so that we can skip\n",
    "    # middle five numbers in below loop\n",
    "    if(n % 2 == 0 or n % 3 == 0):\n",
    "        return False\n",
    "     \n",
    "    for i in range(5,int(math.sqrt(n) + 1), 6):\n",
    "        if(n % i == 0 or n % (i + 2) == 0):\n",
    "            return False\n",
    "     \n",
    "    return True\n",
    " \n",
    "# Function to return the smallest\n",
    "# prime number greater than N\n",
    "def nextPrime(N):\n",
    " \n",
    "    # Base case\n",
    "    if (N <= 1):\n",
    "        return 2\n",
    " \n",
    "    prime = N\n",
    "    found = False\n",
    " \n",
    "    # Loop continuously until isPrime returns\n",
    "    # True for a number greater than n\n",
    "    while(not found):\n",
    "        prime = prime + 1\n",
    " \n",
    "        if(isPrime(prime) == True):\n",
    "            found = True\n",
    " \n",
    "    return prime\n",
    "\n",
    "print(\"next_prime(12) ➞\", nextPrime(12))\n",
    "\n",
    "print(\"next_prime(24) ➞\", nextPrime(24))\n",
    "\n",
    "print(\"next_prime(11) ➞ \", nextPrime(11))"
   ]
  },
  {
   "cell_type": "markdown",
   "metadata": {},
   "source": [
    "### 3. If a person traveled up a hill for 18mins at 20mph and then traveled back down the same path at 60mph then their average speed traveled was 30mph.\n",
    "\n",
    "Write a function that returns the average speed traveled given an uphill time, uphill rate and a downhill rate. Uphill time is given in minutes. Return the rate as an integer (mph). No rounding is necessary.\n",
    "\n",
    "Examples\n",
    "\n",
    "ave_spd(18, 20, 60) ➞ 30\n",
    "\n",
    "ave_spd(30, 10, 30) ➞ 15\n",
    "\n",
    "ave_spd(30, 8, 24) ➞ 12\n",
    "\n"
   ]
  },
  {
   "cell_type": "code",
   "execution_count": 58,
   "metadata": {},
   "outputs": [
    {
     "name": "stdout",
     "output_type": "stream",
     "text": [
      "ave_spd(18, 20, 60) ➞ 30\n",
      "ave_spd(30, 10, 30) ➞  16\n",
      "ave_spd(30, 8, 24) ➞ 13\n"
     ]
    }
   ],
   "source": [
    "def ave_spd(t1, v1, v2):\n",
    "    \n",
    "    hours1 = t1/60\n",
    "    distance = v1*hours1\n",
    "    hours2 = distance/v2    \n",
    "    return int(distance*2/(hours1+t2))\n",
    "\n",
    "print(\"ave_spd(18, 20, 60) ➞\", ave_spd(18, 20, 60))\n",
    "\n",
    "print(\"ave_spd(30, 10, 30) ➞ \", ave_spd(30, 10, 30))\n",
    "\n",
    "print(\"ave_spd(30, 8, 24) ➞\",ave_spd(30, 8, 24))\n",
    "\n"
   ]
  },
  {
   "cell_type": "markdown",
   "metadata": {},
   "source": [
    "### 4. The Kempner Function, applied to a composite number, permits to find the smallest integer greater than zero whose factorial is exactly divided by the number.\n",
    "\n",
    "kempner(6) ➞ 3\n",
    "\n",
    "1! = 1 % 6 > 0\n",
    "2! = 2 % 6 > 0\n",
    "3! = 6 % 6 === 0\n",
    "\n",
    "kempner(10) ➞ 5\n",
    "\n",
    "1! = 1 % 10 > 0\n",
    "2! = 2 % 10 > 0\n",
    "3! = 6 % 10 > 0\n",
    "4! = 24 % 10 > 0\n",
    "5! = 120 % 10 === 0\n",
    "\n",
    "A Kempner Function applied to a prime will always return the prime itself.\n",
    "\n",
    "kempner(2) ➞ 2\n",
    "kempner(5) ➞ 5\n",
    "\n",
    "Given an integer n, implement a Kempner Function.\n"
   ]
  },
  {
   "cell_type": "code",
   "execution_count": 80,
   "metadata": {},
   "outputs": [
    {
     "name": "stdout",
     "output_type": "stream",
     "text": [
      "3\n",
      "5\n",
      "2\n",
      "5\n"
     ]
    }
   ],
   "source": [
    "from math import factorial\n",
    "def kempner(num):\n",
    "    for i in range(1, num +1):\n",
    "        if factorial(i)%num == 0:\n",
    "            result = i\n",
    "            break\n",
    "    return result\n",
    "\n",
    "print(kempner(6))\n",
    "print(kempner(10))\n",
    "print(kempner(2))\n",
    "print(kempner(5))"
   ]
  },
  {
   "cell_type": "markdown",
   "metadata": {},
   "source": [
    "### 5. You work in a factory, and your job is to take items from a conveyor belt and pack them into boxes. Each box can hold a maximum of 10 kgs. Given a list containing the weight (in kg) of each item, how many boxes would you need to pack all of the items?\n",
    "\n",
    "Example\n",
    "\n",
    "boxes([2, 1, 2, 5, 4, 3, 6, 1, 1, 9, 3, 2]) ➞ 5\n",
    "\n",
    "# Box 1 = [2, 1, 2, 5] (10kg)\n",
    "# Box 2 = [4, 3] (7kg)\n",
    "# Box 3 = [6, 1, 1] (8kg)\n",
    "# Box 4 = [9] (9kg)\n",
    "# Box 5 = [3, 2] (5kg)\n"
   ]
  },
  {
   "cell_type": "code",
   "execution_count": 92,
   "metadata": {},
   "outputs": [],
   "source": [
    "list1 = [2, 1, 2, 5, 4, 3, 6, 1, 1, 9, 3, 2]\n",
    "sum = 0\n",
    "for i in list1:\n",
    "    \n",
    "    list2 = []\n",
    "    sum = sum + i\n",
    "    if sum == 10:\n",
    "        list2.append(1)\n",
    "        sum = 0"
   ]
  },
  {
   "cell_type": "code",
   "execution_count": 96,
   "metadata": {},
   "outputs": [],
   "source": [
    "sum = 0\n",
    "for i in list1:\n",
    "    sum += i\n",
    "    if sum <= 10:\n",
    "        list2.append(sum)"
   ]
  },
  {
   "cell_type": "code",
   "execution_count": 97,
   "metadata": {},
   "outputs": [
    {
     "data": {
      "text/plain": [
       "[2, 3, 5, 10]"
      ]
     },
     "execution_count": 97,
     "metadata": {},
     "output_type": "execute_result"
    }
   ],
   "source": [
    "list2"
   ]
  },
  {
   "cell_type": "code",
   "execution_count": null,
   "metadata": {},
   "outputs": [],
   "source": []
  }
 ],
 "metadata": {
  "kernelspec": {
   "display_name": "Python 3",
   "language": "python",
   "name": "python3"
  },
  "language_info": {
   "codemirror_mode": {
    "name": "ipython",
    "version": 3
   },
   "file_extension": ".py",
   "mimetype": "text/x-python",
   "name": "python",
   "nbconvert_exporter": "python",
   "pygments_lexer": "ipython3",
   "version": "3.8.3"
  }
 },
 "nbformat": 4,
 "nbformat_minor": 4
}
