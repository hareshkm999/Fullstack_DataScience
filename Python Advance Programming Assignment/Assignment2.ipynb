{
 "cells": [
  {
   "cell_type": "markdown",
   "metadata": {},
   "source": [
    "## Assignment2"
   ]
  },
  {
   "cell_type": "markdown",
   "metadata": {},
   "source": [
    "#### 1. Write a function that takes a positive integer num and calculates how many dots exist in a pentagonal shape around the center dot on the Nth iteration.\n",
    "\n",
    "In the image below you can see the first iteration is only a single dot. On the second, there are 6 dots. On the third, there are 16 dots, and on the fourth there are 31 dots.\n",
    "\n",
    "\n",
    "\n",
    "\n",
    "\n",
    "\n",
    "\n",
    "\n",
    "Return the number of dots that exist in the whole pentagon on the Nth iteration.\n",
    "\n",
    "Examples\n",
    "\n",
    "pentagonal(1) ➞ 1\n",
    "\n",
    "pentagonal(2) ➞ 6\n",
    "\n",
    "pentagonal(3) ➞ 16\n",
    "\n",
    "pentagonal(8) ➞ 141\n",
    "\n"
   ]
  },
  {
   "cell_type": "code",
   "execution_count": 9,
   "metadata": {},
   "outputs": [
    {
     "name": "stdout",
     "output_type": "stream",
     "text": [
      "pentagonal(1) ➞  1\n",
      "pentagonal(2) ➞  6\n",
      "pentagonal(3) ➞  16\n",
      "pentagonal(8) ➞  141\n"
     ]
    }
   ],
   "source": [
    "def pentagonal(num): \n",
    "    num = num - 1\n",
    "    number = ((5*(num**2)) + (5*num) + 2) / 2 \n",
    "    return int(number)\n",
    "\n",
    "print(\"pentagonal(1) ➞ \", pentagonal(1))\n",
    "print(\"pentagonal(2) ➞ \", pentagonal(2))\n",
    "print(\"pentagonal(3) ➞ \", pentagonal(3))\n",
    "print(\"pentagonal(8) ➞ \", pentagonal(8))"
   ]
  },
  {
   "cell_type": "markdown",
   "metadata": {},
   "source": [
    "#### 2.  Make a function that encrypts a given input with these steps:\n",
    "\n",
    "Input: \"apple\"\n",
    "\n",
    "Step 1: Reverse the input: \"elppa\"\n",
    "\n",
    "Step 2: Replace all vowels using the following chart:\n",
    "\n",
    "a => 0\n",
    "e => 1\n",
    "i => 2\n",
    "o => 2\n",
    "u => 3\n",
    "\n",
    "# \"1lpp0\"\n",
    "\n",
    "Step 3: Add \"aca\" to the end of the word: \"1lpp0aca\"\n",
    "\n",
    "Output: \"1lpp0aca\"\n",
    "\n",
    "Examples\n",
    "\n",
    "encrypt(\"banana\") ➞ \"0n0n0baca\"\n",
    "\n",
    "encrypt(\"karaca\") ➞ \"0c0r0kaca\"\n",
    "\n",
    "encrypt(\"burak\") ➞ \"k0r3baca\"\n",
    "\n",
    "encrypt(\"alpaca\") ➞ \"0c0pl0aca\"\n"
   ]
  },
  {
   "cell_type": "code",
   "execution_count": 41,
   "metadata": {},
   "outputs": [
    {
     "name": "stdout",
     "output_type": "stream",
     "text": [
      "0n0n0baca\n",
      "0c0r0kaca\n",
      "k0rubaca\n",
      "0c0pl0aca\n"
     ]
    }
   ],
   "source": [
    "\n",
    "def encrypt(string2):\n",
    "    # reverse the string\n",
    "    string21 = string2[::-1]\n",
    "    # dict of encrypt\n",
    "    dict1 = {'a': 0, 'e':1, 'i':2, 'o':2, 'u':3}\n",
    "    list2 = []\n",
    "    # preparing list and returning string \n",
    "    for i in string21:\n",
    "        if i in ['a', 'e', 'o', 'i']:\n",
    "            list2.append(dict1[i])\n",
    "        else:\n",
    "            list2.append(i)\n",
    "    return ''.join(map(str,list2))  + \"aca\"\n",
    "\n",
    "print(encrypt(\"banana\"))\n",
    "print(encrypt(\"karaca\"))\n",
    "print(encrypt(\"burak\") )\n",
    "print(encrypt(\"alpaca\"))"
   ]
  },
  {
   "cell_type": "markdown",
   "metadata": {},
   "source": [
    "### 3. Given the month and year as numbers, return whether that month contains a Friday 13th.(i.e You can check Python's datetime module)\n",
    "\n",
    "Examples\n",
    "\n",
    "has_friday_13(3, 2020) ➞ True\n",
    "\n",
    "has_friday_13(10, 2017) ➞ True\n",
    "\n",
    "has_friday_13(1, 1985) ➞ False\n"
   ]
  },
  {
   "cell_type": "code",
   "execution_count": 74,
   "metadata": {},
   "outputs": [
    {
     "name": "stdout",
     "output_type": "stream",
     "text": [
      "has_friday_13(3, 2020) ➞  True\n",
      "has_friday_13(10, 2017) ➞  True\n",
      "has_friday_13(1, 1985) ➞  False\n"
     ]
    }
   ],
   "source": [
    "import datetime\n",
    "import calendar\n",
    "\n",
    "def has_friday_13(a, b):\n",
    "    #converting args to string\n",
    "    date = '13'+ ' '+ str(a) + ' '+ str(b)\n",
    "    # finding a day number in week\n",
    "    born = datetime.datetime.strptime(date, '%d %m %Y').weekday()\n",
    "    if calendar.day_name[born] == 'Friday':\n",
    "        return 'True'\n",
    "    else:\n",
    "        return 'False'\n",
    "    \n",
    "print(\"has_friday_13(3, 2020) ➞ \", has_friday_13(3, 2020))\n",
    "print(\"has_friday_13(10, 2017) ➞ \", has_friday_13(10, 2017))\n",
    "print(\"has_friday_13(1, 1985) ➞ \", has_friday_13(1, 1985))"
   ]
  },
  {
   "cell_type": "markdown",
   "metadata": {},
   "source": [
    "#### 4. Write a regular expression that will help us count how many bad cookies are produced every day. You must use RegEx negative lookbehind.\n",
    "\n",
    "Example\n",
    "\n",
    "lst = [\"bad cookie\", \"good cookie\", \"bad cookie\", \"good cookie\", \"good cookie\"]\n",
    "pattern = \"yourregularexpressionhere\"\n",
    "\n",
    "len(re.findall(pattern, \", \".join(lst))) ➞ 2\n"
   ]
  },
  {
   "cell_type": "code",
   "execution_count": 95,
   "metadata": {},
   "outputs": [
    {
     "name": "stdout",
     "output_type": "stream",
     "text": [
      "bad_cookies(lst) ->  2\n"
     ]
    }
   ],
   "source": [
    "import re\n",
    "lst = [\"bad cookie\", \"good cookie\", \"bad cookie\", \"good cookie\", \"good cookie\"] \n",
    "\n",
    "def bad_cookies(lst):\n",
    "    # define pattern\n",
    "    pattern = \"bad cookie\"\n",
    "    #finding pattern available in given list\n",
    "    list4 = []\n",
    "    for i in lst:\n",
    "        if bool(re.findall(pattern, i)) == True:\n",
    "            list4.append(i)\n",
    "    return len(list4)\n",
    "\n",
    "print(\"bad_cookies(lst) -> \", bad_cookies(lst))\n"
   ]
  },
  {
   "cell_type": "markdown",
   "metadata": {},
   "source": [
    "### 5. Given a list of words in the singular form, return a set of those words in the plural form if they appear more than once in the list.\n",
    "\n",
    "Examples\n",
    "\n",
    "pluralize([\"cow\", \"pig\", \"cow\", \"cow\"]) ➞ { \"cows\", \"pig\" }\n",
    "\n",
    "pluralize([\"table\", \"table\", \"table\"]) ➞ { \"tables\" }\n",
    "\n",
    "pluralize([\"chair\", \"pencil\", \"arm\"]) ➞ { \"chair\", \"pencil\", \"arm\" }\n"
   ]
  },
  {
   "cell_type": "code",
   "execution_count": 149,
   "metadata": {},
   "outputs": [
    {
     "name": "stdout",
     "output_type": "stream",
     "text": [
      "['cows', 'pig']\n",
      "['tables']\n",
      "['s', 'chair', 'pencil', 'arm']\n"
     ]
    }
   ],
   "source": [
    "def pluralize(list5):\n",
    "    b = []\n",
    "    for i in list5:\n",
    "        if [i] != [item for item, count in collections.Counter(list5).items() if count > 1]:\n",
    "            b.append(i)\n",
    "    c= ''.join([item for item, count in collections.Counter(list5).items() if count > 1]) + 's'\n",
    "    b.insert(0, c)\n",
    "    \n",
    "    return b\n",
    "\n",
    "print(pluralize([\"cow\", \"pig\", \"cow\", \"cow\"])) \n",
    "print(pluralize([\"table\", \"table\", \"table\"]))\n",
    "print(pluralize([\"chair\", \"pencil\", \"arm\"]))"
   ]
  }
 ],
 "metadata": {
  "kernelspec": {
   "display_name": "Python 3",
   "language": "python",
   "name": "python3"
  },
  "language_info": {
   "codemirror_mode": {
    "name": "ipython",
    "version": 3
   },
   "file_extension": ".py",
   "mimetype": "text/x-python",
   "name": "python",
   "nbconvert_exporter": "python",
   "pygments_lexer": "ipython3",
   "version": "3.8.3"
  }
 },
 "nbformat": 4,
 "nbformat_minor": 4
}
