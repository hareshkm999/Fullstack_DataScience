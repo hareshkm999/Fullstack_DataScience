{
 "cells": [
  {
   "cell_type": "markdown",
   "metadata": {},
   "source": [
    "# Assignment5"
   ]
  },
  {
   "cell_type": "markdown",
   "metadata": {},
   "source": [
    "### 1. Create a function that takes a number n (integer greater than zero) as an argument, and returns 2 if n is odd and 8 if n is even.\n",
    "\n",
    "You can only use the following arithmetic operators: addition of numbers +, subtraction of numbers -, multiplication of number *, division of number /, and exponentiation **.\n"
   ]
  },
  {
   "cell_type": "code",
   "execution_count": 2,
   "metadata": {},
   "outputs": [
    {
     "name": "stdout",
     "output_type": "stream",
     "text": [
      "8\n",
      "2\n",
      "8\n"
     ]
    }
   ],
   "source": [
    "def f(num):\n",
    "    if num%2 == 0:\n",
    "        return 2\n",
    "    else:\n",
    "        return 8\n",
    "print(f(1))\n",
    "\n",
    "print(f(2))\n",
    "\n",
    "print(f(3))\n"
   ]
  },
  {
   "cell_type": "markdown",
   "metadata": {},
   "source": [
    "### 2. Create a function that returns the majority vote in a list. A majority vote is an element that occurs > N/2 times in a list (where N is the length of the list).\n",
    "\n",
    "Examples\n",
    "\n",
    "majority_vote([\"A\", \"A\", \"B\"]) ➞ \"A\"\n",
    "\n",
    "majority_vote([\"A\", \"A\", \"A\", \"B\", \"C\", \"A\"]) ➞ \"A\"\n",
    "\n",
    "majority_vote([\"A\", \"B\", \"B\", \"A\", \"C\", \"C\"]) ➞ None\n"
   ]
  },
  {
   "cell_type": "code",
   "execution_count": 39,
   "metadata": {},
   "outputs": [
    {
     "name": "stdout",
     "output_type": "stream",
     "text": [
      "A\n",
      "A\n",
      "C\n"
     ]
    }
   ],
   "source": [
    "def majority_vote(list2):\n",
    "    list21 = list(set(list2))\n",
    "    dict2 = {}\n",
    "    for i in list21:\n",
    "        dict2[i] = list2.count(i)\n",
    "    return max(dict2, key=dict2.get)\n",
    "\n",
    "print(majority_vote([\"A\", \"A\", \"B\"]))\n",
    "print(majority_vote([\"A\", \"A\", \"A\", \"B\", \"C\", \"A\"]))\n",
    "print(majority_vote([\"A\", \"B\", \"B\", \"A\", \"C\", \"C\"]))"
   ]
  },
  {
   "cell_type": "markdown",
   "metadata": {},
   "source": [
    "### 3. Create a function that takes a string txt and censors any word from a given list lst. The text removed must be replaced by the given character char.\n",
    "\n",
    "Examples\n",
    "\n",
    "censor_string(\"Today is a Wednesday!\", [\"Today\", \"a\"], \"-\") ➞ \"----- is - Wednesday!\"\n",
    "\n",
    "censor_string(\"The cow jumped over the moon.\", [\"cow\", \"over\"], \"*\"), \"The *** jumped **** the moon.\")\n",
    "\n",
    "censor_string(\"Why did the chicken cross the road?\", [\"Did\", \"chicken\", \"road\"], \"*\") ➞ \"Why *** the ******* cross the ****?\"\n"
   ]
  },
  {
   "cell_type": "code",
   "execution_count": 67,
   "metadata": {},
   "outputs": [
    {
     "name": "stdout",
     "output_type": "stream",
     "text": [
      "Geeksforgeeks is gfg gfg geeks and gfg\n",
      "- is - Wednesday!\n",
      "The * jumped * the moon.\n",
      "Why * the * cross the * ?\n"
     ]
    }
   ],
   "source": [
    "def censor_string(string1, list1, string2):\n",
    "    test_str, word_list, repl_wrd = string1, list1, string2\n",
    "    # Replace multiple words with K\n",
    "    # Using join() + split() + list comprehension\n",
    "    return ' '.join([repl_wrd if idx in word_list else idx for idx in test_str.split()])\n",
    "\n",
    "print(censor_string(\"Geeksforgeeks is best for geeks and CS\", [\"best\", 'CS', 'for'], \"gfg\"))\n",
    "print(censor_string(\"Today is a Wednesday!\", [\"Today\", \"a\"], \"-\"))\n",
    "print(censor_string(\"The cow jumped over the moon.\", [\"cow\", \"over\"], \"*\"))\n",
    "print(censor_string(\"Why did the chicken cross the road ?\", [\"did\", \"chicken\", \"road\"], \"*\"))"
   ]
  },
  {
   "cell_type": "markdown",
   "metadata": {},
   "source": [
    "### 4. In mathematics a Polydivisible Number (or magic number) is a number in a given number base with digits abcde... that has the following properties:\n",
    "\n",
    "-  Its first digit a is not 0.\n",
    "- The number formed by its first two digits ab is a multiple of 2.\n",
    "- The number formed by its first three digits abc is a multiple of 3.\n",
    "- The number formed by its first four digits abcd is a multiple of 4.\n",
    "\n",
    "Create a function which takes an integer n and returns True if the given number is a Polydivisible Number and False otherwise.\n",
    "\n",
    "Examples\n",
    "\n",
    "is_polydivisible(1232) ➞ True\n",
    "# 1     / 1 = 1\n",
    "# 12    / 2 = 6\n",
    "# 123   / 3 = 41\n",
    "# 1232  / 4 = 308\n",
    "\n",
    "is_polydivisible(123220 ) ➞ False\n",
    "# 1   / 1 = 1\n",
    "# 12   / 2 = 6\n",
    "# 123   / 3 = 41\n",
    "# 1232   / 4 = 308\n",
    "# 12322   / 5 = 2464.4         # Not a Whole Number\n",
    "# 123220   /6 = 220536.333...  # Not a Whole Number\n"
   ]
  },
  {
   "cell_type": "code",
   "execution_count": 143,
   "metadata": {},
   "outputs": [
    {
     "name": "stdout",
     "output_type": "stream",
     "text": [
      "is_polydivisible(345654)  : True\n",
      "is_polydivisible(1232)  : True\n",
      "is_polydivisible(123220 )  : False\n"
     ]
    }
   ],
   "source": [
    "def is_polydivisible(n):\n",
    "    # creating list including n and 0\n",
    "    list1 = [n, 0]\n",
    "    #appending list with by dividing number by 10\n",
    "    for i in range(1, len(str(n))):\n",
    "        n = int(n/(10))\n",
    "        list1.append(n)\n",
    "    #reversing list\n",
    "    list1 = list1[::-1]\n",
    "    #sorting list\n",
    "    list1.sort()\n",
    "    #appending new list with bool values depending on reminders by dividing 1 to len(list1)\n",
    "    list2=[]\n",
    "    for i in range(1, len(list1)):\n",
    "        list2.append(bool(list1[i]%i))\n",
    "    #summing new list checking sum value\n",
    "    if sum(list2)==0:\n",
    "        return True\n",
    "    else:\n",
    "        return False\n",
    "    \n",
    "    \n",
    "print(\"is_polydivisible(345654)  :\", is_polydivisible(345654))\n",
    "print(\"is_polydivisible(1232)  :\", is_polydivisible(1232))\n",
    "print(\"is_polydivisible(123220 )  :\", is_polydivisible(123220 ))   "
   ]
  },
  {
   "cell_type": "markdown",
   "metadata": {},
   "source": [
    "### 5. Create a function that takes a list of numbers and returns the sum of all prime numbers in the list.\n",
    "\n",
    "Examples\n",
    "\n",
    "sum_primes([1, 2, 3, 4, 5, 6, 7, 8, 9, 10]) ➞ 17\n",
    "\n",
    "sum_primes([2, 3, 4, 11, 20, 50, 71]) ➞ 87\n",
    "\n",
    "sum_primes([]) ➞ None\n",
    "\n"
   ]
  },
  {
   "cell_type": "code",
   "execution_count": 176,
   "metadata": {},
   "outputs": [
    {
     "name": "stdout",
     "output_type": "stream",
     "text": [
      "sum_primes([1, 2, 3, 4, 5, 6, 7, 8, 9, 10]) ➞ : 17\n",
      "sum_primes([2, 3, 4, 11, 20, 50, 71]) ➞ : 87\n",
      "sum_primes([]) ➞ :  0\n"
     ]
    }
   ],
   "source": [
    "def sum_primes(list1):\n",
    "    list2 = []\n",
    "    for i in list1:\n",
    "        if i > 1:\n",
    "            for j in range(2, i):\n",
    "                if (i%j) == 0:\n",
    "                    break\n",
    "            else:\n",
    "                list2.append(i)\n",
    "    return sum(list2)\n",
    "\n",
    "print(\"sum_primes([1, 2, 3, 4, 5, 6, 7, 8, 9, 10]) ➞ :\",  sum_primes([1, 2, 3, 4, 5, 6, 7, 8, 9, 10]))\n",
    "print(\"sum_primes([2, 3, 4, 11, 20, 50, 71]) ➞ :\", sum_primes([2, 3, 4, 11, 20, 50, 71]))\n",
    "print(\"sum_primes([]) ➞ : \", sum_primes([]))\n",
    "\n"
   ]
  },
  {
   "cell_type": "code",
   "execution_count": null,
   "metadata": {},
   "outputs": [],
   "source": []
  }
 ],
 "metadata": {
  "kernelspec": {
   "display_name": "Python 3",
   "language": "python",
   "name": "python3"
  },
  "language_info": {
   "codemirror_mode": {
    "name": "ipython",
    "version": 3
   },
   "file_extension": ".py",
   "mimetype": "text/x-python",
   "name": "python",
   "nbconvert_exporter": "python",
   "pygments_lexer": "ipython3",
   "version": "3.8.3"
  }
 },
 "nbformat": 4,
 "nbformat_minor": 4
}
