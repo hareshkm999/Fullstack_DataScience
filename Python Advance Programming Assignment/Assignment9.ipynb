{
 "cells": [
  {
   "cell_type": "markdown",
   "metadata": {},
   "source": [
    "## Assignment9"
   ]
  },
  {
   "cell_type": "markdown",
   "metadata": {},
   "source": [
    "#### 1. YouTube offers different playback speed options for users. This allows users to increase or decrease the speed of the video content. Given the actual duration and playback speed of the video, calculate the playback duration of the video.\n",
    "\n",
    "Examples\n",
    "\n",
    "playback_duration(\"00:30:00\", 2) ➞ \"00:15:00\"\n",
    "\n",
    "playback_duration(\"01:20:00\", 1.5) ➞ \"00:53:20\"\n",
    "\n",
    "playback_duration(\"51:20:09\", 0.5) ➞ \"102:40:18\"\n",
    "\n"
   ]
  },
  {
   "cell_type": "code",
   "execution_count": 28,
   "metadata": {},
   "outputs": [
    {
     "name": "stdout",
     "output_type": "stream",
     "text": [
      "0:15:00\n",
      "0:53:20\n",
      "6:40:18\n"
     ]
    }
   ],
   "source": [
    "def playback_duration(arg1, arg2):\n",
    "    #passing arg1 in string format\n",
    "    str1 = arg1\n",
    "    #converting string to list by splitting \":\"\n",
    "    list1 = str1.split(':')\n",
    "    #converting all values to seconds and divide by arg2\n",
    "    seconds = (int(list1[0])*3600 + int(list1[1])*60 + int(list1[2])*1)/arg2\n",
    "    seconds = seconds % (24 * 3600)\n",
    "    hour = seconds // 3600\n",
    "    seconds %= 3600\n",
    "    minutes = seconds // 60\n",
    "    seconds %= 60\n",
    "      \n",
    "    return \"%d:%02d:%02d\" % (hour, minutes, seconds)\n",
    "\n",
    "print(playback_duration(\"00:30:00\", 2))\n",
    "\n",
    "print(playback_duration(\"01:20:00\", 1.5))\n",
    "\n",
    "print(playback_duration(\"51:20:09\", 0.5))"
   ]
  },
  {
   "cell_type": "markdown",
   "metadata": {},
   "source": [
    "### 2. We needs your help to construct a building which will be a pile of n cubes. The cube at the bottom will have a volume of n^3, the cube above will have volume of (n-1)^3 and so on until the top which will have a volume of 1^3.\n",
    "\n",
    "Given the total volume m of the building, can you find the number of cubes n required for the building?\n",
    "\n",
    "In other words, you have to return an integer n such that:\n",
    "\n",
    "n^3 + (n-1)^3 + ... + 1^3 == m\n",
    "\n",
    "Return None if there is no such number.\n",
    "\n",
    "Examples\n",
    "\n",
    "pile_of_cubes(1071225) ➞ 45\n",
    "\n",
    "pile_of_cubes(4183059834009) ➞ 2022\n",
    "\n",
    "pile_of_cubes(16) ➞ None\n",
    "\n"
   ]
  },
  {
   "cell_type": "code",
   "execution_count": 36,
   "metadata": {},
   "outputs": [
    {
     "name": "stdout",
     "output_type": "stream",
     "text": [
      "pile_of_cubes(1071225)  : 45\n",
      "pile_of_cubes(4183059834009) ➞  2022\n",
      "pile_of_cubes(16) ➞  None\n"
     ]
    }
   ],
   "source": [
    "import math as math\n",
    " \n",
    "def pile_of_cubes(m):\n",
    "    #  code\n",
    "    haha = math.sqrt(m)\n",
    "    #print (m,haha)\n",
    "    if m%(int(haha)) != 0:\n",
    "        return -1\n",
    "    i=1\n",
    "    n=0\n",
    "    while n<=haha:\n",
    "        n+=i\n",
    "        if n==haha:\n",
    "            return i\n",
    "        i+=1\n",
    "    return None\n",
    "\n",
    "print(\"pile_of_cubes(1071225)  :\", pile_of_cubes(1071225))\n",
    "print(\"pile_of_cubes(4183059834009) ➞ \", pile_of_cubes(4183059834009))\n",
    "print(\"pile_of_cubes(16) ➞ \", pile_of_cubes(16))"
   ]
  },
  {
   "cell_type": "markdown",
   "metadata": {},
   "source": [
    "#### 3. A fulcrum of a list is an integer such that all elements to the left of it and all elements to the right of it sum to the same value. Write a function that finds the fulcrum of a list.\n",
    "\n",
    "To illustrate:\n",
    "\n",
    "find_fulcrum([3, 1, 5, 2, 4, 6, -1]) ➞ 2\n",
    "// Since [3, 1, 5] and [4, 6, -1] both sum to 9\n",
    "\n",
    "Examples\n",
    "\n",
    "find_fulcrum([1, 2, 4, 9, 10, -10, -9, 3]) ➞ 4\n",
    "\n",
    "find_fulcrum([9, 1, 9]) ➞ 1\n",
    "\n",
    "find_fulcrum([7, -1, 0, -1, 1, 1, 2, 3]) ➞ 0\n",
    "\n",
    "find_fulcrum([8, 8, 8, 8]) ➞ -1\n",
    "\n"
   ]
  },
  {
   "cell_type": "code",
   "execution_count": 52,
   "metadata": {},
   "outputs": [
    {
     "name": "stdout",
     "output_type": "stream",
     "text": [
      "find_fulcrum([3, 1, 5, 2, 4, 6, -1]) ➞  2\n",
      "find_fulcrum([1, 2, 4, 9, 10, -10, -9, 3]) ➞  4\n",
      "find_fulcrum([9, 1, 9]) ➞  1\n",
      "find_fulcrum([7, -1, 0, -1, 1, 1, 2, 3]) ➞  0\n",
      "find_fulcrum([8, 8, 8, 8])  :  -1\n"
     ]
    }
   ],
   "source": [
    "# Python 3 Program to find an element\n",
    "# such that sum of right side element\n",
    "# is equal to sum of left side\n",
    " \n",
    "# Function to compute partition\n",
    "def find_fulcrum(arr) :\n",
    "    \n",
    "    size = len(arr)\n",
    " \n",
    "    right_sum, left_sum = 0, 0\n",
    " \n",
    "    # Computing right_sum\n",
    "    for i in range(1, size) :\n",
    "        right_sum += arr[i]\n",
    " \n",
    "    i, j = 0, 1\n",
    " \n",
    "    # Checking the point of partition\n",
    "    # i.e. left_Sum == right_sum\n",
    "    while j < size :\n",
    "        right_sum -= arr[j]\n",
    "        left_sum += arr[i]\n",
    " \n",
    "        if left_sum == right_sum :\n",
    "            return arr[i + 1]\n",
    " \n",
    "        j += 1\n",
    "        i += 1\n",
    " \n",
    "    return -1\n",
    " \n",
    "\n",
    "\n",
    "print(\"find_fulcrum([3, 1, 5, 2, 4, 6, -1]) ➞ \", find_fulcrum([3, 1, 5, 2, 4, 6, -1]))\n",
    "print(\"find_fulcrum([1, 2, 4, 9, 10, -10, -9, 3]) ➞ \", find_fulcrum([1, 2, 4, 9, 10, -10, -9, 3]))\n",
    "print(\"find_fulcrum([9, 1, 9]) ➞ \", find_fulcrum([9, 1, 9]))\n",
    "print(\"find_fulcrum([7, -1, 0, -1, 1, 1, 2, 3]) ➞ \", find_fulcrum([7, -1, 0, -1, 1, 1, 2, 3]))\n",
    "print(\"find_fulcrum([8, 8, 8, 8])  : \", find_fulcrum([8, 8, 8, 8]))"
   ]
  },
  {
   "cell_type": "markdown",
   "metadata": {},
   "source": [
    "### 4. Given a list of integers representing the color of each sock, determine how many pairs of socks with matching colors there are. For example, there are 7 socks with colors [1, 2, 1, 2, 1, 3, 2]. There is one pair of color 1 and one of color 2. There are three odd socks left, one of each color. The number of pairs is 2.\n",
    "\n",
    "Create a function that returns an integer representing the number of matching pairs of socks that are available.\n",
    "\n",
    "Examples\n",
    "\n",
    "sock_merchant([10, 20, 20, 10, 10, 30, 50, 10, 20]) ➞ 3\n",
    "\n",
    "sock_merchant([50, 20, 30, 90, 30, 20, 50, 20, 90]) ➞ 4\n",
    "\n",
    "sock_merchant([]) ➞ 0\n"
   ]
  },
  {
   "cell_type": "code",
   "execution_count": 65,
   "metadata": {},
   "outputs": [
    {
     "name": "stdout",
     "output_type": "stream",
     "text": [
      "sock_merchant([10, 20, 20, 10, 10, 30, 50, 10, 20]) ➞  3\n",
      "sock_merchant([50, 20, 30, 90, 30, 20, 50, 20, 90]) ➞  4\n",
      "sock_merchant([]) ➞  0\n"
     ]
    }
   ],
   "source": [
    "\n",
    "\n",
    "# Python3 implementation of the approach\n",
    " \n",
    "# Function to return the maximum\n",
    "# possible pairs of gloves\n",
    " \n",
    "def sock_merchant(list1):\n",
    "    \n",
    "    n=len(list1)\n",
    " \n",
    "    # To store the required count\n",
    "    count = 0\n",
    " \n",
    "    # Sort the original array\n",
    "    list1.sort()\n",
    "    i = 0\n",
    "    while i < (n-1):\n",
    " \n",
    "        # A valid pair is found\n",
    "        if (list1[i] == list1[i + 1]):\n",
    "            count += 1\n",
    " \n",
    "            # Skip the elements of\n",
    "            # the current pair\n",
    "            i = i + 2\n",
    " \n",
    "        # Current elements doesn't make\n",
    "        # a valid pair with any other element\n",
    "        else:\n",
    "            i += 1\n",
    " \n",
    "    return count\n",
    " \n",
    " \n",
    "\n",
    " \n",
    "    # Function call\n",
    "print(\"sock_merchant([10, 20, 20, 10, 10, 30, 50, 10, 20]) ➞ \", sock_merchant([10, 20, 20, 10, 10, 30, 50, 10, 20]))\n",
    "print(\"sock_merchant([50, 20, 30, 90, 30, 20, 50, 20, 90]) ➞ \", sock_merchant([50, 20, 30, 90, 30, 20, 50, 20, 90]))\n",
    "print(\"sock_merchant([]) ➞ \", sock_merchant([]))\n"
   ]
  },
  {
   "cell_type": "markdown",
   "metadata": {},
   "source": [
    "### 5. Create a function that takes a string containing integers as well as other characters and return the sum of the negative integers only.\n",
    "\n",
    "Examples\n",
    "\n",
    "negative_sum(\"-12 13%14&-11\") ➞ -23\n",
    "# -12 + -11 = -23\n",
    "\n",
    "negative_sum(\"22 13%14&-11-22 13 12\") ➞ -33\n",
    "# -11 + -22 = -33\n"
   ]
  },
  {
   "cell_type": "code",
   "execution_count": 154,
   "metadata": {},
   "outputs": [
    {
     "name": "stdout",
     "output_type": "stream",
     "text": [
      "-23\n",
      "-33\n"
     ]
    }
   ],
   "source": [
    "def negative_sum(txt):\n",
    "    txt = txt.replace(\" \", \",\", )\n",
    "    txt = txt.replace(\"%\", \",\")\n",
    "    txt = txt.replace(\"&\", ',')\n",
    "    list1 = [txt]\n",
    "    list2 = [i for item in list1 for i in item.split(',')]\n",
    "    list3 = []\n",
    "    for i in range(0, len(list2)):\n",
    "        if list2[i].isnumeric:\n",
    "            list3.append(int(list2[i]))\n",
    "    sum = 0\n",
    "    for i in list3:\n",
    "        if i<0:\n",
    "            sum += i   \n",
    "    return sum\n",
    "\n",
    "print(negative_sum(\"-12 13%14&-11\"))\n",
    "print(negative_sum(\"22 13%14&-11 -22 13 12\"))"
   ]
  },
  {
   "cell_type": "code",
   "execution_count": null,
   "metadata": {},
   "outputs": [],
   "source": []
  }
 ],
 "metadata": {
  "kernelspec": {
   "display_name": "Python 3",
   "language": "python",
   "name": "python3"
  },
  "language_info": {
   "codemirror_mode": {
    "name": "ipython",
    "version": 3
   },
   "file_extension": ".py",
   "mimetype": "text/x-python",
   "name": "python",
   "nbconvert_exporter": "python",
   "pygments_lexer": "ipython3",
   "version": "3.8.3"
  }
 },
 "nbformat": 4,
 "nbformat_minor": 4
}
