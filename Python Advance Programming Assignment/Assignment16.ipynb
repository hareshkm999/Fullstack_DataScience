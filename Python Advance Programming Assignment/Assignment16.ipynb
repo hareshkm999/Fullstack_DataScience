{
 "cells": [
  {
   "cell_type": "markdown",
   "metadata": {},
   "source": [
    "## Assignment16"
   ]
  },
  {
   "cell_type": "markdown",
   "metadata": {},
   "source": [
    "#### 1. Rondo Form is a type of musical structure, in which there is a recurring theme/refrain, notated as A. Here are the rules for valid rondo forms:\n",
    "\n",
    "- Rondo forms always start and end with an A section.\n",
    "- In between the A sections, there should be contrasting sections notated as B, then C, then D, etc... No letter should be skipped.\n",
    "- There shouldn't be any repeats in the sequence (such as ABBACCA).\n",
    "\n",
    "Create a function which validates whether a given string is a valid Rondo Form.\n",
    "\n",
    "Examples\n",
    "\n",
    "valid_rondo(\"ABACADAEAFAGAHAIAJA\") ➞ True\n",
    "\n",
    "valid_rondo(\"ABA\") ➞ True\n",
    "\n",
    "valid_rondo(\"ABBACCA\") ➞ False\n",
    "\n",
    "valid_rondo(\"ACAC\") ➞ False\n",
    "\n",
    "valid_rondo(\"A\") ➞ False\n"
   ]
  },
  {
   "cell_type": "code",
   "execution_count": 52,
   "metadata": {},
   "outputs": [
    {
     "name": "stdout",
     "output_type": "stream",
     "text": [
      "True\n",
      "True\n",
      "False\n",
      "False\n"
     ]
    }
   ],
   "source": [
    "def valid_rondo(str1):\n",
    "    list1 = list(str1)\n",
    "    if len(str1)==1:\n",
    "        return False\n",
    "    else:\n",
    "        list2 = []\n",
    "        for i in range(0, len(list1)):\n",
    "            if i%2==0 and list1[i]=='A':\n",
    "                list2.append(True)\n",
    "    if sum(list2)==round(len(str1)/2):\n",
    "        return True\n",
    "    else:\n",
    "        return False\n",
    "\n",
    "print(valid_rondo(\"ABACADAEAFAGAHAIAJA\"))\n",
    "\n",
    "print(valid_rondo(\"ABA\") )\n",
    "\n",
    "print(valid_rondo(\"ABBACCA\"))\n",
    "\n",
    "print(valid_rondo(\"A\") )"
   ]
  },
  {
   "cell_type": "markdown",
   "metadata": {},
   "source": [
    "#### 2. Create a function that returns the whole of the first sentence which contains a specific word. Include the full stop at the end of the sentence.\n",
    "\n",
    "Examples\n",
    "\n",
    "txt = \"I have a cat. I have a mat. Things are going swell.\"\n",
    "\n",
    "sentence_searcher(txt, \"have\") ➞ \"I have a cat.\"\n",
    "\n",
    "sentence_searcher(txt, \"MAT\") ➞ \"I have a mat.\"\n",
    "\n",
    "sentence_searcher(txt, \"things\") ➞ \"Things are going swell.\"\n",
    "\n",
    "sentence_searcher(txt, \"flat\") ➞ \"\"\n"
   ]
  },
  {
   "cell_type": "code",
   "execution_count": 112,
   "metadata": {},
   "outputs": [
    {
     "name": "stdout",
     "output_type": "stream",
     "text": [
      "['coder in geeksforgeeks']\n"
     ]
    }
   ],
   "source": [
    "# Python3 program to Check if given words \n",
    "# appear together in a list of sentence\n",
    "  \n",
    "def check(sentence, words):\n",
    "    res = [all([k in s for k in words]) for s in sentence]\n",
    "    return [sentence[i] for i in range(0, len(res)) if res[i]]\n",
    "      \n",
    "# Driver code\n",
    "sentence = ['python coder', 'geeksforgeeks', 'coder in geeksforgeeks']\n",
    "words = ['coder', 'geeksforgeeks']\n",
    "print(check(sentence, words))"
   ]
  },
  {
   "cell_type": "code",
   "execution_count": 111,
   "metadata": {},
   "outputs": [
    {
     "name": "stdout",
     "output_type": "stream",
     "text": [
      "I have a cat\n",
      " I have a mat\n",
      " Things are going swell\n",
      "[]\n"
     ]
    }
   ],
   "source": [
    "# Python3 program to Check if given words \n",
    "# appear together in a list of sentence\n",
    "def sentence_searcher(txt, word):\n",
    "    #lower case the search string\n",
    "    word = word.lower()\n",
    "    #spliting big sentence into small sentence\n",
    "    sentence = txt.split('.')\n",
    "    #spliting each small sentence into words and doing search of string\n",
    "    list3=[]\n",
    "    for i in sentence:\n",
    "        for j in i.split(' '):\n",
    "            if j.lower() == word:\n",
    "                list3.append(i)\n",
    "                break\n",
    "    if len(list3)>0:\n",
    "        return list3[0]\n",
    "    else:\n",
    "        return []\n",
    "\n",
    "print(sentence_searcher(txt, \"have\"))\n",
    "print(sentence_searcher(txt, \"MAT\"))\n",
    "print(sentence_searcher(txt, \"things\"))\n",
    "print(sentence_searcher(txt, \"flat\"))"
   ]
  },
  {
   "cell_type": "markdown",
   "metadata": {},
   "source": [
    "#### 3. Given a number, find the \"round \"of each digit of the number. An integer is called \"round\" if all its digits except the leftmost (most significant) are equal to zero.\n",
    "\n",
    "- Round numbers: 4000, 1, 9, 800, 90\n",
    "- Not round numbers: 110, 707, 222, 1001\n",
    "\n",
    "Create a function that takes a number and returns the \"round\" of each digit (except if the digit is zero) as a string. Check out the following examples for more clarification.\n",
    "\n",
    "Examples\n",
    "\n",
    "sum_round(101) ➞ \"1 100\"\n",
    "\n",
    "sum_round(1234) ➞ \"4 30 200 1000\"\n",
    "\n",
    "sum_round(54210) ➞ \"10 200 4000 50000\"\n"
   ]
  },
  {
   "cell_type": "code",
   "execution_count": 186,
   "metadata": {},
   "outputs": [
    {
     "name": "stdout",
     "output_type": "stream",
     "text": [
      "sum_round(101) : 1 100\n",
      "sum_round(1234) : 4 30 200 1000\n",
      "sum_round(54210) : 10 200 4000 50000\n"
     ]
    }
   ],
   "source": [
    "def sum_round(num):\n",
    "    #converting num to string\n",
    "    str1 = str(num)\n",
    "    #creating list to divide string \n",
    "    list1=[]\n",
    "    for i in range(0, len(str1)):\n",
    "        list1.append(str1[i])\n",
    "    #reverse the list    \n",
    "    list11 =list1[::-1]\n",
    "    #converting list element to int and powering by 10 and append to new list\n",
    "    list2 = []\n",
    "    for i in range(0, len(list11)):\n",
    "        list2.append(round(int(list11[i])*pow(10, i)))\n",
    "    #remove elements in list with 0 value    \n",
    "    list3 = []\n",
    "    for i in list2:\n",
    "        if i != 0:\n",
    "            list3.append(i)\n",
    "     \n",
    "    #converting result list into string        \n",
    "    list4=[]\n",
    "    for i in list3:\n",
    "        list4.append(str(i))\n",
    "        \n",
    "    return ' '.join(list4)\n",
    "            \n",
    "    \n",
    "    \n",
    "print(\"sum_round(101) :\", sum_round(101))\n",
    "\n",
    "print(\"sum_round(1234) :\", sum_round(1234))\n",
    "\n",
    "print(\"sum_round(54210) :\", sum_round(54210))\n",
    "   \n",
    "    \n",
    "    \n",
    "    "
   ]
  },
  {
   "cell_type": "markdown",
   "metadata": {},
   "source": [
    "### 4. Your task, is to create N x N multiplication table, of size n provided in parameter.\n",
    "\n",
    "For example, when n is 5, the multiplication table is:\n",
    "\n",
    "- 1, 2, 3, 4, 5\n",
    "- 2, 4, 6, 8, 10\n",
    "- 3, 6, 9, 12, 15\n",
    "- 4, 8, 12, 16, 20\n",
    "- 5, 10, 15, 20, 25\n",
    "\n",
    "This example will result in:\n",
    "\n",
    "[[1, 2, 3, 4, 5], [2, 4, 6, 8, 10], [3, 6, 9, 12, 15], [4, 8, 12, 16, 20], [5, 10, 15, 20, 25]]\n",
    "\n",
    "Examples\n",
    "\n",
    "multiplication_table(1) ➞ [[1]]\n",
    "\n",
    "multiplication_table(3) ➞ [[1, 2, 3], [2, 4, 6], [3, 6, 9]]\n"
   ]
  },
  {
   "cell_type": "code",
   "execution_count": 215,
   "metadata": {},
   "outputs": [
    {
     "name": "stdout",
     "output_type": "stream",
     "text": [
      "multiplication_table(5) : [[1, 2, 3, 4, 5], [2, 4, 6, 8, 10], [3, 6, 9, 12, 15], [4, 8, 12, 16, 20], [5, 10, 15, 20, 25]]\n",
      "multiplication_table(1) : [[1]]\n",
      "multiplication_table(3) : [[1, 2, 3], [2, 4, 6], [3, 6, 9]]\n"
     ]
    }
   ],
   "source": [
    "def multiplication_table(num):\n",
    "    #list comprehension by providing range as wellas range of muliplication\n",
    "    return [[j*i for j in range(1, num+1)] for i in range(1,num+1)]\n",
    "\n",
    "print(\"multiplication_table(5) :\", multiplication_table(5))\n",
    "print(\"multiplication_table(1) :\", multiplication_table(1))\n",
    "print(\"multiplication_table(3) :\", multiplication_table(3))"
   ]
  },
  {
   "cell_type": "markdown",
   "metadata": {},
   "source": [
    "#### 5. Create a function that returns True if two lines rhyme and False otherwise. For the purposes of this exercise, two lines rhyme if the last word from each sentence contains the same vowels.\n",
    "\n",
    "Examples\n",
    "\n",
    "does_rhyme(\"Sam I am!\", \"Green eggs and ham.\") ➞ True\n",
    "\n",
    "does_rhyme(\"Sam I am!\", \"Green eggs and HAM.\") ➞ True\n",
    "# Capitalization and punctuation should not matter.\n",
    "\n",
    "does_rhyme(\"You are off to the races\", \"a splendid day.\") ➞ False\n",
    "\n",
    "does_rhyme(\"and frequently do?\", \"you gotta move.\") ➞ False\n"
   ]
  },
  {
   "cell_type": "code",
   "execution_count": 264,
   "metadata": {},
   "outputs": [
    {
     "name": "stdout",
     "output_type": "stream",
     "text": [
      "True\n"
     ]
    }
   ],
   "source": [
    "str1 = \"Sam I am!\"\n",
    "str1 = str1.lower()\n",
    "str2 = \"Green eggs and ham.\"\n",
    "str2 = str2.lower()\n",
    "list1 = []\n",
    "for i in list(str1):\n",
    "    if i.isalnum():\n",
    "        list1.append(i)\n",
    "list2 = []\n",
    "for i in list(str2):\n",
    "    if i.isalnum():\n",
    "        list2.append(i)\n",
    "if list1[-1:-3:-1] == list2[-1:-3:-1]:\n",
    "    print(True)\n",
    "else:\n",
    "    print(False)"
   ]
  },
  {
   "cell_type": "code",
   "execution_count": 271,
   "metadata": {},
   "outputs": [
    {
     "name": "stdout",
     "output_type": "stream",
     "text": [
      "True\n",
      "True\n",
      "False\n",
      "False\n"
     ]
    }
   ],
   "source": [
    "def does_rhyme(str1, str2):\n",
    "    str1 = str1.lower()\n",
    "    str2 = str2.lower()\n",
    "    list1 = []\n",
    "    for i in list(str1):\n",
    "        if i.isalnum():\n",
    "            list1.append(i)\n",
    "    list2 = []\n",
    "    for i in list(str2):\n",
    "        if i.isalnum():\n",
    "            list2.append(i)\n",
    "    if list1[-1:-3:-1] == list2[-1:-3:-1]:\n",
    "        return True\n",
    "    else:\n",
    "        return False\n",
    "    \n",
    "print(does_rhyme(\"Sam I am!\", \"Green eggs and ham.\"))\n",
    "print(does_rhyme(\"Sam I am!\", \"Green eggs and HAM.\"))\n",
    "print(does_rhyme(\"You are off to the races\", \"a splendid day.\")) \n",
    "print(does_rhyme(\"and frequently do?\", \"you gotta move.\"))"
   ]
  }
 ],
 "metadata": {
  "kernelspec": {
   "display_name": "Python 3",
   "language": "python",
   "name": "python3"
  },
  "language_info": {
   "codemirror_mode": {
    "name": "ipython",
    "version": 3
   },
   "file_extension": ".py",
   "mimetype": "text/x-python",
   "name": "python",
   "nbconvert_exporter": "python",
   "pygments_lexer": "ipython3",
   "version": "3.8.3"
  }
 },
 "nbformat": 4,
 "nbformat_minor": 4
}
