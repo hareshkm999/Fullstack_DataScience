{
 "cells": [
  {
   "cell_type": "markdown",
   "metadata": {},
   "source": [
    "## Assignment8"
   ]
  },
  {
   "cell_type": "markdown",
   "metadata": {},
   "source": [
    "### 1. Given a sentence as txt, return True if any two adjacent words have this property: One word ends with a vowel, while the word immediately after begins with a vowel (a e i o u).\n",
    "\n",
    "Examples\n",
    "\n",
    "vowel_links(\"a very large appliance\") ➞ True\n",
    "\n",
    "vowel_links(\"go to edabit\") ➞ True\n",
    "\n",
    "vowel_links(\"an open fire\") ➞ False\n",
    "\n",
    "vowel_links(\"a sudden applause\") ➞ False\n"
   ]
  },
  {
   "cell_type": "code",
   "execution_count": 101,
   "metadata": {},
   "outputs": [
    {
     "name": "stdout",
     "output_type": "stream",
     "text": [
      "True\n",
      "True\n",
      "False\n",
      "False\n",
      "True\n"
     ]
    }
   ],
   "source": [
    "def vowel_links(txt):\n",
    "    #converting text to list of words\n",
    "    list1 = [txt]\n",
    "    list2 = [i for item in list1 for i in item.split()]\n",
    "    #creating bool list to find word starts with vowel\n",
    "    list31 = []\n",
    "    vowels = ('a','e','i','o','u','A','E','I','O','U')\n",
    "    #myWord.startswith(vowels)\n",
    "    for i in range(0, len(list2)):\n",
    "        list31.append(list2[i].startswith(vowels))\n",
    "    #creating bool list to find word ends with vowel\n",
    "    list32 = []\n",
    "    for i in range(0, len(list2)):\n",
    "        list32.append(list2[i].endswith(vowels))\n",
    "    #print(list32)\n",
    "    #print(list31)\n",
    "    #comparing both above list to find weather fall in order that word ends with vowel followed by word starts with vowel\n",
    "    list33=[]\n",
    "    for i in range(0, len(list32)-1):\n",
    "        list33.append(list32[i]==True and list31[i+1]==True)\n",
    "    #print(list33)\n",
    "    if sum(list33)>0:\n",
    "        return True\n",
    "    else:\n",
    "        return False\n",
    "    \n",
    "print(vowel_links(\"a very large appliance\"))\n",
    "\n",
    "print(vowel_links(\"go to edabit\"))\n",
    "\n",
    "print(vowel_links(\"an open fire\"))\n",
    "\n",
    "print(vowel_links(\"a sudden applause\"))\n",
    "\n",
    "print(vowel_links(\"banana  apple\"))\n"
   ]
  },
  {
   "cell_type": "markdown",
   "metadata": {},
   "source": [
    "### 2. You are given three inputs: a string, one letter, and a second letter.\n",
    "\n",
    "Write a function that returns True if every instance of the first letter occurs before every instance of the second letter.\n",
    "\n",
    "Examples\n",
    "\n",
    "first_before_second(\"a rabbit jumps joyfully\", \"a\", \"j\") ➞ True\n",
    "# Every instance of \"a\" occurs before every instance of \"j\".\n",
    "\n",
    "first_before_second(\"knaves knew about waterfalls\", \"k\", \"w\") ➞  True\n",
    "\n",
    "first_before_second(\"happy birthday\", \"a\", \"y\") ➞ False\n",
    "# The \"a\" in \"birthday\" occurs after the \"y\" in \"happy\".\n",
    "\n",
    "first_before_second(\"precarious kangaroos\", \"k\", \"a\") ➞ False\n"
   ]
  },
  {
   "cell_type": "code",
   "execution_count": 156,
   "metadata": {},
   "outputs": [
    {
     "name": "stdout",
     "output_type": "stream",
     "text": [
      "True\n",
      "True\n",
      "given argument not in given text False\n",
      "None\n"
     ]
    }
   ],
   "source": [
    "def first_before_second(txt, arg1, arg2):\n",
    "    #converting text to list of words\n",
    "    list1 = [txt]\n",
    "    list2 = [i for item in list1 for i in item.split()]\n",
    "    list3 = []\n",
    "    for i in list2:\n",
    "        list3.append(i[0])\n",
    "    dict1={}\n",
    "    for i in list3:\n",
    "        dict1[i] = list3.index(i)\n",
    "    try:\n",
    "        if dict1[arg1]<dict1[arg2]:\n",
    "            return True\n",
    "        else:\n",
    "            return False\n",
    "    except Exception as e:\n",
    "        print(\"given argument not in given text False\")\n",
    "\n",
    "print(first_before_second(\"a rabbit jumps joyfully\", \"a\", \"j\"))\n",
    "print(first_before_second(\"knaves knew about waterfalls\", \"k\", \"w\") )\n",
    "print(first_before_second(\"precarious kangaroos\", \"k\", \"a\"))\n"
   ]
  },
  {
   "cell_type": "markdown",
   "metadata": {},
   "source": [
    "### 3. Create a function that returns the characters from a list or string r on odd or even positions, depending on the specifier s. The specifier will be \"odd\" for items on odd positions (1, 3, 5, ...) and \"even\" for items on even positions (2, 4, 6, ...).\n",
    "\n",
    "Examples\n",
    "\n",
    "char_at_pos([2, 4, 6, 8, 10], \"even\") ➞ [4, 8]\n",
    "# 4 & 8 occupy the 2nd & 4th positions\n",
    "\n",
    "char_at_pos(\"EDABIT\", \"odd\") ➞ \"EAI\"\n",
    "# \"E\", \"A\" and \"I\" occupy the 1st, 3rd and 5th positions\n",
    "\n",
    "char_at_pos([\"A\", \"R\", \"B\", \"I\", \"T\", \"R\", \"A\", \"R\", \"I\", \"L\", \"Y\"], \"odd\") ➞ [\"A\", \"B\", \"T\", \"A\", \"I\", \"Y\"]\n"
   ]
  },
  {
   "cell_type": "code",
   "execution_count": 194,
   "metadata": {},
   "outputs": [
    {
     "name": "stdout",
     "output_type": "stream",
     "text": [
      "[4, 8]\n",
      "['E', 'A', 'I']\n",
      "['A', 'B', 'T', 'A', 'I', 'Y']\n"
     ]
    }
   ],
   "source": [
    "def char_at_pos(txt, arg1):\n",
    "    #converting given argument1 into list\n",
    "    list1 = list(txt)\n",
    "    list2 = []\n",
    "    if arg1 == 'even':\n",
    "        for i in range(0, len(list1)):\n",
    "            if i%2!=0:\n",
    "                list2.append(list1[i])\n",
    "    else:\n",
    "        for i in range(0, len(list1)):\n",
    "            if i%2==0:\n",
    "                list2.append(list1[i])\n",
    "    return list2\n",
    "            \n",
    "print(char_at_pos([2, 4, 6, 8, 10], \"even\"))\n",
    "print(char_at_pos(\"EDABIT\", \"odd\"))\n",
    "print(char_at_pos([\"A\", \"R\", \"B\", \"I\", \"T\", \"R\", \"A\", \"R\", \"I\", \"L\", \"Y\"], \"odd\"))"
   ]
  },
  {
   "cell_type": "markdown",
   "metadata": {},
   "source": [
    "### 4. Write a function that returns the greatest common divisor of all list elements. If the greatest common divisor is 1, return 1.\n",
    "\n",
    "Examples\n",
    "\n",
    "GCD([10, 20, 40]) ➞ 10\n",
    "\n",
    "GCD([1, 2, 3, 100]) ➞ 1\n",
    "\n",
    "GCD([1024, 192, 2048, 512]) ➞ 64\n"
   ]
  },
  {
   "cell_type": "code",
   "execution_count": 210,
   "metadata": {},
   "outputs": [
    {
     "name": "stdout",
     "output_type": "stream",
     "text": [
      "GCD([2, 4, 6, 8, 16]) -->  2\n",
      "GCD([10, 20, 40]) -->  10\n",
      "GCD([1, 2, 3, 100]) --> 1\n",
      "GCD([1024, 192, 2048, 512]) --> 64\n"
     ]
    }
   ],
   "source": [
    "def find_gcd(x, y):\n",
    "    while(y):\n",
    "        x, y = y, x % y\n",
    "  \n",
    "    return x\n",
    "\n",
    "\n",
    "def GCD(arg):\n",
    "    list1 = arg\n",
    "    num1 = list1[0]\n",
    "    num2 = list1[1]\n",
    "    gcd = find_gcd(num1, num2)\n",
    "    for i in range(0, len(list1)):\n",
    "        gcd = find_gcd(gcd, list1[i])\n",
    "    return gcd\n",
    "\n",
    "print(\"GCD([2, 4, 6, 8, 16]) --> \", GCD([2, 4, 6, 8, 16]))\n",
    "print(\"GCD([10, 20, 40]) --> \", GCD([10, 20, 40]))\n",
    "print(\"GCD([1, 2, 3, 100]) -->\", GCD([1, 2, 3, 100]) )\n",
    "print(\"GCD([1024, 192, 2048, 512]) -->\", GCD([1024, 192, 2048, 512]))"
   ]
  },
  {
   "cell_type": "markdown",
   "metadata": {},
   "source": [
    "### 5. A number/string is a palindrome if the digits/characters are the same when read both forward and backward. Examples include \"racecar\" and 12321. Given a positive number n, check if n or the binary representation of n is palindromic. Return the following:\n",
    "\n",
    "- \"Decimal only.\" if only n is a palindrome.\n",
    "- \"Binary only.\" if only the binary representation of n is a palindrome.\n",
    "- \"Decimal and binary.\" if both are palindromes.\n",
    "- \"Neither!\" if neither are palindromes.\n",
    "\n",
    "Examples\n",
    "\n",
    "palindrome_type(1306031) ➞ \"Decimal only.\"\n",
    "# decimal = 1306031\n",
    "# binary  = \"100111110110110101111\"\n",
    "\n",
    "palindrome_type(427787) ➞ \"Binary only.\"\n",
    "# decimal = 427787\n",
    "# binary  = \"1101000011100001011\"\n",
    "\n",
    "palindrome_type(313) ➞ \"Decimal and binary.\"\n",
    "# decimal = 313\n",
    "# binary  = 100111001\n",
    "\n",
    "palindrome_type(934) ➞ \"Neither!\"\n",
    "# decimal = 934\n",
    "# binary  = \"1110100110\"\n"
   ]
  },
  {
   "cell_type": "code",
   "execution_count": 251,
   "metadata": {},
   "outputs": [
    {
     "name": "stdout",
     "output_type": "stream",
     "text": [
      "palindrome_type(1306031) -->  Decimal is Binary\n",
      "palindrome_type(427787) -->  Binary is palindrome\n",
      "palindrome_type(313) -->  Decimal and Binary are Palindrome\n",
      "palindrome_type(934)  --> Decimal and Binary both are not Palindrome\n"
     ]
    }
   ],
   "source": [
    "def decimalToBinary(n):\n",
    "    return bin(n).replace(\"0b\", \"\")\n",
    "\n",
    "\n",
    "def palindrome_type(s):\n",
    "    \n",
    "    s1 = str(s)\n",
    "    s2 = decimalToBinary(s)\n",
    "    if s1 == s1[::-1] and s2 == s2[::-1]:\n",
    "        return \"Decimal and Binary are Palindrome\"\n",
    "    elif s2 == s2[::-1]:\n",
    "        return \"Binary is palindrome\"\n",
    "    elif s1 == s1[::-1]:\n",
    "        return \"Decimal is Binary\"\n",
    "    else:\n",
    "        return \"Decimal and Binary both are not Palindrome\"\n",
    "    \n",
    "\n",
    "print(\"palindrome_type(1306031) --> \", palindrome_type(1306031) )\n",
    "print(\"palindrome_type(427787) --> \",palindrome_type(427787))\n",
    "print(\"palindrome_type(313) --> \", palindrome_type(313) )\n",
    "print(\"palindrome_type(934)  -->\", palindrome_type(934) )\n",
    " "
   ]
  },
  {
   "cell_type": "code",
   "execution_count": null,
   "metadata": {},
   "outputs": [],
   "source": []
  }
 ],
 "metadata": {
  "kernelspec": {
   "display_name": "Python 3",
   "language": "python",
   "name": "python3"
  },
  "language_info": {
   "codemirror_mode": {
    "name": "ipython",
    "version": 3
   },
   "file_extension": ".py",
   "mimetype": "text/x-python",
   "name": "python",
   "nbconvert_exporter": "python",
   "pygments_lexer": "ipython3",
   "version": "3.8.3"
  }
 },
 "nbformat": 4,
 "nbformat_minor": 4
}
