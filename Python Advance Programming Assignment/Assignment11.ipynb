{
 "cells": [
  {
   "cell_type": "markdown",
   "metadata": {},
   "source": [
    "## Assignment11"
   ]
  },
  {
   "cell_type": "markdown",
   "metadata": {},
   "source": [
    "### 1. Create a function that takes a list and returns a new list containing only prime numbers.\n",
    "\n",
    "Examples\n",
    "\n",
    "filter_primes([7, 9, 3, 9, 10, 11, 27]) ➞ [7, 3, 11]\n",
    "\n",
    "filter_primes([10007, 1009, 1007, 27, 147, 77, 1001, 70]) ➞ [10007, 1009]\n",
    "\n",
    "filter_primes([1009, 10, 10, 10, 3, 33, 9, 4, 1, 61, 63, 69, 1087, 1091, 1093, 1097]) ➞ [1009, 3, 61, 1087, 1091, 1093, 1097]\n"
   ]
  },
  {
   "cell_type": "code",
   "execution_count": 65,
   "metadata": {},
   "outputs": [
    {
     "name": "stdout",
     "output_type": "stream",
     "text": [
      "filter_primes([7, 9, 3, 9, 10, 11, 27]) ➞  [11, 3, 7]\n",
      "filter_primes([10007, 1009, 1007, 27, 147, 77, 1001, 70]) ➞ [1009, 10007]\n",
      "filter_primes([1009, 10, 10, 10, 3, 33, 9, 4, 1, 61, 63, 69, 1087, 1091, 1093, 1097]) ➞ [1, 1091, 3, 1093, 1097, 1009, 61, 1087]\n"
     ]
    }
   ],
   "source": [
    "# function to list values of prime numbers\n",
    "\n",
    "def filter_primes(list1):\n",
    "    \n",
    "    list2 = []\n",
    "    \n",
    "    # prime numbers are greater than 1\n",
    "    for i in list1:\n",
    "        if i > 1:\n",
    "            for j in range(2, i):\n",
    "                if (i % j) == 0:\n",
    "                    list2.append(i)\n",
    "                   #print(num,\"is not a prime number\")\n",
    "                   #print(i,\"times\",num//i,\"is\",num)\n",
    "                    break\n",
    "    return list(set(list1)-set(list2))\n",
    "    \n",
    "\n",
    "print(\"filter_primes([7, 9, 3, 9, 10, 11, 27]) ➞ \", filter_primes([7, 9, 3, 9, 10, 11, 27]))\n",
    "\n",
    "print(\"filter_primes([10007, 1009, 1007, 27, 147, 77, 1001, 70]) ➞\", filter_primes([10007, 1009, 1007, 27, 147, 77, 1001, 70]))\n",
    "\n",
    "print(\"filter_primes([1009, 10, 10, 10, 3, 33, 9, 4, 1, 61, 63, 69, 1087, 1091, 1093, 1097]) ➞\", filter_primes([1009, 10, 10, 10, 3, 33, 9, 4, 1, 61, 63, 69, 1087, 1091, 1093, 1097]))\n"
   ]
  },
  {
   "cell_type": "markdown",
   "metadata": {},
   "source": [
    "### 2. Once a water balloon pops, is soaks the area around it. The ground gets drier the further away you travel from the balloon.\n",
    "\n",
    "The effect of a water balloon popping can be modeled using a list. Create a function that takes a list which takes the pre-pop state and returns the state after the balloon is popped. The pre-pop state will contain at most a single balloon, whose size is represented by the only non-zero element.\n",
    "\n",
    "Examples\n",
    "\n",
    "pop([0, 0, 0, 0, 4, 0, 0, 0, 0]) ➞ [0, 1, 2, 3, 4, 3, 2, 1, 0]\n",
    "\n",
    "pop([0, 0, 0, 3, 0, 0, 0]) ➞ [0, 1, 2, 3, 2, 1, 0]\n",
    "\n",
    "pop([0, 0, 2, 0, 0]) ➞ [0, 1, 2, 1, 0]\n",
    "\n",
    "pop([0]) ➞ [0]\n"
   ]
  },
  {
   "cell_type": "code",
   "execution_count": 68,
   "metadata": {},
   "outputs": [
    {
     "name": "stdout",
     "output_type": "stream",
     "text": [
      "pop([0, 0, 0, 0, 4, 0, 0, 0, 0]) ➞  [0, 1, 2, 3, 4, 3, 2, 1, 0]\n",
      "pop([0, 0, 0, 3, 0, 0, 0]) ➞  [0, 1, 2, 3, 2, 1, 0]\n",
      "pop([0, 0, 2, 0, 0]) ➞  [0, 1, 2, 1, 0]\n",
      "pop([0]) ➞  [0]\n"
     ]
    }
   ],
   "source": [
    "def pop(list1):\n",
    "    list2 = []\n",
    "    # appending list values in increasing order\n",
    "    for i in range(0, int(len(list1)/2)):\n",
    "        list2.append(i)\n",
    "    #appending list values in decreasing order\n",
    "    for i in range(int(len(list1)/2), -1, -1):\n",
    "        list2.append(i)\n",
    "    return list2\n",
    "\n",
    "print(\"pop([0, 0, 0, 0, 4, 0, 0, 0, 0]) ➞ \", pop([0, 0, 0, 0, 4, 0, 0, 0, 0]))\n",
    "\n",
    "print(\"pop([0, 0, 0, 3, 0, 0, 0]) ➞ \", pop([0, 0, 0, 3, 0, 0, 0]))\n",
    "\n",
    "print(\"pop([0, 0, 2, 0, 0]) ➞ \", pop([0, 0, 2, 0, 0]))\n",
    "\n",
    "print(\"pop([0]) ➞ \", pop([0]))"
   ]
  },
  {
   "cell_type": "markdown",
   "metadata": {},
   "source": [
    "### 3. \"Loves me, loves me not\" is a traditional game in which a person plucks off all the petals of a flower one by one, saying the phrase \"Loves me\" and \"Loves me not\" when determining whether the one that they love, loves them back.\n",
    "\n",
    "Given a number of petals, return a string which repeats the phrases \"Loves me\" and \"Loves me not\" for every alternating petal, and return the last phrase in all caps. Remember to put a comma and space between phrases.\n",
    "\n",
    "Examples\n",
    "\n",
    "loves_me(3) ➞ \"Loves me, Loves me not, LOVES ME\"\n",
    "\n",
    "loves_me(6) ➞ \"Loves me, Loves me not, Loves me, Loves me not, Loves me, LOVES ME NOT\"\n",
    "\n",
    "loves_me(1) ➞ \"LOVES ME\"\n",
    "\n"
   ]
  },
  {
   "cell_type": "code",
   "execution_count": 78,
   "metadata": {},
   "outputs": [],
   "source": [
    "def loves_me(num):\n",
    "    list2 = []\n",
    "    for i in range(0, num):\n",
    "        if i%2==0:\n",
    "            list2.append(\"Loves me\")\n",
    "        else:\n",
    "            list2.append(\"Loves me not\")\n",
    "    list2[-1] = list2[-1].upper()\n",
    "    return list2\n",
    "print(\"loves_me(3) ➞ \", loves_me(3))\n",
    "print(\"\")"
   ]
  },
  {
   "cell_type": "code",
   "execution_count": 77,
   "metadata": {},
   "outputs": [
    {
     "data": {
      "text/plain": [
       "['Loves me', 'Loves me not', 'LOVES ME']"
      ]
     },
     "execution_count": 77,
     "metadata": {},
     "output_type": "execute_result"
    }
   ],
   "source": [
    "list2"
   ]
  },
  {
   "cell_type": "markdown",
   "metadata": {},
   "source": [
    "### 4. Write a function that sorts each string in a list by the letter in alphabetic ascending order (a-z).\n",
    "\n",
    "Examples\n",
    "\n",
    "sort_by_letter([\"932c\", \"832u32\", \"2344b\"])\n",
    "➞ [\"2344b\", \"932c\", \"832u32\"]\n",
    "\n",
    "sort_by_letter([\"99a\", \"78b\", \"c2345\", \"11d\"])\n",
    "➞ [\"99a\", \"78b\", \"c2345\", \"11d\"]\n",
    "\n",
    "sort_by_letter([\"572z\", \"5y5\", \"304q2\"])\n",
    "➞ [\"304q2\", \"5y5\", \"572z\"]\n",
    "\n",
    "sort_by_letter([])\n",
    "➞ []\n"
   ]
  },
  {
   "cell_type": "code",
   "execution_count": 56,
   "metadata": {},
   "outputs": [
    {
     "name": "stdout",
     "output_type": "stream",
     "text": [
      "['2344b', '932c', '832u32']\n",
      "['99a', '78b', 'c2345', '11d']\n",
      "['304q2', '5y5', '572z']\n",
      "[]\n"
     ]
    }
   ],
   "source": [
    "def sort_by_letter(list1):\n",
    "    list2 = []\n",
    "    # appending list2 with aphabets in list of strings\n",
    "    for i in list1:\n",
    "        for j in i:\n",
    "            if j.isalpha():\n",
    "                list2.append(j)\n",
    "    # sorting alphabets in list\n",
    "    list2.sort()\n",
    "    list3 = []\n",
    "    # finding string according to the sorted alphabet and appending to the new list which is returning\n",
    "    for k in list2:\n",
    "        for l in list1:\n",
    "            for m in l:\n",
    "                if m==k:\n",
    "                    list3.append(l)\n",
    "    return list3\n",
    "    \n",
    "\n",
    "print(sort_by_letter([\"932c\", \"832u32\", \"2344b\"]))\n",
    "print(sort_by_letter([\"99a\", \"78b\", \"c2345\", \"11d\"]))\n",
    "print(sort_by_letter([\"572z\", \"5y5\", \"304q2\"]))\n",
    "print(sort_by_letter([]))"
   ]
  },
  {
   "cell_type": "markdown",
   "metadata": {},
   "source": [
    "### 5. There are three cups on a table, at positions A, B, and C. At the start, there is a ball hidden under the cup at position B.\n",
    "\n",
    "\n",
    "\n",
    "\n",
    "\n",
    "\n",
    "However, I perform several swaps on the cups, which is notated as two letters. For example, if I swap the cups at positions A and B, I could notate this as AB or BA.\n",
    "\n",
    "Create a function that returns the letter position that the ball is at, once I finish swapping the cups. The swaps will be given to you as a list.\n",
    "\n",
    "Example\n",
    "\n",
    "cup_swapping([\"AB\", \"CA\", \"AB\"]) ➞ \"C\"\n",
    "\n",
    "# Ball begins at position B.\n",
    "# Cups A and B swap, so the ball is at position A.\n",
    "# Cups C and A swap, so the ball is at position C.\n",
    "# Cups A and B swap, but the ball is at position C, so it doesn't move.\n"
   ]
  },
  {
   "cell_type": "code",
   "execution_count": 24,
   "metadata": {},
   "outputs": [
    {
     "data": {
      "text/plain": [
       "'C'"
      ]
     },
     "execution_count": 24,
     "metadata": {},
     "output_type": "execute_result"
    }
   ],
   "source": [
    "def cup_swapping(list1):\n",
    "    A, B, C = 'no', 'yes', 'no'\n",
    "    for i in list1:\n",
    "        for j in i:\n",
    "            if i == 'AB':\n",
    "                temp = A\n",
    "                A = B\n",
    "                B = temp\n",
    "                break\n",
    "            \n",
    "            elif i == 'CA':\n",
    "                temp = C\n",
    "                C = A\n",
    "                A = temp\n",
    "                break\n",
    "    if A=='yes':\n",
    "        return \"A\"\n",
    "    elif B=='yes':\n",
    "        return 'B'\n",
    "    else:\n",
    "        return 'C'\n",
    "    \n",
    "cup_swapping(['AB', 'CA', 'AB'])\n",
    "       "
   ]
  },
  {
   "cell_type": "code",
   "execution_count": null,
   "metadata": {},
   "outputs": [],
   "source": []
  }
 ],
 "metadata": {
  "kernelspec": {
   "display_name": "Python 3",
   "language": "python",
   "name": "python3"
  },
  "language_info": {
   "codemirror_mode": {
    "name": "ipython",
    "version": 3
   },
   "file_extension": ".py",
   "mimetype": "text/x-python",
   "name": "python",
   "nbconvert_exporter": "python",
   "pygments_lexer": "ipython3",
   "version": "3.8.3"
  }
 },
 "nbformat": 4,
 "nbformat_minor": 4
}
