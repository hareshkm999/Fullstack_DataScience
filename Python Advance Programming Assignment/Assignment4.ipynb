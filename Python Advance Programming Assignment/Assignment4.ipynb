{
 "cells": [
  {
   "cell_type": "markdown",
   "metadata": {},
   "source": [
    "## Assignment4"
   ]
  },
  {
   "cell_type": "markdown",
   "metadata": {},
   "source": [
    "### 1. In mathematics, the Fibonacci numbers, commonly denoted Fn, form a sequence, called the Fibonacci sequence, such that each number is the sum of the two preceding ones, starting from 0 and 1:\n",
    "\n",
    "\n",
    "\n",
    "\n",
    "\n",
    "\n",
    "\n",
    "\n",
    "\n",
    "\n",
    "The beginning of the sequence is this:\n",
    "\n",
    "0, 1, 1, 2, 3, 5, 8, 13, 21, 34, 55, 89, 144, ...\n",
    "\n",
    "The function fastFib(num) returns the fibonacci number Fn, of the given num as an argument.\n",
    "\n",
    "Examples\n",
    "\n",
    "fib_fast(5) ➞ 5\n",
    "\n",
    "fib_fast(10) ➞ 55\n",
    "\n",
    "fib_fast(20) ➞ 6765\n",
    "\n",
    "fib_fast(50) ➞ 12586269025\n"
   ]
  },
  {
   "cell_type": "code",
   "execution_count": 3,
   "metadata": {},
   "outputs": [
    {
     "name": "stdout",
     "output_type": "stream",
     "text": [
      "fib_fast(5) ➞  5\n",
      "fib_fast(10) ➞  55\n",
      "fib_fast(20) ➞  6765\n",
      "fib_fast(50) ➞  12586269025\n"
     ]
    }
   ],
   "source": [
    "def fib_fast(n):\n",
    "    a = 0\n",
    "    b = 1\n",
    "     \n",
    "    # Check is n is less\n",
    "    # than 0\n",
    "    if n < 0:\n",
    "        print(\"Incorrect input\")\n",
    "         \n",
    "    # Check is n is equal\n",
    "    # to 0\n",
    "    elif n == 0:\n",
    "        return 0\n",
    "       \n",
    "    # Check if n is equal to 1\n",
    "    elif n == 1:\n",
    "        return b\n",
    "    else:\n",
    "        for i in range(1, n):\n",
    "            c = a + b\n",
    "            a = b\n",
    "            b = c\n",
    "        return b\n",
    " \n",
    "\n",
    "print(\"fib_fast(5) ➞ \", fib_fast(5))\n",
    "\n",
    "print(\"fib_fast(10) ➞ \", fib_fast(10))\n",
    "\n",
    "print(\"fib_fast(20) ➞ \", fib_fast(20))\n",
    "\n",
    "print(\"fib_fast(50) ➞ \", fib_fast(50))"
   ]
  },
  {
   "cell_type": "markdown",
   "metadata": {},
   "source": [
    "### 2. Create a function that takes a strings characters as ASCII and returns each characters hexadecimal value as a string.\n",
    "\n",
    "Examples\n",
    "\n",
    "convert_to_hex(\"hello world\") ➞ \"68 65 6c 6c 6f 20 77 6f 72 6c 64\"\n",
    "\n",
    "convert_to_hex(\"Big Boi\") ➞ \"42 69 67 20 42 6f 69\"\n",
    "\n",
    "convert_to_hex(\"Marty Poppinson\") ➞ \"4d 61 72 74 79 20 50 6f 70 70 69 6e 73 6f 6e\"\n",
    "\n"
   ]
  },
  {
   "cell_type": "code",
   "execution_count": 10,
   "metadata": {},
   "outputs": [
    {
     "name": "stdout",
     "output_type": "stream",
     "text": [
      "68656c6c6f20776f726c64\n",
      "42696720426f69\n",
      "4d6172747920506f7070696e736f6e\n"
     ]
    }
   ],
   "source": [
    "def convert_to_hex(ascii):\n",
    " \n",
    "    # Initialize final String\n",
    "    hexa = \"\"\n",
    " \n",
    "    # Make a loop to iterate through\n",
    "    # every character of ascii string\n",
    "    for i in range(len(ascii)):\n",
    " \n",
    "        # take a char from\n",
    "        # position i of string\n",
    "        ch = ascii[i]\n",
    " \n",
    "        # cast char to integer and\n",
    "        # find its ascii value\n",
    "        in1 = ord(ch)\n",
    "   \n",
    "        # change this ascii value\n",
    "        # integer to hexadecimal value\n",
    "        part = hex(in1).lstrip(\"0x\").rstrip(\"L\")\n",
    " \n",
    "        # add this hexadecimal value\n",
    "        # to final string.\n",
    "        hexa += part\n",
    " \n",
    "    # return the final string hex\n",
    "    return hexa\n",
    "\n",
    "print(convert_to_hex(\"hello world\"))\n",
    "\n",
    "print(convert_to_hex(\"Big Boi\"))\n",
    "\n",
    "print(convert_to_hex(\"Marty Poppinson\"))"
   ]
  },
  {
   "cell_type": "markdown",
   "metadata": {},
   "source": [
    "### 3. Someone has attempted to censor my strings by replacing every vowel with a *, l*k* th*s. Luckily, I've been able to find the vowels that were removed.\n",
    "\n",
    "Given a censored string and a string of the censored vowels, return the original uncensored string.\n",
    "\n",
    "Example\n",
    "\n",
    "uncensor(\"Wh*r* d*d my v*w*ls g*?\", \"eeioeo\") ➞ \"Where did my vowels go?\"\n",
    "\n",
    "uncensor(\"abcd\", \"\") ➞ \"abcd\"\n",
    "\n",
    "uncensor(\"*PP*RC*S*\", \"UEAE\") ➞ \"UPPERCASE\"\n"
   ]
  },
  {
   "cell_type": "code",
   "execution_count": 242,
   "metadata": {},
   "outputs": [
    {
     "name": "stdout",
     "output_type": "stream",
     "text": [
      "Where did my vowels go?\n",
      "abcd\n",
      "UPPERCASE\n"
     ]
    }
   ],
   "source": [
    "def uncensor(str1, str2):\n",
    "    #converting strings to lists\n",
    "    list1 = list(str1)\n",
    "    list2 = list(str2)\n",
    "    #creating empty list to know positiong of *\n",
    "    list3 = []\n",
    "    for i in range(0, len(list1)):\n",
    "        if str1[i] == '*':\n",
    "            list3.append(i)\n",
    "    \n",
    "    # filling position og * with str2\n",
    "    for i in range(0, len(list3)):\n",
    "        list1[list3[i]]=list2[i]\n",
    "    \n",
    "    return ''.join(list1)\n",
    "\n",
    "print(uncensor(\"Wh*r* d*d my v*w*ls g*?\", \"eeioeo\"))\n",
    "print(uncensor(\"abcd\", \"\"))\n",
    "print(uncensor(\"*PP*RC*S*\", \"UEAE\"))"
   ]
  },
  {
   "cell_type": "markdown",
   "metadata": {},
   "source": [
    "### 4. Write a function that takes an IP address and returns the domain name using PTR DNS records.\n",
    "\n",
    "Example\n",
    "\n",
    "get_domain(\"8.8.8.8\") ➞ \"dns.google\"\n",
    "\n",
    "get_domain(\"8.8.4.4\") ➞ \"dns.google\"\n"
   ]
  },
  {
   "cell_type": "code",
   "execution_count": 245,
   "metadata": {},
   "outputs": [
    {
     "name": "stdout",
     "output_type": "stream",
     "text": [
      "PTR Record :  ec2-34-218-62-116.us-west-2.compute.amazonaws.com.\n"
     ]
    }
   ],
   "source": [
    "# Import libraries\n",
    "import dns.resolver\n",
    "  \n",
    "# Finding PTR record\n",
    "result = dns.resolver.query('116.62.218.34.in-addr.arpa', 'PTR')\n",
    "  \n",
    "# Printing record\n",
    "for val in result:\n",
    "    print('PTR Record : ', val.to_text())"
   ]
  },
  {
   "cell_type": "markdown",
   "metadata": {},
   "source": [
    "### 5. Create a function that takes an integer n and returns the factorial of factorials. See below examples for a better understanding:\n",
    "\n",
    "Examples\n",
    "\n",
    "fact_of_fact(4) ➞ 288\n",
    "# 4! * 3! * 2! * 1! = 288\n",
    "\n",
    "fact_of_fact(5) ➞ 34560\n",
    "\n",
    "fact_of_fact(6) ➞ 24883200\n"
   ]
  },
  {
   "cell_type": "code",
   "execution_count": 258,
   "metadata": {},
   "outputs": [
    {
     "name": "stdout",
     "output_type": "stream",
     "text": [
      "fact_of_fact(4) ➞  288\n",
      "fact_of_fact(5) ➞  34560\n",
      "fact_of_fact(6) ➞  24883200\n"
     ]
    }
   ],
   "source": [
    "import math\n",
    "def fact_of_fact(num):\n",
    "    prod = 1\n",
    "    for i in range(1,num+1):\n",
    "        prod *= math.factorial(i)\n",
    "    return prod\n",
    "print(\"fact_of_fact(4) ➞ \", fact_of_fact(4))\n",
    "print(\"fact_of_fact(5) ➞ \", fact_of_fact(5))\n",
    "print(\"fact_of_fact(6) ➞ \", fact_of_fact(6))"
   ]
  }
 ],
 "metadata": {
  "kernelspec": {
   "display_name": "Python 3",
   "language": "python",
   "name": "python3"
  },
  "language_info": {
   "codemirror_mode": {
    "name": "ipython",
    "version": 3
   },
   "file_extension": ".py",
   "mimetype": "text/x-python",
   "name": "python",
   "nbconvert_exporter": "python",
   "pygments_lexer": "ipython3",
   "version": "3.8.3"
  }
 },
 "nbformat": 4,
 "nbformat_minor": 4
}
