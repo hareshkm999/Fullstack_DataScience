{
 "cells": [
  {
   "cell_type": "markdown",
   "metadata": {},
   "source": [
    "# Assignment_20"
   ]
  },
  {
   "cell_type": "markdown",
   "metadata": {},
   "source": [
    "### 1. Set the variable test1 to the string 'This is a test of the emergency text system,' and save test1 to a file named test.txt."
   ]
  },
  {
   "cell_type": "code",
   "execution_count": null,
   "metadata": {},
   "outputs": [],
   "source": [
    "test1 = 'This is a test of the emergency text system,'"
   ]
  },
  {
   "cell_type": "code",
   "execution_count": null,
   "metadata": {},
   "outputs": [],
   "source": [
    "f = open('test1.txt', 'w')\n",
    "f.write(test1)\n",
    "f.close()"
   ]
  },
  {
   "cell_type": "markdown",
   "metadata": {},
   "source": [
    "### 2. Read the contents of the file test.txt into the variable test2. Is there a difference between test 1 and test 2?"
   ]
  },
  {
   "cell_type": "code",
   "execution_count": null,
   "metadata": {},
   "outputs": [],
   "source": [
    "# open both files\n",
    "with open('test1.txt', 'r') as first_file, open('test2.txt', 'a') as second_file:\n",
    "    # read content from first file\n",
    "    for line in first_file:\n",
    "        # append content to second file\n",
    "        second_file.write(line)\n",
    "    \n",
    "        \n",
    "# no difference"
   ]
  },
  {
   "cell_type": "markdown",
   "metadata": {},
   "source": [
    "### 3. Create a CSV file called books.csv by using these lines:\n",
    "title,author,year\n",
    "The Weirdstone of Brisingamen,Alan Garner,1960\n",
    "Perdido Street Station,China Miéville,2000\n",
    "Thud!,Terry Pratchett,2005\n",
    "The Spellman Files,Lisa Lutz,2007\n",
    "Small Gods,Terry Pratchett,1992\n"
   ]
  },
  {
   "cell_type": "code",
   "execution_count": null,
   "metadata": {},
   "outputs": [],
   "source": [
    "import csv\n",
    "a = \"\"\"title,author,year\n",
    "The Weirdstone of Brisingamen,Alan Garner,1960\n",
    "Perdido Street Station,China Miéville,2000\n",
    "Thud!,Terry Pratchett,2005\n",
    "The Spellman Files,Lisa Lutz,2007\n",
    "Small Gods,Terry Pratchett,1992\n",
    "\"\"\"\n",
    "with open('books.csv', 'w') as books:\n",
    "    books.write(a)\n",
    "    "
   ]
  },
  {
   "cell_type": "markdown",
   "metadata": {},
   "source": [
    "### 4. Use the sqlite3 module to create a SQLite database called books.db, and a table called books with these fields: title (text), author (text), and year (integer)."
   ]
  },
  {
   "cell_type": "code",
   "execution_count": null,
   "metadata": {},
   "outputs": [],
   "source": [
    "import sqlite3\n",
    "#connecting with the database.\n",
    "db = sqlite3.connect('books.db')"
   ]
  },
  {
   "cell_type": "code",
   "execution_count": null,
   "metadata": {},
   "outputs": [],
   "source": [
    "cursor1 = db.cursor()"
   ]
  },
  {
   "cell_type": "code",
   "execution_count": null,
   "metadata": {},
   "outputs": [],
   "source": [
    "cursor1.execute(\"create table books (title text, author text, year int)\")\n",
    "db.close()"
   ]
  },
  {
   "cell_type": "markdown",
   "metadata": {},
   "source": [
    "### 5. Read books.csv and insert its data into the book table."
   ]
  },
  {
   "cell_type": "code",
   "execution_count": null,
   "metadata": {},
   "outputs": [],
   "source": [
    "import csv, sqlite3\n",
    "\n",
    "db = sqlite3.connect(\"books.db\")  # creating connection object to database\n",
    "cursor2 = db.cursor()             # creating cursor object to database\n",
    "\n",
    "with open(\"books.csv\", 'r') as f: # opening file in read mode\n",
    "    dr = csv.DictReader(f)        # converting csv to list using list comprehension\n",
    "    to_db = [(i['title'], i['author'], i['year']) for i in dr]\n",
    "    \n",
    "cursor2.executemany(\"INSERT INTO books (title, author, year) values (?, ?, ?);\", to_db) #executing insert statement on books table\n",
    "db.commit()\n",
    "db.close()"
   ]
  },
  {
   "cell_type": "markdown",
   "metadata": {},
   "source": [
    "### 6. Select and print the title column from the book table in alphabetical order."
   ]
  },
  {
   "cell_type": "code",
   "execution_count": null,
   "metadata": {},
   "outputs": [],
   "source": [
    "import sqlite3\n",
    "db = sqlite3.connect(\"books.db\") # creating connection object to database\n",
    "cursor3 = db.cursor()            # creating cursor object to database\n",
    "\n",
    "data = cursor3.execute(\"SELECT title from books order by title ASC;\") # executing cql command\n",
    "\n",
    "for x in data:\n",
    "    print(x)\n",
    "\n",
    "db.close()"
   ]
  },
  {
   "cell_type": "markdown",
   "metadata": {},
   "source": [
    "### 7. From the book table, select and print all columns in the order of publication."
   ]
  },
  {
   "cell_type": "code",
   "execution_count": null,
   "metadata": {},
   "outputs": [],
   "source": [
    "import sqlite3\n",
    "\n",
    "db = sqlite3.connect(\"books.db\") # creating connection object to books database\n",
    "\n",
    "cursor4 = db.cursor()            # creating cursor object for connection db\n",
    "\n",
    "data = cursor4.execute(\"SELECT * FROM books ORDER BY YEAR;\")  #creating sql expression for books table \n",
    "\n",
    "for i in data:\n",
    "    print(i)\n",
    "db.close()"
   ]
  },
  {
   "cell_type": "markdown",
   "metadata": {},
   "source": [
    "### 8. Use the sqlalchemy module to connect to the sqlite3 database books.db that you just made in exercise 6."
   ]
  },
  {
   "cell_type": "code",
   "execution_count": 7,
   "metadata": {},
   "outputs": [
    {
     "name": "stdout",
     "output_type": "stream",
     "text": [
      "['books']\n"
     ]
    }
   ],
   "source": [
    "import sqlalchemy\n",
    "import pandas as pd\n",
    "\n",
    "dbEngine = sqlalchemy.create_engine(\"sqlite:///books.db\") # creating engine to connect sqlite db using sqlalchemy\n",
    "#connection  = dbEngine.connect()\n",
    "df = pd.read_sql('SELECT title from books order by title ASC', dbEngine)\n",
    "print(dbEngine.table_names())"
   ]
  },
  {
   "cell_type": "code",
   "execution_count": 8,
   "metadata": {},
   "outputs": [
    {
     "data": {
      "text/html": [
       "<div>\n",
       "<style scoped>\n",
       "    .dataframe tbody tr th:only-of-type {\n",
       "        vertical-align: middle;\n",
       "    }\n",
       "\n",
       "    .dataframe tbody tr th {\n",
       "        vertical-align: top;\n",
       "    }\n",
       "\n",
       "    .dataframe thead th {\n",
       "        text-align: right;\n",
       "    }\n",
       "</style>\n",
       "<table border=\"1\" class=\"dataframe\">\n",
       "  <thead>\n",
       "    <tr style=\"text-align: right;\">\n",
       "      <th></th>\n",
       "      <th>title</th>\n",
       "    </tr>\n",
       "  </thead>\n",
       "  <tbody>\n",
       "    <tr>\n",
       "      <th>0</th>\n",
       "      <td>Perdido Street Station</td>\n",
       "    </tr>\n",
       "    <tr>\n",
       "      <th>1</th>\n",
       "      <td>Perdido Street Station</td>\n",
       "    </tr>\n",
       "    <tr>\n",
       "      <th>2</th>\n",
       "      <td>Small Gods</td>\n",
       "    </tr>\n",
       "    <tr>\n",
       "      <th>3</th>\n",
       "      <td>Small Gods</td>\n",
       "    </tr>\n",
       "    <tr>\n",
       "      <th>4</th>\n",
       "      <td>The Spellman Files</td>\n",
       "    </tr>\n",
       "    <tr>\n",
       "      <th>5</th>\n",
       "      <td>The Spellman Files</td>\n",
       "    </tr>\n",
       "    <tr>\n",
       "      <th>6</th>\n",
       "      <td>The Weirdstone of Brisingamen</td>\n",
       "    </tr>\n",
       "    <tr>\n",
       "      <th>7</th>\n",
       "      <td>The Weirdstone of Brisingamen</td>\n",
       "    </tr>\n",
       "    <tr>\n",
       "      <th>8</th>\n",
       "      <td>Thud!</td>\n",
       "    </tr>\n",
       "    <tr>\n",
       "      <th>9</th>\n",
       "      <td>Thud!</td>\n",
       "    </tr>\n",
       "  </tbody>\n",
       "</table>\n",
       "</div>"
      ],
      "text/plain": [
       "                           title\n",
       "0         Perdido Street Station\n",
       "1         Perdido Street Station\n",
       "2                     Small Gods\n",
       "3                     Small Gods\n",
       "4             The Spellman Files\n",
       "5             The Spellman Files\n",
       "6  The Weirdstone of Brisingamen\n",
       "7  The Weirdstone of Brisingamen\n",
       "8                          Thud!\n",
       "9                          Thud!"
      ]
     },
     "execution_count": 8,
     "metadata": {},
     "output_type": "execute_result"
    }
   ],
   "source": [
    "df"
   ]
  },
  {
   "cell_type": "markdown",
   "metadata": {},
   "source": [
    "### 9. Install the Redis server and the Python redis library (pip install redis) on your computer. Create a Redis hash called test with the fields count (1) and name ('Fester Bestertester'). Print all the fields for test."
   ]
  },
  {
   "cell_type": "markdown",
   "metadata": {},
   "source": [
    "#### ==> Redis, which stands for Remote Dictionary Server, is a fast, open-source, in-memory key-value data store for use as a database, cache, message broker, and queue."
   ]
  },
  {
   "cell_type": "code",
   "execution_count": 9,
   "metadata": {},
   "outputs": [
    {
     "name": "stdout",
     "output_type": "stream",
     "text": [
      "Collecting redis\n",
      "  Downloading redis-3.5.3-py2.py3-none-any.whl (72 kB)\n",
      "Installing collected packages: redis\n",
      "Successfully installed redis-3.5.3\n"
     ]
    }
   ],
   "source": [
    "!pip install redis"
   ]
  },
  {
   "cell_type": "code",
   "execution_count": null,
   "metadata": {},
   "outputs": [],
   "source": [
    "# import the Redis client\n",
    "\n",
    "import redis\n",
    "\n",
    "# Create a redis client\n",
    "\n",
    "redisClient = redis.StrictRedis(host='localhost', port=6379, db=0)\n",
    "\n",
    "                               \n",
    "\n",
    "# Add key value pairs to the Redis hash\n",
    "\n",
    "hashName = \"test\"\n",
    "\n",
    "redisClient.hset(hashName, 1, \"Fester Bestertester\")\n",
    "\n",
    "redisClient.hset(hashName, 2, \"Apple Pie\")\n",
    "\n",
    " \n",
    "\n",
    "# Print the hash\n",
    "\n",
    "print(redisClient.hgetall(hashName))\n",
    "\n",
    " \n",
    "\n",
    "# Remove a key\n",
    "\n",
    "#redisClient.hdel(hashName, 1)\n",
    "\n",
    " \n",
    "\n",
    "# Print the hash after removing a key\n",
    "\n",
    "#print(redisClient.hgetall(hashName))"
   ]
  },
  {
   "cell_type": "markdown",
   "metadata": {},
   "source": [
    "### 10. Increment the count field of test and print it."
   ]
  },
  {
   "cell_type": "code",
   "execution_count": null,
   "metadata": {},
   "outputs": [],
   "source": [
    "# import the Redis client\n",
    "\n",
    "import redis\n",
    "\n",
    "# Create a redis client\n",
    "\n",
    "redisClient = redis.StrictRedis(host='localhost', port=6379, db=0)\n",
    "\n",
    "                               \n",
    "\n",
    "# Add key value pairs to the Redis hash\n",
    "\n",
    "hashName = \"test\"\n",
    "\n",
    "redisClient.hset(hashName, 1, \"Fester Bestertester\")\n",
    "\n",
    "redisClient.hset(hashName, 2, \"Apple Pie\")\n",
    "\n",
    "key = 1\n",
    "\n",
    "while key<3 :\n",
    "    print(redisClient.hexists(hashName, key))\n",
    "    key += 1\n",
    "    \n"
   ]
  }
 ],
 "metadata": {
  "kernelspec": {
   "display_name": "Python 3",
   "language": "python",
   "name": "python3"
  }
 },
 "nbformat": 4,
 "nbformat_minor": 4
}
