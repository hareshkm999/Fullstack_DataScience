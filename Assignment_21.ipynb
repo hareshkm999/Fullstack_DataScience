{
 "cells": [
  {
   "cell_type": "markdown",
   "metadata": {},
   "source": [
    "# Assignment_21"
   ]
  },
  {
   "cell_type": "markdown",
   "metadata": {},
   "source": [
    "### 1. Add the current date to the text file today.txt as a string."
   ]
  },
  {
   "cell_type": "code",
   "execution_count": 1,
   "metadata": {},
   "outputs": [],
   "source": [
    "import time\n",
    "time.localtime()\n",
    "with open('today.txt', 'w') as f:\n",
    "    f.write(str(time.localtime()))\n",
    "    "
   ]
  },
  {
   "cell_type": "code",
   "execution_count": 2,
   "metadata": {},
   "outputs": [
    {
     "name": "stdout",
     "output_type": "stream",
     "text": [
      "time.struct_time(tm_year=2021, tm_mon=3, tm_mday=30, tm_hour=14, tm_min=47, tm_sec=10, tm_wday=1, tm_yday=89, tm_isdst=0)\n"
     ]
    }
   ],
   "source": [
    "with open('today.txt', 'r') as f:\n",
    "    print(f.read())\n",
    "    "
   ]
  },
  {
   "cell_type": "markdown",
   "metadata": {},
   "source": [
    "### 2. Read the text file today.txt into the string today_string"
   ]
  },
  {
   "cell_type": "code",
   "execution_count": 3,
   "metadata": {},
   "outputs": [
    {
     "name": "stdout",
     "output_type": "stream",
     "text": [
      "time.struct_time(tm_year=2021, tm_mon=3, tm_mday=30, tm_hour=14, tm_min=47, tm_sec=10, tm_wday=1, tm_yday=89, tm_isdst=0)\n"
     ]
    }
   ],
   "source": [
    "with open('today.txt', 'r') as f:\n",
    "    today_string = f.read()\n",
    "print(today_string)"
   ]
  },
  {
   "cell_type": "markdown",
   "metadata": {},
   "source": [
    "### 3. Parse the date from today_string."
   ]
  },
  {
   "cell_type": "code",
   "execution_count": 4,
   "metadata": {},
   "outputs": [
    {
     "data": {
      "text/plain": [
       "str"
      ]
     },
     "execution_count": 4,
     "metadata": {},
     "output_type": "execute_result"
    }
   ],
   "source": [
    "type(today_string)"
   ]
  },
  {
   "cell_type": "code",
   "execution_count": 5,
   "metadata": {},
   "outputs": [
    {
     "name": "stdout",
     "output_type": "stream",
     "text": [
      "Today's date: 2021-03-30\n"
     ]
    }
   ],
   "source": [
    "from datetime import date\n",
    "\n",
    "today = date.today()\n",
    "print(\"Today's date:\", today)"
   ]
  },
  {
   "cell_type": "code",
   "execution_count": 6,
   "metadata": {},
   "outputs": [
    {
     "name": "stdout",
     "output_type": "stream",
     "text": [
      "2021-03-30\n"
     ]
    }
   ],
   "source": [
    "print(date.today())"
   ]
  },
  {
   "cell_type": "markdown",
   "metadata": {},
   "source": [
    "### 4. List the files in your current directory"
   ]
  },
  {
   "cell_type": "code",
   "execution_count": 7,
   "metadata": {},
   "outputs": [
    {
     "name": "stdout",
     "output_type": "stream",
     "text": [
      "13th jan python string and list manupulation.ipynb\n",
      "14-3-2021 class.ipynb\n",
      "19.1.SqLite.7z\n",
      "20-03-2021.ipynb\n",
      "21-03-2021 functions.ipynb\n",
      "7th march live class notebook for loop while and range function  (1).ipynb\n",
      "Assignment_10.docx\n",
      "Assignment_10.ipynb\n",
      "Assignment_11-checkpoint.ipynb\n",
      "Assignment_11.docx\n",
      "Assignment_11.ipynb\n",
      "Assignment_12.docx\n",
      "Assignment_12.ipynb\n",
      "Assignment_13.docx\n",
      "Assignment_13.ipynb\n",
      "Assignment_14.docx\n",
      "Assignment_14.ipynb\n",
      "Assignment_15.docx\n",
      "Assignment_15.ipynb\n",
      "Assignment_16.docx\n",
      "Assignment_16.ipynb\n",
      "Assignment_17.docx\n",
      "Assignment_17.ipynb\n",
      "Assignment_18.docx\n",
      "Assignment_18.ipynb\n",
      "Assignment_19.docx\n",
      "Assignment_19.ipynb\n",
      "Assignment_20.docx\n",
      "Assignment_20.ipynb\n",
      "Assignment_21.docx\n",
      "Assignment_21.ipynb\n",
      "Assignment_3.docx\n",
      "Assignment_3.ipynb\n",
      "Assignment_4.docx\n",
      "Assignment_4.ipynb\n",
      "Assignment_5.docx\n",
      "Assignment_5.ipynb\n",
      "Assignment_6.docx\n",
      "Assignment_6.ipynb\n",
      "Assignment_7.docx\n",
      "Assignment_7.ipynb\n",
      "Assignment_8.docx\n",
      "Assignment_8.ipynb\n",
      "Assignment_9.docx\n",
      "Assignment_9.ipynb\n",
      "books.csv\n",
      "books.db\n",
      "combinedminutes.pdf\n",
      "cropped.png\n",
      "demofile.py\n",
      "dog.png\n",
      "drawing.png\n",
      "encryptedsample.pdf\n",
      "example.tsv\n",
      "headings.docx\n",
      "helloworld.docx\n",
      "HOW TO SUBMIT ASSESSMENT.pdf\n",
      "list manupulaton.ipynb\n",
      "multipleParagraphs.docx\n",
      "persons.csv\n",
      "python basic.ipynb\n",
      "Redis-x64-3.2.100.zip\n",
      "rotatedPage.pdf\n",
      "sample.pdf\n",
      "sample2.pdf\n",
      "sample3.pdf\n",
      "sample_password.pdf\n",
      "sample_rotate.pdf\n",
      "test1.txt\n",
      "test2.txt\n",
      "time.txt\n",
      "today.txt\n",
      "TUPLE SET AND DICT.ipynb\n",
      "Untitled.ipynb\n",
      "zoo.py\n",
      "14-3-2021 class-checkpoint.ipynb\n",
      "20-03-2021-checkpoint.ipynb\n",
      "21-03-2021 functions-checkpoint.ipynb\n",
      "Assignment_10-checkpoint.ipynb\n",
      "Assignment_11-checkpoint.ipynb\n",
      "Assignment_12-checkpoint.ipynb\n",
      "Assignment_13-checkpoint.ipynb\n",
      "Assignment_14-checkpoint.ipynb\n",
      "Assignment_15-checkpoint.ipynb\n",
      "Assignment_16-checkpoint.ipynb\n",
      "Assignment_17-checkpoint.ipynb\n",
      "Assignment_18-checkpoint.ipynb\n",
      "Assignment_19-checkpoint.ipynb\n",
      "Assignment_20-checkpoint.ipynb\n",
      "Assignment_21-checkpoint.ipynb\n",
      "Assignment_3-checkpoint.ipynb\n",
      "Assignment_4-checkpoint.ipynb\n",
      "Assignment_5-checkpoint.ipynb\n",
      "Assignment_6-checkpoint.ipynb\n",
      "Assignment_7-checkpoint.ipynb\n",
      "Assignment_9-checkpoint.ipynb\n",
      "Untitled-checkpoint.ipynb\n",
      "19.1.SQLite.ipynb\n",
      "company_database.db\n",
      "company_database.db-journal\n",
      "food_database.db\n",
      "food_database.db-journal\n",
      "19.1.SQLite-checkpoint.ipynb\n",
      "demofile.cpython-38.pyc\n",
      "zoo.cpython-38.pyc\n"
     ]
    }
   ],
   "source": [
    "import os\n",
    "\n",
    "for root, dirs, files in os.walk(\".\"):\n",
    "    for filename in files:\n",
    "        print(filename)"
   ]
  },
  {
   "cell_type": "markdown",
   "metadata": {},
   "source": [
    "### 5. Create a list of all of the files in your parent directory (minimum five files should be available)."
   ]
  },
  {
   "cell_type": "code",
   "execution_count": null,
   "metadata": {},
   "outputs": [],
   "source": [
    "import os\n",
    "\n",
    "for root, dirs, files in os.walk(\"..\"):\n",
    "    i = 1\n",
    "    for filename in files:\n",
    "        \n",
    "        i += 1\n",
    "        if i <=5:\n",
    "            print(filename)\n",
    "        else:\n",
    "            break"
   ]
  },
  {
   "cell_type": "markdown",
   "metadata": {},
   "source": [
    "### 6. Use multiprocessing to create three separate processes. Make each one wait a random number of seconds between one and five, print the current time, and then exit."
   ]
  },
  {
   "cell_type": "code",
   "execution_count": null,
   "metadata": {},
   "outputs": [],
   "source": [
    "import datetime\n",
    "mydate = datetime.datetime.now()\n",
    "\n",
    "print(mydate.strftime(\"%B\"))\n",
    "time.sleep(2)\n",
    "    \n",
    "print(mydate.strftime(\"%A\"))\n",
    "time.sleep(2)\n",
    "    \n",
    "print(mydate.strftime(\"%D\"))\n",
    "time.sleep(2)"
   ]
  },
  {
   "cell_type": "markdown",
   "metadata": {},
   "source": [
    "### 7. Create a date object of your day of birth."
   ]
  },
  {
   "cell_type": "code",
   "execution_count": null,
   "metadata": {},
   "outputs": [],
   "source": [
    "\n",
    "import datetime\n",
    "\n",
    "d = datetime.date(1983, 1, 30)\n",
    "print(d)\n",
    "print('my day of birth: ', d.strftime(\"%A\"))\n"
   ]
  },
  {
   "cell_type": "markdown",
   "metadata": {},
   "source": [
    "### 8. What day of the week was your day of birth?"
   ]
  },
  {
   "cell_type": "code",
   "execution_count": null,
   "metadata": {},
   "outputs": [],
   "source": [
    "import datetime\n",
    "\n",
    "d = datetime.date(1983, 1, 30)\n",
    "print(d)\n",
    "print('my week of birth: ', d.isocalendar()[1])\n",
    "\n"
   ]
  },
  {
   "cell_type": "markdown",
   "metadata": {},
   "source": [
    "### 9. When will you be (or when were you) 10,000 days old?"
   ]
  },
  {
   "cell_type": "code",
   "execution_count": null,
   "metadata": {},
   "outputs": [],
   "source": [
    "from datetime import date\n",
    "from datetime import timedelta\n",
    "\n",
    "delta = timedelta(days=10000) # creating timedelta \n",
    "# d0 = date.today()           # creating today date\n",
    "d1 = date(1983, 1, 30)\n",
    "\n",
    "d2 = d1 + delta\n",
    "#print(delta.days)\n",
    "print(d2)\n",
    "#type(delta)"
   ]
  }
 ],
 "metadata": {
  "kernelspec": {
   "display_name": "Python 3",
   "language": "python",
   "name": "python3"
  },
  "language_info": {
   "codemirror_mode": {
    "name": "ipython",
    "version": 3
   },
   "file_extension": ".py",
   "mimetype": "text/x-python",
   "name": "python",
   "nbconvert_exporter": "python",
   "pygments_lexer": "ipython3",
   "version": "3.8.3"
  }
 },
 "nbformat": 4,
 "nbformat_minor": 4
}
