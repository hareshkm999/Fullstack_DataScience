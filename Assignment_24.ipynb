{
 "cells": [
  {
   "cell_type": "markdown",
   "metadata": {},
   "source": [
    "# Assignment_24\n"
   ]
  },
  {
   "cell_type": "markdown",
   "metadata": {},
   "source": [
    "### 1. What is the relationship between def statements and lambda expressions ?"
   ]
  },
  {
   "cell_type": "markdown",
   "metadata": {},
   "source": [
    "#### Def is used to define user define function with function name, but lambda expression is used to define anonemous function with no name"
   ]
  },
  {
   "cell_type": "markdown",
   "metadata": {},
   "source": [
    "#### The only difference is that (a) the body of a lambda can consist of only a single expression, the result of which is returned from the function created and (b) a lambda expression is an expression which evaluates to a function object, while a def statement has no value, and creates a function object and binds it to a name."
   ]
  },
  {
   "cell_type": "markdown",
   "metadata": {},
   "source": [
    "### 2. What is the benefit of lambda?"
   ]
  },
  {
   "cell_type": "markdown",
   "metadata": {},
   "source": [
    "#### Lambda frees up your programming resources by taking over the infrastructure management, allowing them to focus more on innovation and development of business logic."
   ]
  },
  {
   "cell_type": "markdown",
   "metadata": {},
   "source": [
    "### 3. Compare and contrast map, filter, and reduce."
   ]
  },
  {
   "cell_type": "markdown",
   "metadata": {},
   "source": [
    "#### reduce() works differently than map() and filter() . It does not return a new list based on the function and iterable we've passed. Instead, it returns a single value. ... reduce() works by calling the function we passed for the first two items in the sequence."
   ]
  },
  {
   "cell_type": "markdown",
   "metadata": {},
   "source": [
    "### 4. What are function annotations, and how are they used?"
   ]
  },
  {
   "cell_type": "markdown",
   "metadata": {},
   "source": [
    "#### Basics of Function Annotations\n",
    "Let’s understand some basics of function annotations −\n",
    "\n",
    "Function annotations are completely optional both for parameters and return value.\n",
    "\n",
    "Function annotations provide a way of associating various parts of a function with arbitrary python expressions at compile time.\n",
    "\n",
    "The PEP-3107 makes no attempt to introduce any kind of standard semantics, even for the built-in types. All this work left to the third-party libraries."
   ]
  },
  {
   "cell_type": "markdown",
   "metadata": {},
   "source": [
    "### 5. What are recursive functions, and how are they used?"
   ]
  },
  {
   "cell_type": "markdown",
   "metadata": {},
   "source": [
    "#### A recursive function is a function that calls itself during its execution. The process may repeat several times, outputting the result and the end of each iteration. The function Count() below uses recursion to count from any number between 1 and 9, to the number 10."
   ]
  },
  {
   "cell_type": "markdown",
   "metadata": {},
   "source": [
    "### 6. What are some general design guidelines for coding functions?"
   ]
  },
  {
   "cell_type": "markdown",
   "metadata": {},
   "source": [
    "#### Some of the coding standards are given below:\n",
    "Limited use of globals: ...\n",
    "Standard headers for different modules: ...\n",
    "Naming conventions for local variables, global variables, constants and functions: ...\n",
    "Indentation: ...\n",
    "Error return values and exception handling conventions:"
   ]
  },
  {
   "cell_type": "markdown",
   "metadata": {},
   "source": [
    "### 7. Name three or more ways that functions can communicate results to a caller."
   ]
  },
  {
   "cell_type": "code",
   "execution_count": 6,
   "metadata": {},
   "outputs": [],
   "source": [
    "import turtle\n",
    "__import__(\"turtle\").__traceable__ = False\n",
    "\n",
    "\n",
    "def make_window(colr, ttle):\n",
    "    \"\"\"\n",
    "      Set up the window with the given background color and title.\n",
    "      Returns the new window.\n",
    "    \"\"\"\n",
    "    w = turtle.Screen()\n",
    "    w.bgcolor(colr)\n",
    "    w.title(ttle)\n",
    "    return w\n",
    "\n",
    "\n",
    "def make_turtle(colr, sz):\n",
    "    \"\"\"\n",
    "      Set up a turtle with the given color and pensize.\n",
    "      Returns the new turtle.\n",
    "    \"\"\"\n",
    "    t = turtle.Turtle()\n",
    "    t.color(colr)\n",
    "    t.pensize(sz)\n",
    "    return t\n",
    "\n",
    "\n",
    "wn = make_window(\"lightgreen\", \"Tess and Alex dancing\")\n",
    "tess = make_turtle(\"hotpink\", 5)\n",
    "alex = make_turtle(\"black\", 1)\n",
    "dave = make_turtle(\"yellow\", 2)"
   ]
  },
  {
   "cell_type": "code",
   "execution_count": null,
   "metadata": {},
   "outputs": [],
   "source": []
  }
 ],
 "metadata": {
  "kernelspec": {
   "display_name": "Python 3",
   "language": "python",
   "name": "python3"
  },
  "language_info": {
   "codemirror_mode": {
    "name": "ipython",
    "version": 3
   },
   "file_extension": ".py",
   "mimetype": "text/x-python",
   "name": "python",
   "nbconvert_exporter": "python",
   "pygments_lexer": "ipython3",
   "version": "3.8.3"
  }
 },
 "nbformat": 4,
 "nbformat_minor": 4
}
