{
 "cells": [
  {
   "cell_type": "markdown",
   "metadata": {},
   "source": [
    "# Programming_Assingment5"
   ]
  },
  {
   "cell_type": "markdown",
   "metadata": {},
   "source": [
    "### 1.\tWrite a Python Program to Find LCM?"
   ]
  },
  {
   "cell_type": "code",
   "execution_count": 31,
   "metadata": {},
   "outputs": [
    {
     "name": "stdout",
     "output_type": "stream",
     "text": [
      "2 3 4\n",
      "LCM of arr1 elements: 12\n"
     ]
    }
   ],
   "source": [
    "#Program to find LCM for n Numbers\n",
    "\n",
    "# importing the module\n",
    "import math\n",
    "import numpy as np\n",
    "\n",
    "# taking input from user\n",
    "list1 = list(map(int, input().split()))\n",
    "\n",
    "# converting list to array\n",
    "arr = numpy.array(list1)\n",
    "\n",
    "# function to calculate LCM\n",
    "def LCMofArray(a):\n",
    "    lcm = a[0]\n",
    "    for i in range(1,len(a)):\n",
    "        lcm = lcm*a[i]//math.gcd(lcm, a[i])\n",
    "    return lcm\n",
    "\n",
    "\n",
    "\n",
    "\n",
    "print(\"LCM of arr1 elements:\", LCMofArray(arr))\n"
   ]
  },
  {
   "cell_type": "markdown",
   "metadata": {},
   "source": [
    "### 2.\tWrite a Python Program to Find HCF?"
   ]
  },
  {
   "cell_type": "code",
   "execution_count": 40,
   "metadata": {},
   "outputs": [
    {
     "name": "stdout",
     "output_type": "stream",
     "text": [
      "400 500 600\n",
      "HCF of given list of number is :  100\n"
     ]
    }
   ],
   "source": [
    "def find_gcd(x, y):\n",
    "    while(y):\n",
    "        x, y = y, x % y\n",
    "  \n",
    "    return x\n",
    "      \n",
    "      \n",
    "l = [5, 20, 50, 21]\n",
    "list2 = list(map(int, input().split()))\n",
    "  \n",
    "num1=list2[0]\n",
    "num2=list2[1]\n",
    "gcd=find_gcd(num1,num2)\n",
    "  \n",
    "for i in range(2,len(list2)):\n",
    "    gcd=find_gcd(gcd,list2[i])\n",
    "      \n",
    "print(\"HCF of given list of number is : \",gcd)"
   ]
  },
  {
   "cell_type": "markdown",
   "metadata": {},
   "source": [
    "### 3.\tWrite a Python Program to Convert Decimal to Binary, Octal and Hexadecimal?"
   ]
  },
  {
   "cell_type": "code",
   "execution_count": 43,
   "metadata": {},
   "outputs": [
    {
     "name": "stdout",
     "output_type": "stream",
     "text": [
      "Enter number : 150\n",
      "For the decimal value of 150 :\n",
      "binary value is :  0b10010110\n",
      "octal number is : 0o226\n",
      "hexadecimal is :  0x96\n"
     ]
    }
   ],
   "source": [
    "# Python program to convert decimal into Binary, Octal and Hexa number systems\n",
    "int1 = int(input(\"Enter number : \"))\n",
    "\n",
    "print(\"For the decimal value of\", int1, \":\")\n",
    "print(\"binary value is : \", bin(int1))\n",
    "print( \"octal number is :\", oct(int1))\n",
    "print( \"hexadecimal is : \", hex(int1))"
   ]
  },
  {
   "cell_type": "markdown",
   "metadata": {},
   "source": [
    "### 4.\tWrite a Python Program To Find ASCII value of a character?"
   ]
  },
  {
   "cell_type": "code",
   "execution_count": 72,
   "metadata": {},
   "outputs": [
    {
     "name": "stdout",
     "output_type": "stream",
     "text": [
      "Enter value : q\n",
      "ASCII value of a charecter :  113\n"
     ]
    }
   ],
   "source": [
    "try:\n",
    "    word = input(\"Enter value : \")\n",
    "    print(\"ASCII value of a charecter : \", ord(word))\n",
    "except:\n",
    "    print(\"Expecting charecter\")\n",
    "    \n"
   ]
  },
  {
   "cell_type": "markdown",
   "metadata": {},
   "source": [
    "### 5.\tWrite a Python Program to Make a Simple Calculator with 4 basic mathematical operations?"
   ]
  },
  {
   "cell_type": "code",
   "execution_count": 80,
   "metadata": {},
   "outputs": [
    {
     "name": "stdout",
     "output_type": "stream",
     "text": [
      "Select operation.\n",
      "1.Add\n",
      "2.Subtract\n",
      "3.Multiply\n",
      "4.Divide\n",
      "Enter choice(1/2/3/4): 4\n",
      "Enter first number: 4\n",
      "Enter second number: 5\n",
      "4.0 / 5.0 = 0.8\n"
     ]
    }
   ],
   "source": [
    "# Program make a simple calculator\n",
    "\n",
    "# This function adds two numbers\n",
    "def add(x, y):\n",
    "    return x + y\n",
    "\n",
    "# This function subtracts two numbers\n",
    "def subtract(x, y):\n",
    "    return x - y\n",
    "\n",
    "# This function multiplies two numbers\n",
    "def multiply(x, y):\n",
    "    return x * y\n",
    "\n",
    "# This function divides two numbers\n",
    "def divide(x, y):\n",
    "    return x / y\n",
    "\n",
    "\n",
    "print(\"Select operation.\")\n",
    "print(\"1.Add\")\n",
    "print(\"2.Subtract\")\n",
    "print(\"3.Multiply\")\n",
    "print(\"4.Divide\")\n",
    "\n",
    "while True:\n",
    "    # Take input from the user\n",
    "    choice = input(\"Enter choice(1/2/3/4): \")\n",
    "\n",
    "    # Check if choice is one of the four options\n",
    "   \n",
    "    if choice in ('1', '2', '3', '4'):\n",
    "        num1 = float(input(\"Enter first number: \"))\n",
    "        num2 = float(input(\"Enter second number: \"))\n",
    "\n",
    "        if choice == '1':\n",
    "            print(num1, \"+\", num2, \"=\", add(num1, num2))\n",
    "\n",
    "        elif choice == '2':\n",
    "            print(num1, \"-\", num2, \"=\", subtract(num1, num2))\n",
    "\n",
    "        elif choice == '3':\n",
    "            print(num1, \"*\", num2, \"=\", multiply(num1, num2))\n",
    "\n",
    "        elif choice == '4':\n",
    "            print(num1, \"/\", num2, \"=\", divide(num1, num2))\n",
    "        break\n",
    "    else:\n",
    "        print(\"Invalid Input\")\n"
   ]
  },
  {
   "cell_type": "code",
   "execution_count": null,
   "metadata": {},
   "outputs": [],
   "source": []
  }
 ],
 "metadata": {
  "kernelspec": {
   "display_name": "Python 3",
   "language": "python",
   "name": "python3"
  },
  "language_info": {
   "codemirror_mode": {
    "name": "ipython",
    "version": 3
   },
   "file_extension": ".py",
   "mimetype": "text/x-python",
   "name": "python",
   "nbconvert_exporter": "python",
   "pygments_lexer": "ipython3",
   "version": "3.8.3"
  }
 },
 "nbformat": 4,
 "nbformat_minor": 4
}
