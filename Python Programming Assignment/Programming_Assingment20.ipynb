{
 "cells": [
  {
   "cell_type": "markdown",
   "metadata": {},
   "source": [
    "## Programming_Assingment20"
   ]
  },
  {
   "cell_type": "markdown",
   "metadata": {},
   "source": [
    "### Question1\n",
    "Create a function that takes a list of strings and integers, and filters out the list so that it returns a list of integers only.\n",
    "Examples\n",
    "\n",
    "\n",
    "filter_list([1, 2, 3, \"a\", \"b\", 4]) ➞ [1, 2, 3, 4]\n",
    "\n",
    "filter_list([\"A\", 0, \"Edabit\", 1729, \"Python\", \"1729\"]) ➞ [0, 1729]\n",
    "\n",
    "filter_list([\"Nothing\", \"here\"]) ➞ []\n"
   ]
  },
  {
   "cell_type": "code",
   "execution_count": 19,
   "metadata": {},
   "outputs": [
    {
     "name": "stdout",
     "output_type": "stream",
     "text": [
      "filtered numeric list :  [0, 1, 2, 5]\n"
     ]
    }
   ],
   "source": [
    "def filter_list(list1):\n",
    "    list11 = []\n",
    "    for i in range(len(list1)):\n",
    "        if type(list1[i]) == int:\n",
    "            list11.append(i)\n",
    "    return list11\n",
    "\n",
    "list111 = filter_list([1, 2, 3, \"a\", \"b\", 4])\n",
    "print(\"filtered numeric list : \", list111)\n",
    "          "
   ]
  },
  {
   "cell_type": "markdown",
   "metadata": {},
   "source": [
    "### Question2\n",
    "Given a list of numbers, create a function which returns the list but with each element's index in the list added to itself. This means you add 0 to the number at index 0, add 1 to the number at index 1, etc...\n",
    "\n",
    "\n",
    "Examples\n",
    "\n",
    "add_indexes([0, 0, 0, 0, 0]) ➞ [0, 1, 2, 3, 4]\n",
    "\n",
    "add_indexes([1, 2, 3, 4, 5]) ➞ [1, 3, 5, 7, 9]\n",
    "\n",
    "add_indexes([5, 4, 3, 2, 1]) ➞ [5, 5, 5, 5, 5]\n"
   ]
  },
  {
   "cell_type": "code",
   "execution_count": 30,
   "metadata": {},
   "outputs": [
    {
     "name": "stdout",
     "output_type": "stream",
     "text": [
      "Result is :  [0, 1, 2, 3, 4]\n",
      "Result is :  [1, 3, 5, 7, 9]\n",
      "Result is :  [5, 5, 5, 5, 5]\n"
     ]
    }
   ],
   "source": [
    "def add_indexes(list2):\n",
    "    list22 = []\n",
    "    for i in range(len(list2)):\n",
    "        list22.append(i + list2[i])\n",
    "    return list22\n",
    "\n",
    "print(\"Result is : \", add_indexes([0, 0, 0, 0, 0]))   \n",
    "\n",
    "print(\"Result is : \", add_indexes([1, 2, 3, 4, 5]))   \n",
    "\n",
    "print(\"Result is : \", add_indexes([5, 4, 3, 2, 1])) "
   ]
  },
  {
   "cell_type": "markdown",
   "metadata": {},
   "source": [
    "### Question3\n",
    "Create a function that takes the height and radius of a cone as arguments and returns the volume of the cone rounded to the nearest hundredth. See the resources tab for the formula.\n",
    " \n",
    "Examples\n",
    "\n",
    "\n",
    "cone_volume(3, 2) ➞ 12.57\n",
    "\n",
    "cone_volume(15, 6) ➞ 565.49\n",
    "\n",
    "cone_volume(18, 0) ➞ 0\n"
   ]
  },
  {
   "cell_type": "code",
   "execution_count": 35,
   "metadata": {},
   "outputs": [
    {
     "name": "stdout",
     "output_type": "stream",
     "text": [
      "cone volume is :  12.57\n"
     ]
    }
   ],
   "source": [
    "import math\n",
    "\n",
    "def cone_volume(h, r):\n",
    "    return (math.pi*(r**2)*(h/3))\n",
    "\n",
    "print(\"cone volume is : \", round(cone_volume(3, 2), 2))"
   ]
  },
  {
   "cell_type": "markdown",
   "metadata": {},
   "source": [
    "### Question4\n",
    "This Triangular Number Sequence is generated from a pattern of dots that form a triangle. The first 5 numbers of the sequence, or dots, are: \n",
    "1, 3, 6, 10, 15\n",
    "\n",
    "This means that the first triangle has just one dot, the second one has three dots, the third one has 6 dots and so on.\n",
    "Write a function that gives the number of dots with its corresponding triangle number of the sequence.\n",
    "\n",
    "Examples\n",
    "\n",
    "triangle(1) ➞ 1\n",
    "\n",
    "triangle(6) ➞ 21\n",
    "\n",
    "triangle(215) ➞ 23220\n"
   ]
  },
  {
   "cell_type": "code",
   "execution_count": 43,
   "metadata": {},
   "outputs": [
    {
     "name": "stdout",
     "output_type": "stream",
     "text": [
      "number of dot for triangula number 1 is 1.0\n",
      "number of dot for triangula number 6 is 21.0\n",
      "number of dot for triangula number 215 is 23220.0\n"
     ]
    }
   ],
   "source": [
    "## formula  (n)(n + 1) / 2\n",
    "\n",
    "def triangle(n):\n",
    "    return n*(n+1)/2\n",
    "print(\"number of dot for triangula number {} is {}\".format(1, triangle(1)))\n",
    "print(\"number of dot for triangula number {} is {}\".format(6, triangle(6)))\n",
    "print(\"number of dot for triangula number {} is {}\".format(215, triangle(215)))"
   ]
  },
  {
   "cell_type": "markdown",
   "metadata": {},
   "source": [
    "### Question5\n",
    "\n",
    "Create a function that takes a list of numbers between 1 and 10 (excluding one number) and returns the missing number.\n",
    "\n",
    "Examples\n",
    "\n",
    "missing_num([1, 2, 3, 4, 6, 7, 8, 9, 10]) ➞ 5\n",
    "\n",
    "missing_num([7, 2, 3, 6, 5, 9, 1, 4, 8]) ➞ 10\n",
    "\n",
    "missing_num([10, 5, 1, 2, 4, 6, 8, 3, 9]) ➞ 7\n",
    "\n"
   ]
  },
  {
   "cell_type": "code",
   "execution_count": 76,
   "metadata": {},
   "outputs": [
    {
     "name": "stdout",
     "output_type": "stream",
     "text": [
      "[5]\n"
     ]
    }
   ],
   "source": [
    "# Python3 program to Find missing \n",
    "# integers in list\n",
    "          \n",
    "def find_missing(lst):\n",
    "    return [x for x in range(lst[0], lst[-1]+1) \n",
    "                               if x not in lst]\n",
    "  \n",
    "# Driver code\n",
    "lst = [1, 2, 3, 4, 6, 7, 8, 9, 10]\n",
    "lst.sort()\n",
    "print(find_missing(lst))"
   ]
  }
 ],
 "metadata": {
  "kernelspec": {
   "display_name": "Python 3",
   "language": "python",
   "name": "python3"
  },
  "language_info": {
   "codemirror_mode": {
    "name": "ipython",
    "version": 3
   },
   "file_extension": ".py",
   "mimetype": "text/x-python",
   "name": "python",
   "nbconvert_exporter": "python",
   "pygments_lexer": "ipython3",
   "version": "3.8.3"
  }
 },
 "nbformat": 4,
 "nbformat_minor": 4
}
