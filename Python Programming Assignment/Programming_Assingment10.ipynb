{
 "cells": [
  {
   "cell_type": "markdown",
   "metadata": {},
   "source": [
    "## Programming_Assingment10"
   ]
  },
  {
   "cell_type": "markdown",
   "metadata": {},
   "source": [
    "### 1.\tWrite a Python program to find sum of elements in list?"
   ]
  },
  {
   "cell_type": "code",
   "execution_count": 9,
   "metadata": {},
   "outputs": [
    {
     "name": "stdout",
     "output_type": "stream",
     "text": [
      "enter value : 1\n",
      "enter value : 2\n",
      "enter value : 3\n",
      "enter value : 6\n",
      "enter value : 5\n",
      "Elements of list : [1, 2, 3, 6, 5], there sum is 17 \n"
     ]
    }
   ],
   "source": [
    "list1 = []\n",
    "for i in range(5):\n",
    "    a = int(input(\"enter value : \"))\n",
    "    list1.append(a)\n",
    "sum1 = 0\n",
    "for j in list1:\n",
    "    sum1 = sum1 + j\n",
    "print(\"Elements of list : {}, there sum is {} \".format(list1, sum1))"
   ]
  },
  {
   "cell_type": "markdown",
   "metadata": {},
   "source": [
    "### 2.\tWrite a Python program to  Multiply all numbers in the list?"
   ]
  },
  {
   "cell_type": "code",
   "execution_count": 12,
   "metadata": {},
   "outputs": [
    {
     "name": "stdout",
     "output_type": "stream",
     "text": [
      "enter value : 1\n",
      "enter value : 2\n",
      "enter value : 3\n",
      "enter value : 4\n",
      "enter value : 5\n",
      "Elements of list : [1, 2, 3, 4, 5], there sum is 120 \n"
     ]
    }
   ],
   "source": [
    "list2 = []\n",
    "for i in range(5):\n",
    "    a = int(input(\"enter value : \"))\n",
    "    list2.append(a)\n",
    "sum2 = 1\n",
    "for j in list2:\n",
    "    sum2 = sum2 * j\n",
    "print(\"Elements of list : {}, there sum is {} \".format(list2, sum2))"
   ]
  },
  {
   "cell_type": "markdown",
   "metadata": {},
   "source": [
    "### 3.\tWrite a Python program to find smallest number in a list?"
   ]
  },
  {
   "cell_type": "code",
   "execution_count": 17,
   "metadata": {},
   "outputs": [
    {
     "name": "stdout",
     "output_type": "stream",
     "text": [
      "enter value : 12\n",
      "enter value : 21\n",
      "enter value : 13\n",
      "enter value : 11\n",
      "enter value : 56\n",
      "Elements of list are [12, 21, 13, 11, 56], minimum number amoong the list is 11\n"
     ]
    }
   ],
   "source": [
    "list3 = []\n",
    "for i in range(5):\n",
    "    a = int(input(\"enter value : \"))\n",
    "    list3.append(a)\n",
    "print(\"Elements of list are {}, minimum number amoong the list is {}\".format(list3, min(list3)))"
   ]
  },
  {
   "cell_type": "markdown",
   "metadata": {},
   "source": [
    "### 4.\tWrite a Python program to find largest number in a list?"
   ]
  },
  {
   "cell_type": "code",
   "execution_count": 18,
   "metadata": {},
   "outputs": [
    {
     "name": "stdout",
     "output_type": "stream",
     "text": [
      "enter value : 22\n",
      "enter value : 55\n",
      "enter value : 33\n",
      "enter value : 99\n",
      "enter value : 88\n",
      "Elements of list are [22, 55, 33, 99, 88], largest number amoong the list is 99\n"
     ]
    }
   ],
   "source": [
    "list4 = []\n",
    "for i in range(5):\n",
    "    a = int(input(\"enter value : \"))\n",
    "    list4.append(a)\n",
    "print(\"Elements of list are {}, largest number amoong the list is {}\".format(list4, max(list4)))"
   ]
  },
  {
   "cell_type": "markdown",
   "metadata": {},
   "source": [
    "### 5.\tWrite a Python program to find second largest number in a list?"
   ]
  },
  {
   "cell_type": "code",
   "execution_count": 42,
   "metadata": {},
   "outputs": [
    {
     "name": "stdout",
     "output_type": "stream",
     "text": [
      "enter value : 88\n",
      "enter value : 99\n",
      "enter value : 77\n",
      "enter value : 66\n",
      "enter value : 55\n",
      "Sorted elements of list are [55, 66, 77, 88, 99], Second largest number among the list is 88\n"
     ]
    }
   ],
   "source": [
    "list5 = []\n",
    "for i in range(5):\n",
    "    a = int(input(\"enter value : \"))\n",
    "    list5.append(a)\n",
    "list5.sort()\n",
    "print(\"Sorted elements of list are {}, Second largest number among the list is {}\".format(list5, list5[-2]))"
   ]
  },
  {
   "cell_type": "markdown",
   "metadata": {},
   "source": [
    "### 6.\tWrite a Python program to find N largest elements from a list?"
   ]
  },
  {
   "cell_type": "code",
   "execution_count": 47,
   "metadata": {},
   "outputs": [
    {
     "name": "stdout",
     "output_type": "stream",
     "text": [
      "enter list of n numbers by giving space :  55 33 88 99 44 55\n",
      "Elements of list are [55, 33, 88, 99, 44, 55], largest number amoong the list is 99\n"
     ]
    }
   ],
   "source": [
    "# list taking input from user\n",
    "list6 = list(map(int, input(\"enter list of n numbers by giving space :  \").split()))\n",
    "\n",
    "print(\"Elements of list are {}, largest number amoong the list is {}\".format(list6, max(list6)))\n",
    "\n",
    "    "
   ]
  },
  {
   "cell_type": "markdown",
   "metadata": {},
   "source": [
    "### 7.\tWrite a Python program to print even numbers in a list?"
   ]
  },
  {
   "cell_type": "code",
   "execution_count": 51,
   "metadata": {},
   "outputs": [
    {
     "name": "stdout",
     "output_type": "stream",
     "text": [
      "enter list of n numbers by giving space :  1 3 5 6 9 8 7\n",
      "Elements of list are [1, 3, 5, 6, 9, 8, 7], Even number amoong the list are [6, 8]\n"
     ]
    }
   ],
   "source": [
    "# list taking input from user\n",
    "list7 = list(map(int, input(\"enter list of n numbers by giving space :  \").split()))\n",
    "list8 = []\n",
    "for i in list7:\n",
    "    if i%2==0:\n",
    "        list8.append(i)\n",
    "print(\"Elements of list are {}, Even number amoong the list are {}\".format(list7, list8))"
   ]
  },
  {
   "cell_type": "markdown",
   "metadata": {},
   "source": [
    "### 8.\tWrite a Python program to print odd numbers in a List?"
   ]
  },
  {
   "cell_type": "code",
   "execution_count": 53,
   "metadata": {},
   "outputs": [
    {
     "name": "stdout",
     "output_type": "stream",
     "text": [
      "enter list of n numbers by giving space :  1 3 2 6 5 9 87 4\n",
      "Elements of list are [1, 3, 2, 6, 5, 9, 87, 4], Even number amoong the list are [1, 3, 5, 9, 87]\n"
     ]
    }
   ],
   "source": [
    "# list taking input from user\n",
    "list9 = list(map(int, input(\"enter list of n numbers by giving space :  \").split()))\n",
    "list10 = []\n",
    "for i in list9:\n",
    "    if i%2!=0:\n",
    "        list10.append(i)\n",
    "print(\"Elements of list are {}, Even number amoong the list are {}\".format(list9, list10))"
   ]
  },
  {
   "cell_type": "markdown",
   "metadata": {},
   "source": [
    "### 9.\tWrite a Python program to Remove empty List from List?"
   ]
  },
  {
   "cell_type": "code",
   "execution_count": 54,
   "metadata": {},
   "outputs": [
    {
     "data": {
      "text/plain": [
       "['text', 'text2', 'moreText']"
      ]
     },
     "execution_count": 54,
     "metadata": {},
     "output_type": "execute_result"
    }
   ],
   "source": [
    "list1 = [[], [], [], [], [], 'text', 'text2', [], 'moreText']\n",
    "list2 = [e for e in list1 if e]\n",
    "list2"
   ]
  },
  {
   "cell_type": "markdown",
   "metadata": {},
   "source": [
    "### 10.\tWrite a Python program to Cloning or Copying a list?"
   ]
  },
  {
   "cell_type": "code",
   "execution_count": 60,
   "metadata": {},
   "outputs": [
    {
     "name": "stdout",
     "output_type": "stream",
     "text": [
      "enter list of n numbers by giving space :  5 6 8 9 7 \n",
      "List before copy []\n",
      "List after copy [5, 6, 8, 9, 7]\n"
     ]
    }
   ],
   "source": [
    "# list taking input from user\n",
    "list10 = list(map(int, input(\"enter list of n numbers by giving space :  \").split()))\n",
    "list11 = []\n",
    "print(\"List before copy\", list11)\n",
    "list11 = list10\n",
    "print(\"List after copy\", list11)"
   ]
  },
  {
   "cell_type": "markdown",
   "metadata": {},
   "source": [
    "### 11.\tWrite a Python program to Count occurrences of an element in a list?"
   ]
  },
  {
   "cell_type": "code",
   "execution_count": 75,
   "metadata": {},
   "outputs": [
    {
     "name": "stdout",
     "output_type": "stream",
     "text": [
      "enter list of n numbers by giving space :  4 6 5 6 5 8 9 3 5 6 4 7 9\n",
      "For the element 5, count of element is 3\n",
      "For the element 9, count of element is 2\n",
      "For the element 8, count of element is 1\n",
      "For the element 9, count of element is 2\n",
      "For the element 8, count of element is 1\n",
      "For the element 5, count of element is 3\n",
      "For the element 6, count of element is 3\n",
      "For the element 6, count of element is 3\n",
      "For the element 8, count of element is 1\n",
      "For the element 9, count of element is 2\n",
      "For the element 5, count of element is 3\n",
      "For the element 3, count of element is 1\n",
      "For the element 6, count of element is 3\n"
     ]
    }
   ],
   "source": [
    "# list taking input from user\n",
    "list12 = list(map(int, input(\"enter list of n numbers by giving space :  \").split()))\n",
    "for i in list12:\n",
    "    print(\"For the element {}, count of element is {}\".format(list12[i],list12.count(list12[i])))"
   ]
  },
  {
   "cell_type": "code",
   "execution_count": null,
   "metadata": {},
   "outputs": [],
   "source": []
  }
 ],
 "metadata": {
  "kernelspec": {
   "display_name": "Python 3",
   "language": "python",
   "name": "python3"
  },
  "language_info": {
   "codemirror_mode": {
    "name": "ipython",
    "version": 3
   },
   "file_extension": ".py",
   "mimetype": "text/x-python",
   "name": "python",
   "nbconvert_exporter": "python",
   "pygments_lexer": "ipython3",
   "version": "3.8.3"
  }
 },
 "nbformat": 4,
 "nbformat_minor": 4
}
