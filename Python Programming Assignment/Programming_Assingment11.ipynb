{
 "cells": [
  {
   "cell_type": "markdown",
   "metadata": {},
   "source": [
    "## Programming_Assingment11"
   ]
  },
  {
   "cell_type": "markdown",
   "metadata": {},
   "source": [
    "### 1.\tWrite a Python program to find words which are greater than given length k?"
   ]
  },
  {
   "cell_type": "code",
   "execution_count": 19,
   "metadata": {},
   "outputs": [
    {
     "name": "stdout",
     "output_type": "stream",
     "text": [
      "Enter sentence of your choice :Lou Spence (1917–1950) was a fighter pilot and squadron commander in the Royal Australian Air Force during World War II and the Korean War. In 1941 he was posted to North Africa with No. 3 Squadron, which operated P-40 Tomahawks and Kittyhawks; he was credited with shooting down two German aircraft and earned the Distinguished Flying Cross (DFC).\n",
      "Enter word length : 5\n",
      "\n",
      " \n",
      " List of words greater than given word length :  ['Spence', 'fighter', 'squadron', 'commander', 'Australian', 'during', 'Korean', 'posted', 'Africa', 'Squadron', 'operated', 'Tomahawks', 'Kittyhawks', 'credited', 'shooting', 'German', 'aircraft', 'earned', 'Distinguished', 'Flying']\n"
     ]
    }
   ],
   "source": [
    "import re\n",
    "str1 = str(input(\"Enter sentence of your choice :\"))\n",
    "# Removing Punctuation From a String\n",
    "s1 = re.sub(\"[^A-Za-z\" \"]+\",\" \", str1)\n",
    "#spliting string into words and make list of word\n",
    "list1 = s1.split(' ')\n",
    "# finding word greater than k length\n",
    "list11 = []\n",
    "k = int(input(\"Enter word length : \"))\n",
    "for i in list1:\n",
    "    if len(i)>k:\n",
    "        list11.append(i)\n",
    "print(\"\\n \\n List of words greater than given word length : \", list11)\n",
    "\n",
    "    \n"
   ]
  },
  {
   "cell_type": "markdown",
   "metadata": {},
   "source": [
    "### 2.\tWrite a Python program for removing i-th character from a string?"
   ]
  },
  {
   "cell_type": "code",
   "execution_count": 37,
   "metadata": {},
   "outputs": [
    {
     "name": "stdout",
     "output_type": "stream",
     "text": [
      "Enter string : Tomahawks\n",
      "Enter i-th charecter from word starting for 0 to 9 :  0\n"
     ]
    },
    {
     "data": {
      "text/plain": [
       "'omahawks'"
      ]
     },
     "execution_count": 37,
     "metadata": {},
     "output_type": "execute_result"
    }
   ],
   "source": [
    "str2 = input(\"Enter string : \")\n",
    "n = int(input(\"Enter i-th charecter from word starting for 0 to {} :  \".format(len(str2))))\n",
    "str2.replace(str2[n], '')\n",
    "\n"
   ]
  },
  {
   "cell_type": "markdown",
   "metadata": {},
   "source": [
    "### 3.\tWrite a Python program to split and join a string?"
   ]
  },
  {
   "cell_type": "code",
   "execution_count": 40,
   "metadata": {},
   "outputs": [
    {
     "name": "stdout",
     "output_type": "stream",
     "text": [
      "Enter string : welcome to my world\n",
      "Splitted string is ['welcome', 'to', 'my', 'world'], joined string is welcome-to-my-world\n"
     ]
    }
   ],
   "source": [
    "str3 = input(\"Enter string : \")\n",
    "\n",
    "def split(string):\n",
    "    # Split the string based on space delimiter\n",
    "    list_string = string.split(' ')\n",
    "    return list_string\n",
    "\n",
    "def join(list_string):\n",
    "    # Join the string based on '-' delimiter\n",
    "    string = '-'.join(list_string)\n",
    "    return string\n",
    "split_string = split(str3)\n",
    "join_string = join(split_string)\n",
    "\n",
    "print(\"Splitted string is {}, joined string is {}\".format(split_string, join_string))"
   ]
  },
  {
   "cell_type": "markdown",
   "metadata": {},
   "source": [
    "### 4.\tWrite a Python to check if a given string is binary string or not?"
   ]
  },
  {
   "cell_type": "code",
   "execution_count": 55,
   "metadata": {},
   "outputs": [
    {
     "name": "stdout",
     "output_type": "stream",
     "text": [
      "Enter a string : 0110101001\n",
      "Given string is Binary\n"
     ]
    }
   ],
   "source": [
    "str4 = input(\"Enter a string : \")\n",
    "\n",
    "set4 = set(str4)\n",
    "set41 = {'0', '1'}\n",
    "if set4 == set41 or set4 == {'0'} or set4 == {'1'}:\n",
    "    print('Given string is Binary')\n",
    "else:\n",
    "    print('given string not binary')\n",
    "        \n",
    "    "
   ]
  },
  {
   "cell_type": "markdown",
   "metadata": {},
   "source": [
    "### 5.\tWrite a Python program to find uncommon words from two Strings?"
   ]
  },
  {
   "cell_type": "code",
   "execution_count": 58,
   "metadata": {},
   "outputs": [
    {
     "name": "stdout",
     "output_type": "stream",
     "text": [
      "Enter first sentence :   Haresh is good\n",
      "Enter second sentence :  Haresh is great\n",
      "Un-Common words are :  ['good', 'great']\n"
     ]
    }
   ],
   "source": [
    "def uncommonwords(str1, str2):\n",
    "  \n",
    "    # count will contain all the word counts\n",
    "    count = {}\n",
    "      \n",
    "    # insert words of string1 to hash\n",
    "    for word in str1.split():\n",
    "        count[word] = count.get(word, 0) + 1\n",
    "      \n",
    "    # insert words of string2 to hash\n",
    "    for word in str2.split():\n",
    "        count[word] = count.get(word, 0) + 1\n",
    "  \n",
    "    # return required list of words\n",
    "    return [word for word in count if count[word] == 1]\n",
    "\n",
    "str1 = input(\"Enter first sentence :   \")\n",
    "str2 = input(\"Enter second sentence :  \")\n",
    "\n",
    "print(\"Un-Common words are : \", uncommonwords(str1, str2))"
   ]
  },
  {
   "cell_type": "markdown",
   "metadata": {},
   "source": [
    "### 6.\tWrite a Python to find all duplicate characters in string?"
   ]
  },
  {
   "cell_type": "code",
   "execution_count": 67,
   "metadata": {},
   "outputs": [
    {
     "name": "stdout",
     "output_type": "stream",
     "text": [
      "Enter a string : haresh\n",
      "h\n"
     ]
    }
   ],
   "source": [
    "str6 = input(\"Enter a string : \")\n",
    "for i in range(0, len(str6)):\n",
    "    count = 1\n",
    "    for j in range(i+1, len(str6)):\n",
    "        if(str6[i] == str6[j] and str6[i] != ' '):\n",
    "            count = count + 1\n",
    "            str6 = str6[:j] + '0' + str6[j+1:]\n",
    "            #A character is considered as duplicate if count is greater than 1  \n",
    "            if(count > 1 and str6[i] != '0'):  \n",
    "                print(str6[i])\n",
    "    "
   ]
  },
  {
   "cell_type": "markdown",
   "metadata": {},
   "source": [
    "### 7.\tWrite a Python Program to check if a string contains any special character?"
   ]
  },
  {
   "cell_type": "code",
   "execution_count": 82,
   "metadata": {},
   "outputs": [
    {
     "name": "stdout",
     "output_type": "stream",
     "text": [
      "Please Enter a String : \n",
      "@hareh$$\n",
      "Yes string contains special charecters\n"
     ]
    }
   ],
   "source": [
    "import re\n",
    "s1 = input(\"Please Enter a String : \\n\")\n",
    "s2 = re.sub(\"[@_!#$%^&*()<>?/\\|}{~:]\",\"\", s1)\n",
    "\n",
    "if (s1==s2):\n",
    "    print(\"no special charecters in string\")\n",
    "else:\n",
    "    print(\"Yes string contains special charecters\")"
   ]
  }
 ],
 "metadata": {
  "kernelspec": {
   "display_name": "Python 3",
   "language": "python",
   "name": "python3"
  },
  "language_info": {
   "codemirror_mode": {
    "name": "ipython",
    "version": 3
   },
   "file_extension": ".py",
   "mimetype": "text/x-python",
   "name": "python",
   "nbconvert_exporter": "python",
   "pygments_lexer": "ipython3",
   "version": "3.8.3"
  }
 },
 "nbformat": 4,
 "nbformat_minor": 4
}
