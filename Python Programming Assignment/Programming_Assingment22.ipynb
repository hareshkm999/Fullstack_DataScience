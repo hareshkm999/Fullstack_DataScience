{
 "cells": [
  {
   "cell_type": "markdown",
   "metadata": {},
   "source": [
    "## Programming_Assingment22"
   ]
  },
  {
   "cell_type": "markdown",
   "metadata": {},
   "source": [
    "### Question1\n",
    "Create a function that takes three parameters where:\n",
    "•\tx is the start of the range (inclusive).\n",
    "•\ty is the end of the range (inclusive).\n",
    "•\tn is the divisor to be checked against.\n",
    "Return an ordered list with numbers in the range that are divisible by the third parameter n. Return an empty list if there are no numbers that are divisible by n.\n",
    "\n",
    "Examples\n",
    "\n",
    "list_operation(1, 10, 3) ➞ [3, 6, 9]\n",
    "\n",
    "list_operation(7, 9, 2) ➞ [8]\n",
    "\n",
    "list_operation(15, 20, 7) ➞ []\n"
   ]
  },
  {
   "cell_type": "code",
   "execution_count": 5,
   "metadata": {},
   "outputs": [
    {
     "name": "stdout",
     "output_type": "stream",
     "text": [
      "list_operation(1, 10, 3) ➞  [3, 6, 9]\n",
      "list_operation(7, 9, 2) ➞  [8]\n",
      "list_operation(15, 20, 7) ➞  []\n"
     ]
    }
   ],
   "source": [
    "def list_operation(x,y,n):\n",
    "    list1 = []\n",
    "    for i in range(x, y):\n",
    "        if i%n==0:\n",
    "            list1.append(i)\n",
    "    return list1\n",
    "print(\"list_operation(1, 10, 3) ➞ \", list_operation(1, 10, 3))\n",
    "\n",
    "print(\"list_operation(7, 9, 2) ➞ \", list_operation(7, 9, 2))\n",
    "\n",
    "print(\"list_operation(15, 20, 7) ➞ \", list_operation(15, 20, 7))"
   ]
  },
  {
   "cell_type": "markdown",
   "metadata": {},
   "source": [
    "### Question2\n",
    "Create a function that takes in two lists and returns True if the second list follows the first list by one element, and False otherwise. In other words, determine if the second list is the first list shifted to the right by 1.\n",
    "\n",
    "Examples\n",
    "\n",
    "simon_says([1, 2], [5, 1]) ➞ True\n",
    "\n",
    "simon_says([1, 2], [5, 5]) ➞ False\n",
    "\n",
    "simon_says([1, 2, 3, 4, 5], [0, 1, 2, 3, 4]) ➞ True\n",
    "\n",
    "simon_says([1, 2, 3, 4, 5], [5, 5, 1, 2, 3]) ➞ False\n",
    "\n",
    "Notes\n",
    "\n",
    "•\tBoth input lists will be of the same length, and will have a minimum length of 2.\n",
    "•\tThe values of the 0-indexed element in the second list and the n-1th indexed element in the first list do not matter.\n"
   ]
  },
  {
   "cell_type": "code",
   "execution_count": 43,
   "metadata": {},
   "outputs": [],
   "source": [
    "def simon_says(list21, list22):\n",
    "    list23 = []\n",
    "    for i in range(0, len(list21)-1):\n",
    "        if list21[i]==list22[i+1]:\n",
    "            list23.append(True)\n",
    "        else:\n",
    "            list23.append(False)\n",
    "\n",
    "    if sum(list23)==len(list23):\n",
    "        return True\n",
    "    else:\n",
    "        return False\n",
    "    "
   ]
  },
  {
   "cell_type": "code",
   "execution_count": 44,
   "metadata": {},
   "outputs": [
    {
     "name": "stdout",
     "output_type": "stream",
     "text": [
      "simon_says([1, 2], [5, 1]) ➞  True\n",
      "simon_says([1, 2], [5, 5]) ➞  False\n",
      "simon_says([1, 2, 3, 4, 5], [0, 1, 2, 3, 4]) ➞  True\n",
      "simon_says([1, 2, 3, 4, 5], [5, 5, 1, 2, 3]) ➞  False\n"
     ]
    }
   ],
   "source": [
    "print(\"simon_says([1, 2], [5, 1]) ➞ \", simon_says([1, 2], [5, 1]))\n",
    "print(\"simon_says([1, 2], [5, 5]) ➞ \", simon_says([1, 2], [5, 5]))\n",
    "print(\"simon_says([1, 2, 3, 4, 5], [0, 1, 2, 3, 4]) ➞ \", simon_says([1, 2, 3, 4, 5], [0, 1, 2, 3, 4]))\n",
    "print(\"simon_says([1, 2, 3, 4, 5], [5, 5, 1, 2, 3]) ➞ \", simon_says([1, 2, 3, 4, 5], [5, 5, 1, 2, 3]))"
   ]
  },
  {
   "cell_type": "markdown",
   "metadata": {},
   "source": [
    "### Question3\n",
    "A group of friends have decided to start a secret society. The name will be the first letter of each of their names, sorted in alphabetical order.\n",
    "Create a function that takes in a list of names and returns the name of the secret society.\n",
    "\n",
    "Examples\n",
    "\n",
    "society_name([\"Adam\", \"Sarah\", \"Malcolm\"]) ➞ \"AMS\"\n",
    "\n",
    "society_name([\"Harry\", \"Newt\", \"Luna\", \"Cho\"]) ➞ \"CHLN\"\n",
    "\n",
    "society_name([\"Phoebe\", \"Chandler\", \"Rachel\", \"Ross\", \"Monica\", \"Joey\"])\n",
    "\n"
   ]
  },
  {
   "cell_type": "code",
   "execution_count": 76,
   "metadata": {},
   "outputs": [
    {
     "name": "stdout",
     "output_type": "stream",
     "text": [
      "AMS\n",
      "CHLN\n",
      "CJMPRR\n"
     ]
    }
   ],
   "source": [
    "def society_name(str31):\n",
    "    list31 = []\n",
    "    for i in range(len(str31)):\n",
    "        list31.append(str31[i][0])\n",
    "    list31.sort()\n",
    "    new = ''\n",
    "    for i in list31:\n",
    "        new += i\n",
    "    return new\n",
    "\n",
    "\n",
    "print(society_name([\"Adam\", \"Sarah\", \"Malcolm\"]))\n",
    "print(society_name([\"Harry\", \"Newt\", \"Luna\", \"Cho\"]))\n",
    "print(society_name([\"Phoebe\", \"Chandler\", \"Rachel\", \"Ross\", \"Monica\", \"Joey\"]))"
   ]
  },
  {
   "cell_type": "markdown",
   "metadata": {},
   "source": [
    "### Question4\n",
    "An isogram is a word that has no duplicate letters. Create a function that takes a string and returns either True or False depending on whether or not it's an \"isogram\".\n",
    "Examples\n",
    "is_isogram(\"Algorism\") ➞ True\n",
    "\n",
    "is_isogram(\"PasSword\") ➞ False\n",
    "# Not case sensitive.\n",
    "\n",
    "is_isogram(\"Consecutive\") ➞ False\n",
    "Notes\n",
    "•\tIgnore letter case (should not be case sensitive).\n",
    "•\tAll test cases contain valid one word strings.\n"
   ]
  },
  {
   "cell_type": "code",
   "execution_count": 86,
   "metadata": {},
   "outputs": [],
   "source": [
    "def is_isogram(word):\n",
    "  \n",
    "    # Convert the word or sentence in lower case letters.\n",
    "    clean_word = word.lower()\n",
    "  \n",
    "    # Make an empty list to append unique letters\n",
    "    letter_list = []\n",
    "  \n",
    "    for letter in clean_word:\n",
    "  \n",
    "        # If letter is an alphabet then only check\n",
    "        if letter.isalpha():\n",
    "            if letter in letter_list:\n",
    "                return False\n",
    "            letter_list.append(letter)\n",
    "  \n",
    "    return True"
   ]
  },
  {
   "cell_type": "code",
   "execution_count": 91,
   "metadata": {},
   "outputs": [
    {
     "name": "stdout",
     "output_type": "stream",
     "text": [
      "True\n"
     ]
    }
   ],
   "source": [
    "print(is_isogram(\"Algorism\"))"
   ]
  },
  {
   "cell_type": "code",
   "execution_count": 92,
   "metadata": {},
   "outputs": [
    {
     "name": "stdout",
     "output_type": "stream",
     "text": [
      "False\n"
     ]
    }
   ],
   "source": [
    "print(is_isogram(\"PasSword\"))"
   ]
  },
  {
   "cell_type": "markdown",
   "metadata": {},
   "source": [
    "### Question5\n",
    "Create a function that takes a string and returns True or False, depending on whether the characters are in order or not.\n",
    "\n",
    "Examples\n",
    "\n",
    "is_in_order(\"abc\") ➞ True\n",
    "\n",
    "is_in_order(\"edabit\") ➞ False\n",
    "\n",
    "is_in_order(\"123\") ➞ True\n",
    "\n",
    "is_in_order(\"xyzz\") ➞ True\n",
    "\n",
    "Notes\n",
    "\n",
    "You don't have to handle empty strings.\n"
   ]
  },
  {
   "cell_type": "code",
   "execution_count": 121,
   "metadata": {},
   "outputs": [
    {
     "name": "stdout",
     "output_type": "stream",
     "text": [
      "True\n",
      "False\n",
      "True\n",
      "True\n"
     ]
    }
   ],
   "source": [
    "def is_in_order(string):\n",
    "    string.lower()\n",
    "    return (''.join(sorted(string)) == string)\n",
    "\n",
    "print(is_in_order(\"abc\")) \n",
    "print(is_in_order(\"edabit\"))\n",
    "print(is_in_order(\"123\"))\n",
    "print(is_in_order(\"xyzz\")) "
   ]
  },
  {
   "cell_type": "code",
   "execution_count": null,
   "metadata": {},
   "outputs": [],
   "source": []
  }
 ],
 "metadata": {
  "kernelspec": {
   "display_name": "Python 3",
   "language": "python",
   "name": "python3"
  },
  "language_info": {
   "codemirror_mode": {
    "name": "ipython",
    "version": 3
   },
   "file_extension": ".py",
   "mimetype": "text/x-python",
   "name": "python",
   "nbconvert_exporter": "python",
   "pygments_lexer": "ipython3",
   "version": "3.8.3"
  }
 },
 "nbformat": 4,
 "nbformat_minor": 4
}
