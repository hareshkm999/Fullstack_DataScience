{
 "cells": [
  {
   "cell_type": "markdown",
   "metadata": {},
   "source": [
    "# Programming_Assingment17"
   ]
  },
  {
   "cell_type": "markdown",
   "metadata": {},
   "source": [
    "### Question1. Create a function that takes three arguments a, b, c and returns the sum of the numbers that are evenly divided by c from the range a, b inclusive.\n",
    "Examples\n",
    "evenly_divisible(1, 10, 20) ➞ 0\n",
    "# No number between 1 and 10 can be evenly divided by 20.\n",
    "\n",
    "evenly_divisible(1, 10, 2) ➞ 30\n",
    "# 2 + 4 + 6 + 8 + 10 = 30\n",
    "\n",
    "evenly_divisible(1, 10, 3) ➞ 18\n",
    "# 3 + 6 + 9 = 18\n"
   ]
  },
  {
   "cell_type": "code",
   "execution_count": 10,
   "metadata": {},
   "outputs": [
    {
     "name": "stdout",
     "output_type": "stream",
     "text": [
      "Enter the starting number : 1\n",
      "Enter the ending number : 10\n",
      "Enter the divisible : 2\n",
      "Divisble range sum is given by :  30\n"
     ]
    }
   ],
   "source": [
    "num1 = int(input(\"Enter the starting number : \"))\n",
    "num2 = int(input(\"Enter the ending number : \"))\n",
    "num3 = int(input(\"Enter the divisible : \"))\n",
    "\n",
    "def divisible_sum(num1, num2, num3):\n",
    "    sum = 0\n",
    "    for i in range(num1,num2+1):\n",
    "        if i%num3 == 0:\n",
    "            sum += i\n",
    "    return sum\n",
    "\n",
    "print(\"Divisble range sum is given by : \", divisible_sum(num1, num2, num3))"
   ]
  },
  {
   "cell_type": "markdown",
   "metadata": {},
   "source": [
    "### Question2.Create a function that returns True if a given inequality expression is correct and False otherwise.\n",
    "Examples\n",
    "correct_signs(\"3 < 7 < 11\") ➞ True\n",
    "\n",
    "correct_signs(\"13 > 44 > 33 > 1\") ➞ False\n",
    "\n",
    "correct_signs(\"1 < 2 < 6 < 9 > 3\") ➞ True\n"
   ]
  },
  {
   "cell_type": "code",
   "execution_count": 69,
   "metadata": {},
   "outputs": [
    {
     "data": {
      "text/plain": [
       "True"
      ]
     },
     "execution_count": 69,
     "metadata": {},
     "output_type": "execute_result"
    }
   ],
   "source": [
    "#list2 = list(map(str, input(\"enter list of n numbers by giving space :  \").split()))\n",
    "\n",
    "(3 < 7 < 11)\n"
   ]
  },
  {
   "cell_type": "markdown",
   "metadata": {},
   "source": [
    "### Question3.Create a function that replaces all the vowels in a string with a specified character.\n",
    "Examples\n",
    "replace_vowels(\"the aardvark\", \"#\") ➞ \"th# ##rdv#rk\"\n",
    "\n",
    "replace_vowels(\"minnie mouse\", \"?\") ➞ \"m?nn?? m??s?\"\n",
    "\n",
    "replace_vowels(\"shakespeare\", \"*\") ➞ \"sh*k*sp**r*\"\n",
    "\n"
   ]
  },
  {
   "cell_type": "code",
   "execution_count": 81,
   "metadata": {},
   "outputs": [
    {
     "name": "stdout",
     "output_type": "stream",
     "text": [
      "please String : shakespeare\n",
      "please Enter special charecter :*\n",
      "Replaced String is :  sh*k*sp**r*\n"
     ]
    }
   ],
   "source": [
    "def replace_vowels(str3, str4):\n",
    "    vowels = set(\"aeiouAEIOU\")\n",
    "    str6 = \"\".join(s if s not in vowels else str4 for s in str3)\n",
    "    return str6\n",
    "\n",
    "replace_vowels(\"the aardvark\", '@')\n",
    "\n",
    "str3 = input(\"please String : \")\n",
    "str4 = input(\"please Enter special charecter :\")\n",
    "print(\"Replaced String is : \", replace_vowels(str3, str4))"
   ]
  },
  {
   "cell_type": "markdown",
   "metadata": {},
   "source": [
    "### Question4.Write a function that calculates the factorial of a number recursively.\n",
    "Examples\n",
    "factorial(5) ➞ 120\n",
    "\n",
    "factorial(3) ➞ 6\n",
    "\n",
    "factorial(1) ➞ 1\n",
    "\n",
    "factorial(0) ➞ 1\n",
    "\n",
    "\n"
   ]
  },
  {
   "cell_type": "code",
   "execution_count": 99,
   "metadata": {},
   "outputs": [
    {
     "name": "stdout",
     "output_type": "stream",
     "text": [
      "Enter an Integer number : 5\n",
      "Factorial value of given number is :  120\n"
     ]
    }
   ],
   "source": [
    "def factorial(num):\n",
    "    if (num==1):\n",
    "        return num\n",
    "    else:\n",
    "        return factorial(num-1)*num\n",
    "\n",
    "n = int(input(\"Enter an Integer number : \"))\n",
    "\n",
    "print(\"Factorial value of given number is : \", factorial(n))"
   ]
  },
  {
   "cell_type": "markdown",
   "metadata": {},
   "source": [
    "### Question 5\n",
    "Hamming distance is the number of characters that differ between two strings.\n",
    "To illustrate:\n",
    "String1: \"abcbba\"\n",
    "String2: \"abcbda\"\n",
    "\n",
    "Hamming Distance: 1 - \"b\" vs. \"d\" is the only difference.\n",
    "Create a function that computes the hamming distance between two strings\n"
   ]
  },
  {
   "cell_type": "code",
   "execution_count": 117,
   "metadata": {},
   "outputs": [
    {
     "name": "stdout",
     "output_type": "stream",
     "text": [
      "Enter string1 : abcbba\n",
      "Enter string2 : abcbda\n",
      "Hamming distance :  1\n"
     ]
    }
   ],
   "source": [
    "def hamming_distance(chaine1, chaine2):\n",
    "    sum = 0\n",
    "    for i in [c1 != c2 for c1, c2 in zip('abcbba', 'abcbda')]:\n",
    "        sum = sum + i\n",
    "    return sum\n",
    "\n",
    "c1 = input(\"Enter string1 : \")\n",
    "c2 = input(\"Enter string2 : \")\n",
    "\n",
    "print(\"Hamming distance : \", sum)"
   ]
  },
  {
   "cell_type": "code",
   "execution_count": null,
   "metadata": {},
   "outputs": [],
   "source": []
  }
 ],
 "metadata": {
  "kernelspec": {
   "display_name": "Python 3",
   "language": "python",
   "name": "python3"
  },
  "language_info": {
   "codemirror_mode": {
    "name": "ipython",
    "version": 3
   },
   "file_extension": ".py",
   "mimetype": "text/x-python",
   "name": "python",
   "nbconvert_exporter": "python",
   "pygments_lexer": "ipython3",
   "version": "3.8.3"
  }
 },
 "nbformat": 4,
 "nbformat_minor": 4
}
