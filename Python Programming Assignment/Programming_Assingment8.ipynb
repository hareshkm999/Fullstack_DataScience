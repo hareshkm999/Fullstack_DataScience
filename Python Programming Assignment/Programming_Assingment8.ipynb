{
 "cells": [
  {
   "cell_type": "markdown",
   "metadata": {},
   "source": [
    "# Programming_Assingment8"
   ]
  },
  {
   "cell_type": "markdown",
   "metadata": {},
   "source": [
    "### 1.\tWrite a Python Program to Add Two Matrices?"
   ]
  },
  {
   "cell_type": "code",
   "execution_count": 10,
   "metadata": {},
   "outputs": [
    {
     "name": "stdout",
     "output_type": "stream",
     "text": [
      "[10, 10, 10]\n",
      "[10, 10, 10]\n",
      "[10, 10, 10]\n"
     ]
    }
   ],
   "source": [
    "X = [[1,2,3],\n",
    "    [4 ,5,6],\n",
    "    [7 ,8,9]]\n",
    " \n",
    "Y = [[9,8,7],\n",
    "    [6,5,4],\n",
    "    [3,2,1]]\n",
    " \n",
    "result = [[0,0,0],\n",
    "        [0,0,0],\n",
    "        [0,0,0]]\n",
    "\n",
    "# iterate through rows\n",
    "for i in range(len(X)):  \n",
    "# iterate through columns\n",
    "    for j in range(len(X[0])):\n",
    "        result[i][j] = X[i][j] + Y[i][j]\n",
    " \n",
    "for r in result:\n",
    "    print(r)"
   ]
  },
  {
   "cell_type": "markdown",
   "metadata": {},
   "source": [
    "### 2.\tWrite a Python Program to Multiply Two Matrices?"
   ]
  },
  {
   "cell_type": "code",
   "execution_count": 12,
   "metadata": {},
   "outputs": [
    {
     "name": "stdout",
     "output_type": "stream",
     "text": [
      "[114, 160, 60, 27]\n",
      "[74, 97, 73, 14]\n",
      "[119, 157, 112, 23]\n"
     ]
    }
   ],
   "source": [
    "# Program to multiply two matrices using nested loops\n",
    "\n",
    "# 3x3 matrix\n",
    "X = [[12,7,3],\n",
    "    [4 ,5,6],\n",
    "    [7 ,8,9]]\n",
    "# 3x4 matrix\n",
    "Y = [[5,8,1,2],\n",
    "    [6,7,3,0],\n",
    "    [4,5,9,1]]\n",
    "# result is 3x4\n",
    "result = [[0,0,0,0],\n",
    "         [0,0,0,0],\n",
    "         [0,0,0,0]]\n",
    "\n",
    "# iterate through rows of X\n",
    "for i in range(len(X)):\n",
    "   # iterate through columns of Y\n",
    "   for j in range(len(Y[0])):\n",
    "       # iterate through rows of Y\n",
    "       for k in range(len(Y)):\n",
    "            result[i][j] += X[i][k] * Y[k][j]\n",
    "\n",
    "for r in result:\n",
    "    print(r)"
   ]
  },
  {
   "cell_type": "markdown",
   "metadata": {},
   "source": [
    "### 3.\tWrite a Python Program to Transpose a Matrix?"
   ]
  },
  {
   "cell_type": "code",
   "execution_count": 17,
   "metadata": {},
   "outputs": [
    {
     "name": "stdout",
     "output_type": "stream",
     "text": [
      "Given Matrix :  [[12, 7], [4, 5], [3, 8]]\n",
      "Transposed Output is : \n",
      "[12, 4, 3]\n",
      "[7, 5, 8]\n"
     ]
    }
   ],
   "source": [
    "# Program to transpose a matrix using a nested loop\n",
    "\n",
    "X = [[12,7],\n",
    "    [4 ,5],\n",
    "    [3 ,8]]\n",
    "\n",
    "result = [[0,0,0],\n",
    "         [0,0,0]]\n",
    "\n",
    "print(\"Given Matrix : \", X)\n",
    "print(\"Transposed Output is : \")\n",
    "# iterate through rows\n",
    "for i in range(len(X)):\n",
    "   # iterate through columns\n",
    "   for j in range(len(X[0])):\n",
    "        result[j][i] = X[i][j]\n",
    "\n",
    "for r in result:\n",
    "    print(r)"
   ]
  },
  {
   "cell_type": "markdown",
   "metadata": {},
   "source": [
    "### 4.\tWrite a Python Program to Sort Words in Alphabetic Order?"
   ]
  },
  {
   "cell_type": "code",
   "execution_count": 52,
   "metadata": {},
   "outputs": [
    {
     "name": "stdout",
     "output_type": "stream",
     "text": [
      "Enter elements of a list separated by space ha ne sa li\n",
      "\n",
      "\n",
      "['ha', 'ne', 'sa', 'li']\n",
      "Alphabetical order ['ha', 'li', 'ne', 'sa']\n"
     ]
    }
   ],
   "source": [
    "input_string = input('Enter elements of a list separated by space ')\n",
    "print(\"\\n\")\n",
    "l1 = list(input_string.split())\n",
    "#l1 = input()\n",
    "#l1\n",
    "#l1 = ['HARESH', 'shaanu', 'Neerja', 'liya']\n",
    "print(l1)\n",
    "l1.sort()\n",
    "print(\"Alphabetical order\", l1)"
   ]
  },
  {
   "cell_type": "markdown",
   "metadata": {},
   "source": [
    "### 5.\tWrite a Python Program to Remove Punctuation From a String?"
   ]
  },
  {
   "cell_type": "code",
   "execution_count": 69,
   "metadata": {},
   "outputs": [
    {
     "name": "stdout",
     "output_type": "stream",
     "text": [
      "Please Enter a String : \n",
      "Hello!!! @ how are you now?\n",
      "String after removing Punctuation : \n",
      " Hello how are you now \n"
     ]
    }
   ],
   "source": [
    "import re\n",
    "s1 = input(\"Please Enter a String : \\n\")\n",
    "s1 = re.sub(\"[^A-Za-z\" \"]+\",\" \", s1)\n",
    "print(\"String after removing Punctuation : \\n\", s1)"
   ]
  },
  {
   "cell_type": "code",
   "execution_count": null,
   "metadata": {},
   "outputs": [],
   "source": []
  }
 ],
 "metadata": {
  "kernelspec": {
   "display_name": "Python 3",
   "language": "python",
   "name": "python3"
  },
  "language_info": {
   "codemirror_mode": {
    "name": "ipython",
    "version": 3
   },
   "file_extension": ".py",
   "mimetype": "text/x-python",
   "name": "python",
   "nbconvert_exporter": "python",
   "pygments_lexer": "ipython3",
   "version": "3.8.3"
  }
 },
 "nbformat": 4,
 "nbformat_minor": 4
}
