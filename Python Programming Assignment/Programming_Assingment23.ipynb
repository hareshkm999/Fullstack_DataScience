{
 "cells": [
  {
   "cell_type": "markdown",
   "metadata": {},
   "source": [
    "## Programming_Assingment23"
   ]
  },
  {
   "cell_type": "markdown",
   "metadata": {},
   "source": [
    "### Question 1\n",
    "Create a function that takes a number as an argument and returns True or False depending on whether the number is symmetrical or not. A number is symmetrical when it is the same as its reverse.\n",
    "\n",
    "Examples\n",
    "\n",
    "is_symmetrical(7227) ➞ True\n",
    "\n",
    "is_symmetrical(12567) ➞ False\n",
    "\n",
    "is_symmetrical(44444444) ➞ True\n",
    "\n",
    "is_symmetrical(9939) ➞ False\n",
    "\n",
    "is_symmetrical(1112111) ➞ True\n",
    "\n"
   ]
  },
  {
   "cell_type": "code",
   "execution_count": 15,
   "metadata": {},
   "outputs": [
    {
     "name": "stdout",
     "output_type": "stream",
     "text": [
      "is_symmetrical(7227) ➞ :  True\n",
      "is_symmetrical(12567) ➞ False\n",
      "is_symmetrical(44444444) ➞  True\n",
      "is_symmetrical(9939) ➞  False\n",
      "is_symmetrical(1112111) ➞  True\n"
     ]
    }
   ],
   "source": [
    "def is_symmetrical(number):\n",
    "    number = str(number)\n",
    "    return number == str(number)[::-1]\n",
    "\n",
    "print(\"is_symmetrical(7227) ➞ : \", is_symmetrical(7227))\n",
    "print(\"is_symmetrical(12567) ➞\", is_symmetrical(12567))\n",
    "print(\"is_symmetrical(44444444) ➞ \", is_symmetrical(44444444))\n",
    "print(\"is_symmetrical(9939) ➞ \", is_symmetrical(9939))\n",
    "print(\"is_symmetrical(1112111) ➞ \", is_symmetrical(1112111))"
   ]
  },
  {
   "cell_type": "markdown",
   "metadata": {},
   "source": [
    "### Question 2\n",
    "Given a string of numbers separated by a comma and space, return the product of the numbers.\n",
    "\n",
    "Examples\n",
    "\n",
    "multiply_nums(\"2, 3\") ➞ 6\n",
    "\n",
    "multiply_nums(\"1, 2, 3, 4\") ➞ 24\n",
    "\n",
    "multiply_nums(\"54, 75, 453, 0\") ➞ 0\n",
    "\n",
    "multiply_nums(\"10, -2\") ➞ -20\n"
   ]
  },
  {
   "cell_type": "code",
   "execution_count": 30,
   "metadata": {},
   "outputs": [
    {
     "name": "stdout",
     "output_type": "stream",
     "text": [
      "6\n",
      "24\n",
      "0\n",
      "-20\n"
     ]
    }
   ],
   "source": [
    "def multiply_nums(string):\n",
    "    #creating list by spliting string containing numbers\n",
    "    l1 = string.split(\", \")\n",
    "    prod = 1\n",
    "    for i in l1:\n",
    "        prod*=int(i)\n",
    "    return prod\n",
    "\n",
    "print(multiply_nums(\"2, 3\"))\n",
    "print(multiply_nums(\"1, 2, 3, 4\"))\n",
    "print(multiply_nums(\"54, 75, 453, 0\"))\n",
    "print(multiply_nums(\"10, -2\"))"
   ]
  },
  {
   "cell_type": "markdown",
   "metadata": {},
   "source": [
    "### Question 3\n",
    "Create a function that squares every digit of a number.\n",
    "\n",
    "Examples\n",
    "\n",
    "square_digits(9119) ➞ 811181\n",
    "\n",
    "square_digits(2483) ➞ 416649\n",
    "\n",
    "square_digits(3212) ➞ 9414\n",
    "\n",
    "Notes\n",
    "\n",
    "The function receives an integer and must return an integer.\n"
   ]
  },
  {
   "cell_type": "code",
   "execution_count": 44,
   "metadata": {},
   "outputs": [
    {
     "name": "stdout",
     "output_type": "stream",
     "text": [
      "9414"
     ]
    }
   ],
   "source": [
    "def square_digits(num):\n",
    "    words = list(str(num)) # split the text\n",
    "    for word in words:  # for each word in the line:\n",
    "        print(int(word)**2, end=\"\") # print the word\n",
    "\n",
    "#square_digits(9119)\n",
    "#square_digits(2483)\n",
    "square_digits(3212)"
   ]
  },
  {
   "cell_type": "markdown",
   "metadata": {},
   "source": [
    "### Question 4\n",
    "Create a function that sorts a list and removes all duplicate items from it.\n",
    "\n",
    "Examples\n",
    "\n",
    "setify([1, 3, 3, 5, 5]) ➞ [1, 3, 5]\n",
    "\n",
    "setify([4, 4, 4, 4]) ➞ [4]\n",
    "\n",
    "setify([5, 7, 8, 9, 10, 15]) ➞ [5, 7, 8, 9, 10, 15]\n",
    "\n",
    "setify([3, 3, 3, 2, 1]) ➞ [1, 2, 3]\n"
   ]
  },
  {
   "cell_type": "code",
   "execution_count": 53,
   "metadata": {},
   "outputs": [
    {
     "name": "stdout",
     "output_type": "stream",
     "text": [
      "setify([1, 3, 3, 5, 5]) :  [1, 3, 5]\n",
      "setify([4, 4, 4, 4]) ➞  [4]\n",
      "setify([5, 7, 8, 9, 10, 15]) ➞  [5, 7, 8, 9, 10, 15]\n",
      "setify([3, 3, 3, 2, 1]) ➞  [1, 2, 3]\n"
     ]
    }
   ],
   "source": [
    "def setify(list4):\n",
    "    set4 = set(list4)\n",
    "    return list(set4)\n",
    "\n",
    "print(\"setify([1, 3, 3, 5, 5]) : \", setify([1, 3, 3, 5, 5]) )\n",
    "print(\"setify([4, 4, 4, 4]) ➞ \", setify([4, 4, 4, 4]))\n",
    "print(\"setify([5, 7, 8, 9, 10, 15]) ➞ \", setify([5, 7, 8, 9, 10, 15]))\n",
    "print(\"setify([3, 3, 3, 2, 1]) ➞ \", setify([3, 3, 3, 2, 1]))"
   ]
  },
  {
   "cell_type": "markdown",
   "metadata": {},
   "source": [
    "### Question 5\n",
    "\n",
    "Create a function that returns the mean of all digits.\n",
    "\n",
    "Examples\n",
    "\n",
    "mean(42) ➞ 3\n",
    "\n",
    "mean(12345) ➞ 3\n",
    "\n",
    "mean(666) ➞ 6\n",
    "\n",
    "Notes\n",
    "•\tThe mean of all digits is the sum of digits / how many digits there are (e.g. mean of digits in 512 is (5+1+2)/3(number of digits) = 8/3=2).\n",
    "\n",
    "•\tThe mean will always be an integer.\n",
    "\n"
   ]
  },
  {
   "cell_type": "code",
   "execution_count": 82,
   "metadata": {},
   "outputs": [],
   "source": [
    "str5 = '666'"
   ]
  },
  {
   "cell_type": "code",
   "execution_count": 83,
   "metadata": {},
   "outputs": [
    {
     "data": {
      "text/plain": [
       "'6'"
      ]
     },
     "execution_count": 83,
     "metadata": {},
     "output_type": "execute_result"
    }
   ],
   "source": [
    "str5[1]"
   ]
  },
  {
   "cell_type": "code",
   "execution_count": 95,
   "metadata": {},
   "outputs": [
    {
     "name": "stdout",
     "output_type": "stream",
     "text": [
      "Enter a number : 42\n",
      "entered number is 42 and its mean is 3\n"
     ]
    }
   ],
   "source": [
    "str5 = input(\"Enter a number : \")\n",
    "\n",
    "def mean1(str5):\n",
    "    sum = 0\n",
    "    for i in range(len(str5)):\n",
    "        sum+=int(str5[i])\n",
    "    return int(round(sum/len(str5),0))\n",
    "print(\"entered number is {} and its mean is {}\".format(str5, mean1(str5)))\n"
   ]
  }
 ],
 "metadata": {
  "kernelspec": {
   "display_name": "Python 3",
   "language": "python",
   "name": "python3"
  },
  "language_info": {
   "codemirror_mode": {
    "name": "ipython",
    "version": 3
   },
   "file_extension": ".py",
   "mimetype": "text/x-python",
   "name": "python",
   "nbconvert_exporter": "python",
   "pygments_lexer": "ipython3",
   "version": "3.8.3"
  }
 },
 "nbformat": 4,
 "nbformat_minor": 4
}
