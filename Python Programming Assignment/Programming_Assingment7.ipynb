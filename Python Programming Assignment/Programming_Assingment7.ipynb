{
 "cells": [
  {
   "cell_type": "markdown",
   "metadata": {},
   "source": [
    "# Programming_Assingment7"
   ]
  },
  {
   "cell_type": "markdown",
   "metadata": {},
   "source": [
    "### 1.\tWrite a Python Program to find sum of array?"
   ]
  },
  {
   "cell_type": "code",
   "execution_count": 13,
   "metadata": {},
   "outputs": [
    {
     "name": "stdout",
     "output_type": "stream",
     "text": [
      "5 2 7 \n",
      "sum of elements array [5 2 7] is 14\n"
     ]
    }
   ],
   "source": [
    "import numpy as np\n",
    "# taking input from user\n",
    "list1 = list(map(int, input().split()))\n",
    "\n",
    "# converting list to array\n",
    "arr = np.array(list1)\n",
    "\n",
    "sum = 0\n",
    "for i in range(len(arr)):\n",
    "    sum = sum +arr[i]\n",
    "print(\"sum of elements array {} is {}\".format(arr, sum))\n",
    "    "
   ]
  },
  {
   "cell_type": "markdown",
   "metadata": {},
   "source": [
    "### 2.\tWrite a Python Program to find largest element in an array?"
   ]
  },
  {
   "cell_type": "code",
   "execution_count": 19,
   "metadata": {},
   "outputs": [
    {
     "name": "stdout",
     "output_type": "stream",
     "text": [
      "55 66 99 88\n",
      "Largest element given in array is 99\n"
     ]
    }
   ],
   "source": [
    "def largest(arr,n):\n",
    "   #maximum element\n",
    "   max = arr[0]\n",
    "   # traverse the whole loop\n",
    "   for i in range(1, n):\n",
    "        if arr[i] > max:\n",
    "            max = arr[i]\n",
    "   return max\n",
    "# Driver Code\n",
    "# taking input from user\n",
    "list1 = list(map(int, input().split()))\n",
    "# converting list to array\n",
    "arr = np.array(list1)\n",
    "\n",
    "n = len(arr)\n",
    "Ans = largest(arr,n)\n",
    "\n",
    "print (\"Largest element given in array is\",Ans)"
   ]
  },
  {
   "cell_type": "markdown",
   "metadata": {},
   "source": [
    "### 3.\tWrite a Python Program for array rotation?\n"
   ]
  },
  {
   "cell_type": "code",
   "execution_count": 39,
   "metadata": {},
   "outputs": [
    {
     "name": "stdout",
     "output_type": "stream",
     "text": [
      "Enter values of array : 2 3 4 5 6 9\n",
      "Enter Rotaion number: 3\n",
      "Arry of [2 3 4 5 6 9],  rotation by 3 is [4 5 6 9 2 3]\n"
     ]
    }
   ],
   "source": [
    "# taking input from user\n",
    "list1 = list(map(int, input(\"Enter values of array : \").split()))\n",
    "# converting list to array\n",
    "a = np.array(list1)\n",
    "\n",
    "# Rotation number\n",
    "r = int(input(\"Enter Rotation number: \"))\n",
    "\n",
    "print(\"Arry of {},  rotation by {} is {}\".format(a, r,np.roll(a, n)))"
   ]
  },
  {
   "cell_type": "markdown",
   "metadata": {},
   "source": [
    "### 4.\tWrite a Python Program to Split the array and add the first part to the end?"
   ]
  },
  {
   "cell_type": "code",
   "execution_count": 42,
   "metadata": {},
   "outputs": [
    {
     "name": "stdout",
     "output_type": "stream",
     "text": [
      "Enter values of array : 4 5 6 9 8 7\n",
      "Enter split position number: 4\n",
      "Arry of [4 5 6 9 8 7],  splitted at position 4 is [6 9 8 7 4 5]\n"
     ]
    }
   ],
   "source": [
    "# taking input from user\n",
    "list1 = list(map(int, input(\"Enter values of array : \").split()))\n",
    "# converting list to array\n",
    "a = np.array(list1)\n",
    "\n",
    "# Rotation number\n",
    "r = int(input(\"Enter split position number: \"))\n",
    "\n",
    "print(\"Arry of {},  splitted at position {} is {}\".format(a, r,np.roll(a, n)))"
   ]
  },
  {
   "cell_type": "markdown",
   "metadata": {},
   "source": [
    "### 5.\tWrite a Python Program to check if given array is Monotonic?"
   ]
  },
  {
   "cell_type": "code",
   "execution_count": 46,
   "metadata": {},
   "outputs": [
    {
     "name": "stdout",
     "output_type": "stream",
     "text": [
      "Enter values of array : 4 5 6 9\n",
      "True\n"
     ]
    }
   ],
   "source": [
    "def isMonotonic(A):\n",
    "    return (all(A[i] <= A[i + 1] for i in range(len(A) - 1)) or all(A[i] >= A[i + 1] for i in range(len(A) - 1)))\n",
    "# main\n",
    "#A = [1,2,3,4,7,8]\n",
    "# taking input from user\n",
    "list1 = list(map(int, input(\"Enter values of array : \").split()))\n",
    "# converting list to array\n",
    "a = np.array(list1)\n",
    "print(isMonotonic(a))"
   ]
  },
  {
   "cell_type": "code",
   "execution_count": null,
   "metadata": {},
   "outputs": [],
   "source": []
  },
  {
   "cell_type": "code",
   "execution_count": null,
   "metadata": {},
   "outputs": [],
   "source": []
  }
 ],
 "metadata": {
  "kernelspec": {
   "display_name": "Python 3",
   "language": "python",
   "name": "python3"
  },
  "language_info": {
   "codemirror_mode": {
    "name": "ipython",
    "version": 3
   },
   "file_extension": ".py",
   "mimetype": "text/x-python",
   "name": "python",
   "nbconvert_exporter": "python",
   "pygments_lexer": "ipython3",
   "version": "3.8.3"
  }
 },
 "nbformat": 4,
 "nbformat_minor": 4
}
